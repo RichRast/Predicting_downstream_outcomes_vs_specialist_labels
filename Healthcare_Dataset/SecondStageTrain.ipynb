{
 "cells": [
  {
   "cell_type": "markdown",
   "id": "97bd915b",
   "metadata": {},
   "source": [
    "For the cutoff model and LGBM_w_feat only"
   ]
  },
  {
   "cell_type": "code",
   "execution_count": null,
   "id": "d0c18f1e",
   "metadata": {},
   "outputs": [],
   "source": [
    "import numpy as np\n",
    "import pandas as pd\n",
    "import matplotlib\n",
    "import matplotlib.pyplot as plt\n",
    "import matplotlib.patches as mpatches\n",
    "from scipy import stats\n",
    "import seaborn as sns\n",
    "import os\n",
    "import os.path as osp\n",
    "import sys\n",
    "import pickle\n",
    "import joblib\n",
    "from collections import Counter\n",
    "from itertools import product\n",
    "import torch\n",
    "import pdb\n",
    "import random\n",
    "import tables\n",
    "from sklearn.linear_model import LogisticRegression, LinearRegression\n",
    "from datetime import datetime\n",
    "from sklearn.preprocessing import OneHotEncoder\n",
    "from sklearn.metrics import confusion_matrix, roc_auc_score, classification_report, average_precision_score,\\\n",
    "balanced_accuracy_score\n",
    "from lightgbm import LGBMClassifier, LGBMRegressor\n",
    "from sklearn.calibration import CalibratedClassifierCV\n",
    "import wandb\n",
    "from wandb.lightgbm import wandb_callback, log_summary\n",
    "from dill.source import getsource\n",
    "from dill import detect\n",
    "import functools\n",
    "from copy import deepcopy"
   ]
  },
  {
   "cell_type": "markdown",
   "id": "ca226e47",
   "metadata": {},
   "source": [
    "### set the seeds and change to current directory + set the output directory"
   ]
  },
  {
   "cell_type": "code",
   "execution_count": null,
   "id": "1dd8c25c",
   "metadata": {},
   "outputs": [],
   "source": [
    "SEED=42\n",
    "np.random.seed(SEED)\n",
    "os.environ['USER_PATH']='/share/pierson/selective_labels_data/hirid_data_analysis/richras_dir/learning_from_doctor_and_patient/'\n",
    "os.environ['OUT_PATH']='/share/pierson/selective_labels_data/hirid_data_analysis/richras_dir/learning_from_doctor_and_patient/output_directory'"
   ]
  },
  {
   "cell_type": "code",
   "execution_count": null,
   "id": "648e3b39",
   "metadata": {},
   "outputs": [],
   "source": [
    "os.chdir('/share/pierson/selective_labels_data/hirid_data_analysis/richras_dir/learning_from_doctor_and_patient/')\n",
    "from AnalysisFuncs import trainEvalModel, trainHardPseudo, secondStageDataGen\n",
    "from AnalysisFuncs import saveFile, loadFile, getClippedProbs, plotCalibrationPlots"
   ]
  },
  {
   "cell_type": "code",
   "execution_count": null,
   "id": "6a06c86c",
   "metadata": {},
   "outputs": [],
   "source": [
    "%reload_ext autoreload\n",
    "%autoreload 2"
   ]
  },
  {
   "cell_type": "markdown",
   "id": "cbc3ce23",
   "metadata": {},
   "source": [
    "### Create function to pickle functions"
   ]
  },
  {
   "cell_type": "code",
   "execution_count": null,
   "id": "75551144",
   "metadata": {},
   "outputs": [],
   "source": [
    "processed_data_path=osp.join(os.environ.get('USER_PATH'), 'HIRID_Repo', 'logs', 'benchmark_exp')"
   ]
  },
  {
   "cell_type": "code",
   "execution_count": null,
   "id": "a897016f",
   "metadata": {},
   "outputs": [],
   "source": [
    "test_X = loadFile(osp.join(processed_data_path,'LGBM_w_feat_v2_cutoff_T', \n",
    "                '_depth_7_subsample-data_1.0_subsample-feat_1.0', 'Lactate_Measured', '1111'), 'test_rep.pkl')\n",
    "test_ids = loadFile(osp.join(processed_data_path,'LGBM_w_feat_v2_cutoff_T', \n",
    "        '_depth_7_subsample-data_1.0_subsample-feat_1.0', 'Lactate_Measured', '1111'), 'test_patient_ids.pkl')"
   ]
  },
  {
   "cell_type": "code",
   "execution_count": null,
   "id": "b9a55a86",
   "metadata": {},
   "outputs": [],
   "source": [
    "calibrated_p_T = loadFile(osp.join(processed_data_path,'probs_T'), '/probs.npy')\n",
    "calibrated_p_D_T1 = loadFile(osp.join(processed_data_path,'probs_D|T'), '/probs.npy')"
   ]
  },
  {
   "cell_type": "code",
   "execution_count": null,
   "id": "a25e1a76",
   "metadata": {},
   "outputs": [],
   "source": [
    "assert len(calibrated_p_T)==len(test_X)==len(test_ids)==len(calibrated_p_D_T1)"
   ]
  },
  {
   "cell_type": "code",
   "execution_count": null,
   "id": "5d749ac3",
   "metadata": {},
   "outputs": [],
   "source": [
    "# check that these are indeed the calibrated probabilities \n",
    "fig1,ax1 = plt.subplots()\n",
    "fig2, ax2 = plt.subplots()\n",
    "test_y_T = loadFile(osp.join(processed_data_path,'LGBM_w_feat_v2_cutoff_T', \n",
    "                '_depth_7_subsample-data_1.0_subsample-feat_1.0', 'Lactate_Measured', '1111'), 'test_label.pkl')\n",
    "plotCalibrationPlots(calibrated_p_T, test_y_T, None, 'T', ax1, ax2, n_bins=10)\n",
    "fig1.show()\n",
    "fig2.show()\n",
    "plt.close()\n",
    "print(len(test_y_T))"
   ]
  },
  {
   "cell_type": "code",
   "execution_count": null,
   "id": "081e7199",
   "metadata": {},
   "outputs": [],
   "source": [
    "fig1,ax1 = plt.subplots()\n",
    "fig2, ax2 = plt.subplots()\n",
    "test_y_D_given_T = loadFile(osp.join(processed_data_path,'LGBM_w_feat_v2_cutoff_T', \n",
    "            '_depth_7_subsample-data_1.0_subsample-feat_1.0', 'Lactate_Above_Threshold', '1111'), 'test_label.pkl')\n",
    "plotCalibrationPlots(calibrated_p_D_T1[test_y_T==1], test_y_D_given_T, None, 'D|T', ax1, ax2, n_bins=10)\n",
    "fig1.show()\n",
    "fig2.show()\n",
    "plt.close()\n",
    "print(len(test_y_D_given_T))"
   ]
  },
  {
   "cell_type": "code",
   "execution_count": null,
   "id": "61188158",
   "metadata": {},
   "outputs": [],
   "source": [
    "train_second_stage, test_second_stage, _ = secondStageDataGen(test_ids,\n",
    "                                        calibrated_p_T.copy(), calibrated_p_D_T1.copy(), train_size=0.5)\n",
    "assert np.isnan(train_second_stage['D'][train_second_stage['T']==0]).all()\n",
    "assert np.isnan(test_second_stage['D'][test_second_stage['T']==0]).all()\n",
    "assert not np.isnan(train_second_stage['D'][train_second_stage['T']==1]).any()\n",
    "assert not np.isnan(test_second_stage['D'][test_second_stage['T']==1]).any()\n",
    "assert len(train_second_stage['T'])==len(train_second_stage['D'])==len(train_second_stage['D_and_T'])\n",
    "assert len(test_second_stage['T'])==len(test_second_stage['D'])==len(test_second_stage['D_and_T'])"
   ]
  },
  {
   "cell_type": "code",
   "execution_count": null,
   "id": "7d6767da",
   "metadata": {},
   "outputs": [],
   "source": [
    "np.isnan(train_second_stage['D'][train_second_stage['T']==1]).all()"
   ]
  },
  {
   "cell_type": "code",
   "execution_count": null,
   "id": "746292b8",
   "metadata": {},
   "outputs": [],
   "source": [
    "train_second_stage"
   ]
  },
  {
   "cell_type": "code",
   "execution_count": null,
   "id": "269aee50",
   "metadata": {},
   "outputs": [],
   "source": [
    "test_X_copy=test_X.copy()\n",
    "train_second_stage['X_T'] = test_X_copy[train_second_stage['idxs'],:]\n",
    "train_second_stage['X_D_T1'] = test_X_copy[train_second_stage['idxs'],:][train_second_stage['T']==1,:]\n",
    "train_second_stage['D_T1'] = train_second_stage['D'][train_second_stage['T']==1].astype(int)\n",
    "test_second_stage['X_T'] = test_X_copy[test_second_stage['idxs'],:]\n",
    "test_second_stage['X_D_T1'] = test_X_copy[test_second_stage['idxs']][test_second_stage['T']==1,:]\n",
    "test_second_stage['D_T1'] = test_second_stage['D'][test_second_stage['T']==1].astype(int)"
   ]
  },
  {
   "cell_type": "code",
   "execution_count": null,
   "id": "26ef5ebd",
   "metadata": {},
   "outputs": [],
   "source": [
    "train_second_stage['X_D_T1']"
   ]
  },
  {
   "cell_type": "code",
   "execution_count": null,
   "id": "332dd6d3",
   "metadata": {},
   "outputs": [],
   "source": [
    "print(\"for test train set\")\n",
    "print(f\"T % :{len(train_second_stage['T'][train_second_stage['T']==1])/len(train_second_stage['T'])}\")\n",
    "print(f\"D_T1 % :{len(train_second_stage['D_T1'][train_second_stage['D_T1']==1])/len(train_second_stage['D_T1'])}\")\n",
    "print(f\"D_and_T % :{len(train_second_stage['D_and_T'][train_second_stage['D_and_T']==1])/len(train_second_stage['D_and_T'])}\")\n",
    "print(\"for test test set\")\n",
    "print(f\"T % :{len(test_second_stage['T'][test_second_stage['T']==1])/len(test_second_stage['T'])}\")\n",
    "print(f\"D_T1 % :{len(test_second_stage['D_T1'][test_second_stage['D_T1']==1])/len(test_second_stage['D_T1'])}\")\n",
    "print(f\"D_and_T % :{len(test_second_stage['D_and_T'][test_second_stage['D_and_T']==1])/len(test_second_stage['D_and_T'])}\")"
   ]
  },
  {
   "cell_type": "code",
   "execution_count": null,
   "id": "2951e036",
   "metadata": {},
   "outputs": [],
   "source": [
    "# look at feature names\n",
    "feature_names = loadFile(osp.join(processed_data_path,'LGBM_w_feat_v2_cutoff_T', \n",
    "                '_depth_7_subsample-data_1.0_subsample-feat_1.0', 'Lactate_Measured', '1111'), 'feature_names.pkl')"
   ]
  },
  {
   "cell_type": "code",
   "execution_count": null,
   "id": "edeadbc1",
   "metadata": {},
   "outputs": [],
   "source": [
    "len(feature_names), test_X.shape"
   ]
  },
  {
   "cell_type": "code",
   "execution_count": null,
   "id": "bb2e2866",
   "metadata": {},
   "outputs": [],
   "source": [
    "feature_names"
   ]
  },
  {
   "cell_type": "code",
   "execution_count": null,
   "id": "9898931c",
   "metadata": {},
   "outputs": [],
   "source": [
    "# load the best params as pickle if they exist , if not use the default settings\n",
    "random_state=0\n",
    "bst_params_T_LGBM={'random_state': random_state, \n",
    "                  }\n",
    "LGBM_T = LGBMClassifier(**bst_params_T_LGBM)\n",
    "bst_params_D_given_T_LGBM = {'max_depth': 7}\n",
    "LGBM_D_given_T = LGBMClassifier(**bst_params_D_given_T_LGBM)\n",
    "LGBM_D_given_T_ipw = LGBMClassifier(**bst_params_D_given_T_LGBM)\n",
    "bst_params_D_and_T_LGBM={'random_state': random_state, \n",
    "                  }\n",
    "LGBM_D_and_T = LGBMClassifier(**bst_params_D_and_T_LGBM)\n",
    "calibrate_method='sigmoid'"
   ]
  },
  {
   "cell_type": "code",
   "execution_count": null,
   "id": "fa56b165",
   "metadata": {},
   "outputs": [],
   "source": [
    "model_descr=\"predicting T using LGBM for second stage\"\n",
    "LGBM_T, test_proba_LGBM_T = trainEvalModel(LGBM_T, train_second_stage['X_T'], train_second_stage['T'], \n",
    "                                           test_second_stage['X_T'], test_second_stage['T'], \n",
    "                                       model_descr, calibrate=True, calibrate_method=calibrate_method)"
   ]
  },
  {
   "cell_type": "code",
   "execution_count": null,
   "id": "e37ccb55",
   "metadata": {},
   "outputs": [],
   "source": [
    "model_descr=\"predicting D|T using LGBM for second stage\"\n",
    "LGBM_D_given_T, test_proba_LGBM_D_given_T = trainEvalModel(LGBM_D_given_T, train_second_stage['X_D_T1'], \n",
    "                    train_second_stage['D_T1'], test_second_stage['X_D_T1'], \n",
    "                                            test_second_stage['D_T1'],\n",
    "                                            model_descr, calibrate=True, calibrate_method=calibrate_method)"
   ]
  },
  {
   "cell_type": "code",
   "execution_count": null,
   "id": "ffc1595d",
   "metadata": {},
   "outputs": [],
   "source": [
    "model_descr=\"predicting D,T using LGBM for second stage\"\n",
    "LGBM_D_and_T, test_proba_LGBM_D_and_T = trainEvalModel(LGBM_D_and_T, train_second_stage['X_T'], \n",
    "                    train_second_stage['D_and_T'], test_second_stage['X_T'],\n",
    "                                        test_second_stage['D_and_T'],\n",
    "                                        model_descr, calibrate=True, calibrate_method=calibrate_method)"
   ]
  },
  {
   "cell_type": "code",
   "execution_count": null,
   "id": "5b800cd2",
   "metadata": {},
   "outputs": [],
   "source": [
    "LGBM_T"
   ]
  },
  {
   "cell_type": "code",
   "execution_count": null,
   "id": "25fdc28a",
   "metadata": {},
   "outputs": [],
   "source": [
    "model_descr=\"predicting D|T_IPW using LGBM for second stage\"\n",
    "train_X_D_given_T_probs_LGBM, train_cross_val_X_ipw = getClippedProbs(LGBM_T, train_second_stage['X_T'].copy(),\n",
    "                                              train_second_stage['T'].copy())\n",
    "assert np.allclose(train_second_stage['X_D_T1'], train_cross_val_X_ipw)\n"
   ]
  },
  {
   "cell_type": "code",
   "execution_count": null,
   "id": "83e77514",
   "metadata": {},
   "outputs": [],
   "source": [
    "train_second_stage['X_T'].shape"
   ]
  },
  {
   "cell_type": "code",
   "execution_count": null,
   "id": "169313a1",
   "metadata": {},
   "outputs": [],
   "source": [
    "LGBM_D_given_T_ipw, test_proba_LGBM_D_given_T_ipw = trainEvalModel(LGBM_D_given_T_ipw, \n",
    "        train_second_stage['X_D_T1'].copy(), \n",
    "        train_second_stage['D_T1'].copy(), test_second_stage['X_D_T1'], test_second_stage['D_T1'],\n",
    "        model_descr, calibrate=True, sample_weight=1/train_X_D_given_T_probs_LGBM.copy(),\n",
    "        calibrate_method=calibrate_method)"
   ]
  },
  {
   "cell_type": "markdown",
   "id": "cf2730ad",
   "metadata": {},
   "source": [
    "#### Hard PseudoLabels"
   ]
  },
  {
   "cell_type": "code",
   "execution_count": null,
   "id": "a27ae1bd",
   "metadata": {},
   "outputs": [],
   "source": [
    "random_state=0\n",
    "bst_params_D_pseudo_LGBM = bst_params_D_given_T_LGBM\n",
    "LGBM_D_pseudo = LGBMClassifier(**bst_params_D_pseudo_LGBM)"
   ]
  },
  {
   "cell_type": "code",
   "execution_count": null,
   "id": "73ec4dc6",
   "metadata": {},
   "outputs": [],
   "source": [
    "LGBM_D_pseudo, test_probs_D_pseudo_LGBM = trainHardPseudo(deepcopy(LGBM_D_given_T), None, None, None,\n",
    "        train_second_stage['X_T'], None, deepcopy(LGBM_D_given_T), test_second_stage['X_D_T1'].copy(),\n",
    "                                                          test_second_stage['D_T1'].copy(), \n",
    "        model_descr=\"LGBM with hard pseudo labels for second stage\", calibrate=True, \n",
    "        calibrate_method=calibrate_method,\n",
    "        train_y_D=train_second_stage['D'].copy())\n"
   ]
  },
  {
   "cell_type": "code",
   "execution_count": null,
   "id": "bc8ce2c1",
   "metadata": {},
   "outputs": [],
   "source": [
    "train_second_stage['D'][train_second_stage['D']==np.nan]"
   ]
  },
  {
   "cell_type": "code",
   "execution_count": null,
   "id": "d0ca883e",
   "metadata": {},
   "outputs": [],
   "source": [
    "all(np.isnan(train_second_stage['D'][train_second_stage['T']==0]))"
   ]
  },
  {
   "cell_type": "code",
   "execution_count": null,
   "id": "7b1f70da",
   "metadata": {},
   "outputs": [],
   "source": [
    "processed_data_path"
   ]
  },
  {
   "cell_type": "code",
   "execution_count": null,
   "id": "5af7c04c",
   "metadata": {},
   "outputs": [],
   "source": [
    "#save models\n",
    "saveFile(osp.join(processed_data_path, 'LGBM_w_feat_v2_cutoff_T', 'secondStage','predict_T'), LGBM_T, 'LGBM_T.pkl')\n",
    "saveFile(osp.join(processed_data_path, 'LGBM_w_feat_v2_cutoff_T', 'secondStage', 'predict_D_given_T'),\n",
    "         LGBM_D_given_T, 'LGBM_D_given_T.pkl')\n",
    "saveFile(osp.join(processed_data_path, 'LGBM_w_feat_v2_cutoff_T', 'secondStage', 'predict_D_and_T'), LGBM_D_and_T,\n",
    "         'LGBM_D_and_T.pkl')\n",
    "saveFile(osp.join(processed_data_path, 'LGBM_w_feat_v2_cutoff_T', 'secondStage', 'predict_D_given_T_ipw'),\n",
    "         LGBM_D_given_T_ipw, 'LGBM_D_given_T_ipw.pkl')\n",
    "saveFile(osp.join(processed_data_path, 'LGBM_w_feat_v2_cutoff_T', 'secondStage', 'predict_D_pseudo'), \n",
    "         LGBM_D_pseudo, 'LGBM_D_pseudo.pkl')"
   ]
  },
  {
   "cell_type": "code",
   "execution_count": null,
   "id": "64053de2",
   "metadata": {},
   "outputs": [],
   "source": [
    "processed_data_path"
   ]
  },
  {
   "cell_type": "code",
   "execution_count": null,
   "id": "1f68b195",
   "metadata": {},
   "outputs": [],
   "source": [
    "saveFile(osp.join(processed_data_path, 'LGBM_w_feat_v2_cutoff_T', 'secondStage'), train_second_stage, \n",
    "         'train_second_stage.pkl')\n",
    "saveFile(osp.join(processed_data_path, 'LGBM_w_feat_v2_cutoff_T', 'secondStage'), test_second_stage, \n",
    "         'test_second_stage.pkl')"
   ]
  },
  {
   "cell_type": "code",
   "execution_count": null,
   "id": "4040c1eb",
   "metadata": {},
   "outputs": [],
   "source": []
  }
 ],
 "metadata": {
  "kernelspec": {
   "display_name": "icu-benchmark",
   "language": "python",
   "name": "icu-benchmark"
  },
  "language_info": {
   "codemirror_mode": {
    "name": "ipython",
    "version": 3
   },
   "file_extension": ".py",
   "mimetype": "text/x-python",
   "name": "python",
   "nbconvert_exporter": "python",
   "pygments_lexer": "ipython3",
   "version": "3.8.8"
  }
 },
 "nbformat": 4,
 "nbformat_minor": 5
}
