{
 "cells": [
  {
   "cell_type": "markdown",
   "id": "97bd915b",
   "metadata": {},
   "source": []
  },
  {
   "cell_type": "code",
   "execution_count": 1,
   "id": "d0c18f1e",
   "metadata": {},
   "outputs": [],
   "source": [
    "import numpy as np\n",
    "import pandas as pd\n",
    "import matplotlib\n",
    "import matplotlib.pyplot as plt\n",
    "import matplotlib.patches as mpatches\n",
    "from scipy import stats\n",
    "import seaborn as sns\n",
    "import os\n",
    "import os.path as osp\n",
    "import sys\n",
    "import pickle\n",
    "import joblib\n",
    "from collections import Counter\n",
    "from itertools import product\n",
    "import torch\n",
    "import pdb\n",
    "import random\n",
    "import tables\n",
    "from sklearn.linear_model import LogisticRegression, LinearRegression\n",
    "from datetime import datetime\n",
    "from sklearn.preprocessing import OneHotEncoder\n",
    "from sklearn.metrics import confusion_matrix, roc_auc_score, classification_report, average_precision_score,\\\n",
    "balanced_accuracy_score\n",
    "from lightgbm import LGBMClassifier, LGBMRegressor\n",
    "from sklearn.calibration import CalibratedClassifierCV\n",
    "import heckman\n",
    "from heckman import Heckman\n",
    "import wandb\n",
    "from wandb.lightgbm import wandb_callback, log_summary\n",
    "from dill.source import getsource\n",
    "from dill import detect\n",
    "import functools"
   ]
  },
  {
   "cell_type": "markdown",
   "id": "ca226e47",
   "metadata": {},
   "source": [
    "### set the seeds and change to current directory + set the output directory"
   ]
  },
  {
   "cell_type": "code",
   "execution_count": 2,
   "id": "1dd8c25c",
   "metadata": {},
   "outputs": [],
   "source": [
    "SEED=90210\n",
    "np.random.seed(SEED)\n",
    "os.environ['USER_PATH']='/share/pierson/selective_labels_data/hirid_data_analysis/richras_dir/learning_from_doctor_and_patient/'\n",
    "os.environ['OUT_PATH']='/share/pierson/selective_labels_data/hirid_data_analysis/richras_dir/learning_from_doctor_and_patient/output_directory'"
   ]
  },
  {
   "cell_type": "markdown",
   "id": "cbc3ce23",
   "metadata": {},
   "source": [
    "### Create function to pickle functions"
   ]
  },
  {
   "cell_type": "code",
   "execution_count": 3,
   "id": "7a67747e",
   "metadata": {},
   "outputs": [],
   "source": [
    "def function_to_string(fn):\n",
    "    return getsource(detect.code(fn)) "
   ]
  },
  {
   "cell_type": "code",
   "execution_count": 4,
   "id": "75551144",
   "metadata": {},
   "outputs": [],
   "source": [
    "processed_data_path=osp.join(os.environ.get('OUT_PATH'), 'stop_and_frisk')"
   ]
  },
  {
   "cell_type": "code",
   "execution_count": 5,
   "id": "cc96137d",
   "metadata": {},
   "outputs": [],
   "source": [
    "os.environ['WANDB_SILENT']=\"true\""
   ]
  },
  {
   "cell_type": "code",
   "execution_count": 6,
   "id": "656118f4",
   "metadata": {},
   "outputs": [],
   "source": [
    "os.chdir('/share/pierson/selective_labels_data/hirid_data_analysis/richras_dir/learning_from_doctor_and_patient/')\n",
    "from AnalysisFuncs import trainEvalModel, trainHardPseudo, loadFile, saveFile"
   ]
  },
  {
   "cell_type": "code",
   "execution_count": 7,
   "id": "bb773cf0",
   "metadata": {},
   "outputs": [],
   "source": [
    "%reload_ext autoreload\n",
    "%autoreload 2"
   ]
  },
  {
   "cell_type": "code",
   "execution_count": 8,
   "id": "52d8f784",
   "metadata": {},
   "outputs": [],
   "source": [
    "train_X = loadFile(osp.join(processed_data_path,'predict_T'), '/train_X.npy')\n",
    "train_y_T = loadFile(osp.join(processed_data_path,'predict_T'), '/train_y_T.npy')\n",
    "val_X = loadFile(osp.join(processed_data_path,'predict_T'), '/val_X.npy')\n",
    "val_y_T = loadFile(osp.join(processed_data_path,'predict_T'), '/val_y_T.npy')\n",
    "train_cross_val_X = loadFile(osp.join(processed_data_path,'predict_T'), '/train_cross_val_X.npy')\n",
    "train_cross_val_y_T = loadFile(osp.join(processed_data_path,'predict_T'), '/train_cross_val_y_T.npy')\n",
    "test_X = loadFile(osp.join(processed_data_path,'predict_T'), '/test_X.npy')\n",
    "test_y_T = loadFile(osp.join(processed_data_path,'predict_T'), '/test_y_T.npy')\n",
    "\n",
    "train_X_D_given_T = loadFile(osp.join(processed_data_path,'predict_D_given_T'), '/train_X_D_given_T.npy')\n",
    "train_y_D_given_T = loadFile(osp.join(processed_data_path,'predict_D_given_T'), '/train_y_D_given_T.npy')\n",
    "val_X_D_given_T = loadFile(osp.join(processed_data_path,'predict_D_given_T'), '/val_X_D_given_T.npy')\n",
    "val_y_D_given_T = loadFile(osp.join(processed_data_path,'predict_D_given_T'), '/val_y_D_given_T.npy')\n",
    "train_cross_val_X_D_given_T = loadFile(osp.join(processed_data_path,'predict_D_given_T'), \n",
    "                                       '/train_cross_val_X_D_given_T.npy')\n",
    "train_cross_val_y_D_given_T = loadFile(osp.join(processed_data_path,'predict_D_given_T'), \n",
    "                                       '/train_cross_val_y_D_given_T.npy')\n",
    "test_X_D_given_T = loadFile(osp.join(processed_data_path,'predict_D_given_T'), '/test_X_D_given_T.npy')\n",
    "test_y_D_given_T = loadFile(osp.join(processed_data_path,'predict_D_given_T'), '/test_y_D_given_T.npy')\n",
    "\n",
    "\n",
    "\n",
    "train_y_D_and_T = loadFile(osp.join(processed_data_path,'predict_D_and_T'), '/train_y_D_and_T.npy')\n",
    "val_y_D_and_T = loadFile(osp.join(processed_data_path,'predict_D_and_T'), '/val_y_D_and_T.npy')\n",
    "train_cross_val_y_D_and_T = loadFile(osp.join(processed_data_path,'predict_D_and_T'), \n",
    "                                       '/train_cross_val_y_D_and_T.npy')\n",
    "test_y_D_and_T = loadFile(osp.join(processed_data_path,'predict_D_and_T'), '/test_y_D_and_T.npy')"
   ]
  },
  {
   "cell_type": "code",
   "execution_count": 9,
   "id": "ddd59508",
   "metadata": {},
   "outputs": [
    {
     "name": "stderr",
     "output_type": "stream",
     "text": [
      "/home/rr568/.conda/envs/icu-benchmark/lib/python3.8/site-packages/IPython/core/interactiveshell.py:3338: DtypeWarning: Columns (67) have mixed types.Specify dtype option on import or set low_memory=False.\n",
      "  if await self.run_code(code, result, async_=asy):\n"
     ]
    },
    {
     "name": "stdout",
     "output_type": "stream",
     "text": [
      "train %:45.00, val %:5.00, test %:50.00\n"
     ]
    }
   ],
   "source": [
    "df_cleaned = loadFile(processed_data_path, 'df_cleaned.csv')\n",
    "test_idxs = loadFile(processed_data_path, '/test_idxs.npy')\n",
    "train_idxs = loadFile(processed_data_path, '/train_idxs.npy')\n",
    "val_idxs = loadFile(processed_data_path, '/val_idxs.npy')\n",
    "assert len(np.intersect1d(train_idxs, val_idxs))==0\n",
    "assert len(np.intersect1d(test_idxs, val_idxs))==0\n",
    "assert len(np.intersect1d(train_idxs, test_idxs))==0\n",
    "tr=len(train_idxs)\n",
    "v=len(val_idxs)\n",
    "t=len(test_idxs)\n",
    "print(f\"train %:{tr*100/(tr+v+t):.2f}, val %:{v*100/(tr+v+t):.2f}, test %:{t*100/(tr+v+t):.2f}\")"
   ]
  },
  {
   "cell_type": "code",
   "execution_count": 10,
   "id": "9898931c",
   "metadata": {},
   "outputs": [],
   "source": [
    "# load the best params as pickle if they exist , if not use the default settings\n",
    "random_state=0\n",
    "bst_params_T_LR={'random_state': random_state, \n",
    "              'solver': 'liblinear', \n",
    "              'penalty':  'l1',\n",
    "                }\n",
    "bst_params_T_LGBM={'random_state': random_state, \n",
    "                  }\n",
    "LR_T = LogisticRegression(**bst_params_T_LR)\n",
    "LGBM_T = LGBMClassifier(**bst_params_T_LGBM)\n",
    "\n",
    "bst_params_D_given_T_LR = {'random_state': random_state, \n",
    "                      'solver': 'liblinear', \n",
    "                      'penalty':  'l1',\n",
    "                       }\n",
    "# bst_params_D_given_T_LGBM={'random_state': random_state, \n",
    "#                   }\n",
    "bst_params_D_given_T_LGBM = {'bagging_fraction': 0.7892603819633417, 'feature_fraction': 0.5283564886587215, \n",
    "             'max_depth': 7, 'min_child_samples': 30}\n",
    "LR_D_given_T = LogisticRegression(**bst_params_D_given_T_LR)\n",
    "LGBM_D_given_T = LGBMClassifier(**bst_params_D_given_T_LGBM)\n",
    "\n",
    "bst_params_D_and_T_LR = {'random_state': random_state, \n",
    "                      'solver': 'liblinear', \n",
    "                      'penalty':  'l1',\n",
    "                     }\n",
    "bst_params_D_and_T_LGBM={'random_state': random_state, \n",
    "                  }\n",
    "LR_D_and_T = LogisticRegression(**bst_params_D_and_T_LR)\n",
    "LGBM_D_and_T = LGBMClassifier(**bst_params_D_and_T_LGBM)"
   ]
  },
  {
   "cell_type": "code",
   "execution_count": 12,
   "id": "d518657e",
   "metadata": {},
   "outputs": [],
   "source": [
    "calibrate_method='calibrate_by_bins'\n",
    "cv=20"
   ]
  },
  {
   "cell_type": "code",
   "execution_count": 11,
   "id": "c3769cfd",
   "metadata": {},
   "outputs": [
    {
     "name": "stdout",
     "output_type": "stream",
     "text": [
      "AUC score :predicting T using Logistic Regression: 0.818\n",
      "AUPR score :predicting T using Logistic Regression: 0.851\n",
      "AUC score :predicting D|T using Logistic Regression: 0.802\n",
      "AUPR score :predicting D|T using Logistic Regression: 0.242\n"
     ]
    }
   ],
   "source": [
    "model_descr=\"predicting T using Logistic Regression\"\n",
    "LR_T, test_proba_LR_T = trainEvalModel(LR_T, train_cross_val_X, train_cross_val_y_T, test_X, test_y_T, \n",
    "                                       model_descr, calibrate=False, calibrate_method=calibrate_method)\n",
    "\n",
    "model_descr=\"predicting D|T using Logistic Regression\"\n",
    "LR_D_given_T, test_proba_LR_D_given_T = trainEvalModel(LR_D_given_T, train_cross_val_X_D_given_T, \n",
    "                    train_cross_val_y_D_given_T, test_X_D_given_T, test_y_D_given_T, model_descr, \n",
    "                                                       calibrate=False, calibrate_method=calibrate_method)\n"
   ]
  },
  {
   "cell_type": "code",
   "execution_count": 13,
   "id": "04384a91",
   "metadata": {},
   "outputs": [
    {
     "name": "stdout",
     "output_type": "stream",
     "text": [
      "AUC score :predicting T using LGBM: 0.833\n",
      "AUPR score :predicting T using LGBM: 0.866\n"
     ]
    }
   ],
   "source": [
    "model_descr=\"predicting T using LGBM\"\n",
    "LGBM_T, test_proba_LGBM_T = trainEvalModel(LGBM_T, train_cross_val_X, train_cross_val_y_T, test_X, test_y_T, \n",
    "                                       model_descr, calibrate=False, calibrate_method=calibrate_method, cv=cv)\n"
   ]
  },
  {
   "cell_type": "code",
   "execution_count": 14,
   "id": "647f9904",
   "metadata": {},
   "outputs": [
    {
     "name": "stdout",
     "output_type": "stream",
     "text": [
      "[LightGBM] [Warning] bagging_fraction is set=0.7892603819633417, subsample=1.0 will be ignored. Current value: bagging_fraction=0.7892603819633417\n",
      "[LightGBM] [Warning] feature_fraction is set=0.5283564886587215, colsample_bytree=1.0 will be ignored. Current value: feature_fraction=0.5283564886587215\n",
      "[LightGBM] [Warning] bagging_fraction is set=0.7892603819633417, subsample=1.0 will be ignored. Current value: bagging_fraction=0.7892603819633417\n",
      "[LightGBM] [Warning] feature_fraction is set=0.5283564886587215, colsample_bytree=1.0 will be ignored. Current value: feature_fraction=0.5283564886587215\n",
      "[LightGBM] [Warning] bagging_fraction is set=0.7892603819633417, subsample=1.0 will be ignored. Current value: bagging_fraction=0.7892603819633417\n",
      "[LightGBM] [Warning] feature_fraction is set=0.5283564886587215, colsample_bytree=1.0 will be ignored. Current value: feature_fraction=0.5283564886587215\n",
      "[LightGBM] [Warning] bagging_fraction is set=0.7892603819633417, subsample=1.0 will be ignored. Current value: bagging_fraction=0.7892603819633417\n",
      "[LightGBM] [Warning] feature_fraction is set=0.5283564886587215, colsample_bytree=1.0 will be ignored. Current value: feature_fraction=0.5283564886587215\n",
      "[LightGBM] [Warning] bagging_fraction is set=0.7892603819633417, subsample=1.0 will be ignored. Current value: bagging_fraction=0.7892603819633417\n",
      "[LightGBM] [Warning] feature_fraction is set=0.5283564886587215, colsample_bytree=1.0 will be ignored. Current value: feature_fraction=0.5283564886587215\n",
      "[LightGBM] [Warning] bagging_fraction is set=0.7892603819633417, subsample=1.0 will be ignored. Current value: bagging_fraction=0.7892603819633417\n",
      "[LightGBM] [Warning] feature_fraction is set=0.5283564886587215, colsample_bytree=1.0 will be ignored. Current value: feature_fraction=0.5283564886587215\n",
      "[LightGBM] [Warning] bagging_fraction is set=0.7892603819633417, subsample=1.0 will be ignored. Current value: bagging_fraction=0.7892603819633417\n",
      "[LightGBM] [Warning] feature_fraction is set=0.5283564886587215, colsample_bytree=1.0 will be ignored. Current value: feature_fraction=0.5283564886587215\n",
      "[LightGBM] [Warning] bagging_fraction is set=0.7892603819633417, subsample=1.0 will be ignored. Current value: bagging_fraction=0.7892603819633417\n",
      "[LightGBM] [Warning] feature_fraction is set=0.5283564886587215, colsample_bytree=1.0 will be ignored. Current value: feature_fraction=0.5283564886587215\n",
      "[LightGBM] [Warning] bagging_fraction is set=0.7892603819633417, subsample=1.0 will be ignored. Current value: bagging_fraction=0.7892603819633417\n",
      "[LightGBM] [Warning] feature_fraction is set=0.5283564886587215, colsample_bytree=1.0 will be ignored. Current value: feature_fraction=0.5283564886587215\n",
      "[LightGBM] [Warning] bagging_fraction is set=0.7892603819633417, subsample=1.0 will be ignored. Current value: bagging_fraction=0.7892603819633417\n",
      "[LightGBM] [Warning] feature_fraction is set=0.5283564886587215, colsample_bytree=1.0 will be ignored. Current value: feature_fraction=0.5283564886587215\n",
      "[LightGBM] [Warning] bagging_fraction is set=0.7892603819633417, subsample=1.0 will be ignored. Current value: bagging_fraction=0.7892603819633417\n",
      "[LightGBM] [Warning] feature_fraction is set=0.5283564886587215, colsample_bytree=1.0 will be ignored. Current value: feature_fraction=0.5283564886587215\n",
      "[LightGBM] [Warning] bagging_fraction is set=0.7892603819633417, subsample=1.0 will be ignored. Current value: bagging_fraction=0.7892603819633417\n",
      "[LightGBM] [Warning] feature_fraction is set=0.5283564886587215, colsample_bytree=1.0 will be ignored. Current value: feature_fraction=0.5283564886587215\n",
      "[LightGBM] [Warning] bagging_fraction is set=0.7892603819633417, subsample=1.0 will be ignored. Current value: bagging_fraction=0.7892603819633417\n",
      "[LightGBM] [Warning] feature_fraction is set=0.5283564886587215, colsample_bytree=1.0 will be ignored. Current value: feature_fraction=0.5283564886587215\n",
      "[LightGBM] [Warning] bagging_fraction is set=0.7892603819633417, subsample=1.0 will be ignored. Current value: bagging_fraction=0.7892603819633417\n",
      "[LightGBM] [Warning] feature_fraction is set=0.5283564886587215, colsample_bytree=1.0 will be ignored. Current value: feature_fraction=0.5283564886587215\n",
      "[LightGBM] [Warning] bagging_fraction is set=0.7892603819633417, subsample=1.0 will be ignored. Current value: bagging_fraction=0.7892603819633417\n",
      "[LightGBM] [Warning] feature_fraction is set=0.5283564886587215, colsample_bytree=1.0 will be ignored. Current value: feature_fraction=0.5283564886587215\n",
      "[LightGBM] [Warning] bagging_fraction is set=0.7892603819633417, subsample=1.0 will be ignored. Current value: bagging_fraction=0.7892603819633417\n",
      "[LightGBM] [Warning] feature_fraction is set=0.5283564886587215, colsample_bytree=1.0 will be ignored. Current value: feature_fraction=0.5283564886587215\n",
      "[LightGBM] [Warning] bagging_fraction is set=0.7892603819633417, subsample=1.0 will be ignored. Current value: bagging_fraction=0.7892603819633417\n",
      "[LightGBM] [Warning] feature_fraction is set=0.5283564886587215, colsample_bytree=1.0 will be ignored. Current value: feature_fraction=0.5283564886587215\n",
      "[LightGBM] [Warning] bagging_fraction is set=0.7892603819633417, subsample=1.0 will be ignored. Current value: bagging_fraction=0.7892603819633417\n",
      "[LightGBM] [Warning] feature_fraction is set=0.5283564886587215, colsample_bytree=1.0 will be ignored. Current value: feature_fraction=0.5283564886587215\n",
      "[LightGBM] [Warning] bagging_fraction is set=0.7892603819633417, subsample=1.0 will be ignored. Current value: bagging_fraction=0.7892603819633417\n",
      "[LightGBM] [Warning] feature_fraction is set=0.5283564886587215, colsample_bytree=1.0 will be ignored. Current value: feature_fraction=0.5283564886587215\n",
      "[LightGBM] [Warning] bagging_fraction is set=0.7892603819633417, subsample=1.0 will be ignored. Current value: bagging_fraction=0.7892603819633417\n",
      "[LightGBM] [Warning] feature_fraction is set=0.5283564886587215, colsample_bytree=1.0 will be ignored. Current value: feature_fraction=0.5283564886587215\n",
      "AUC score :predicting D|T using LGBM: 0.825\n",
      "AUPR score :predicting D|T using LGBM: 0.279\n"
     ]
    }
   ],
   "source": [
    "model_descr=\"predicting D|T using LGBM\"\n",
    "LGBM_D_given_T, test_proba_LGBM_D_given_T = trainEvalModel(LGBM_D_given_T, train_cross_val_X_D_given_T, \n",
    "                    train_cross_val_y_D_given_T, test_X_D_given_T, test_y_D_given_T, model_descr, \n",
    "                                                           calibrate=False, calibrate_method=calibrate_method, cv=cv)"
   ]
  },
  {
   "cell_type": "code",
   "execution_count": 14,
   "id": "00cb8f60",
   "metadata": {},
   "outputs": [
    {
     "name": "stdout",
     "output_type": "stream",
     "text": [
      "AUC score :predicting D,T using Logistic Regression: 0.845\n",
      "AUPR score :predicting D,T using Logistic Regression: 0.210\n"
     ]
    }
   ],
   "source": [
    "model_descr=\"predicting D,T using Logistic Regression\"\n",
    "LR_D_and_T, test_proba_LR_D_and_T = trainEvalModel(LR_D_and_T, train_cross_val_X, \n",
    "                    train_cross_val_y_D_and_T, test_X, test_y_D_and_T, model_descr, \n",
    "                                                   calibrate=False, calibrate_method=calibrate_method)\n"
   ]
  },
  {
   "cell_type": "code",
   "execution_count": 15,
   "id": "5196d3d8",
   "metadata": {},
   "outputs": [
    {
     "name": "stdout",
     "output_type": "stream",
     "text": [
      "AUC score :predicting D,T using LGBM: 0.865\n",
      "AUPR score :predicting D,T using LGBM: 0.239\n"
     ]
    }
   ],
   "source": [
    "model_descr=\"predicting D,T using LGBM\"\n",
    "LGBM_D_and_T, test_proba_LGBM_D_and_T = trainEvalModel(LGBM_D_and_T, train_cross_val_X, \n",
    "                    train_cross_val_y_D_and_T, test_X, test_y_D_and_T, model_descr, \n",
    "                                                       calibrate=False, calibrate_method=calibrate_method)"
   ]
  },
  {
   "cell_type": "code",
   "execution_count": 16,
   "id": "c9d24ab0",
   "metadata": {},
   "outputs": [],
   "source": [
    "def getClippedProbs(model, train_X, epsilon=0.05):\n",
    "    probs= model.predict_proba(train_X)[:,1]\n",
    "    probs=np.clip(probs, a_min=epsilon, a_max=1-epsilon)\n",
    "    return probs"
   ]
  },
  {
   "cell_type": "code",
   "execution_count": 26,
   "id": "8bc35165",
   "metadata": {
    "scrolled": true
   },
   "outputs": [
    {
     "name": "stdout",
     "output_type": "stream",
     "text": [
      "AUC score :predicting D|T_IPW using Logistic Regression: 0.802\n",
      "AUPR score :predicting D|T_IPW using Logistic Regression: 0.242\n"
     ]
    }
   ],
   "source": [
    "model_descr=\"predicting D|T_IPW using Logistic Regression\"\n",
    "train_X_D_given_T_probs_LR = getClippedProbs(LR_T, train_cross_val_X_D_given_T)\n",
    "LR_D_given_T_ipw, test_proba_LR_D_given_T_ipw = trainEvalModel(LR_D_given_T, train_cross_val_X_D_given_T, \n",
    "                    train_cross_val_y_D_given_T, test_X_D_given_T, test_y_D_given_T, model_descr,\n",
    "                                                               calibrate=False, calibrate_method=calibrate_method)\n"
   ]
  },
  {
   "cell_type": "code",
   "execution_count": 17,
   "id": "af191818",
   "metadata": {},
   "outputs": [
    {
     "name": "stdout",
     "output_type": "stream",
     "text": [
      "[LightGBM] [Warning] bagging_fraction is set=0.7892603819633417, subsample=1.0 will be ignored. Current value: bagging_fraction=0.7892603819633417\n",
      "[LightGBM] [Warning] feature_fraction is set=0.5283564886587215, colsample_bytree=1.0 will be ignored. Current value: feature_fraction=0.5283564886587215\n",
      "[LightGBM] [Warning] bagging_fraction is set=0.7892603819633417, subsample=1.0 will be ignored. Current value: bagging_fraction=0.7892603819633417\n",
      "[LightGBM] [Warning] feature_fraction is set=0.5283564886587215, colsample_bytree=1.0 will be ignored. Current value: feature_fraction=0.5283564886587215\n",
      "[LightGBM] [Warning] bagging_fraction is set=0.7892603819633417, subsample=1.0 will be ignored. Current value: bagging_fraction=0.7892603819633417\n",
      "[LightGBM] [Warning] feature_fraction is set=0.5283564886587215, colsample_bytree=1.0 will be ignored. Current value: feature_fraction=0.5283564886587215\n",
      "[LightGBM] [Warning] bagging_fraction is set=0.7892603819633417, subsample=1.0 will be ignored. Current value: bagging_fraction=0.7892603819633417\n",
      "[LightGBM] [Warning] feature_fraction is set=0.5283564886587215, colsample_bytree=1.0 will be ignored. Current value: feature_fraction=0.5283564886587215\n",
      "[LightGBM] [Warning] bagging_fraction is set=0.7892603819633417, subsample=1.0 will be ignored. Current value: bagging_fraction=0.7892603819633417\n",
      "[LightGBM] [Warning] feature_fraction is set=0.5283564886587215, colsample_bytree=1.0 will be ignored. Current value: feature_fraction=0.5283564886587215\n",
      "[LightGBM] [Warning] bagging_fraction is set=0.7892603819633417, subsample=1.0 will be ignored. Current value: bagging_fraction=0.7892603819633417\n",
      "[LightGBM] [Warning] feature_fraction is set=0.5283564886587215, colsample_bytree=1.0 will be ignored. Current value: feature_fraction=0.5283564886587215\n",
      "[LightGBM] [Warning] bagging_fraction is set=0.7892603819633417, subsample=1.0 will be ignored. Current value: bagging_fraction=0.7892603819633417\n",
      "[LightGBM] [Warning] feature_fraction is set=0.5283564886587215, colsample_bytree=1.0 will be ignored. Current value: feature_fraction=0.5283564886587215\n",
      "[LightGBM] [Warning] bagging_fraction is set=0.7892603819633417, subsample=1.0 will be ignored. Current value: bagging_fraction=0.7892603819633417\n",
      "[LightGBM] [Warning] feature_fraction is set=0.5283564886587215, colsample_bytree=1.0 will be ignored. Current value: feature_fraction=0.5283564886587215\n",
      "[LightGBM] [Warning] bagging_fraction is set=0.7892603819633417, subsample=1.0 will be ignored. Current value: bagging_fraction=0.7892603819633417\n",
      "[LightGBM] [Warning] feature_fraction is set=0.5283564886587215, colsample_bytree=1.0 will be ignored. Current value: feature_fraction=0.5283564886587215\n",
      "[LightGBM] [Warning] bagging_fraction is set=0.7892603819633417, subsample=1.0 will be ignored. Current value: bagging_fraction=0.7892603819633417\n",
      "[LightGBM] [Warning] feature_fraction is set=0.5283564886587215, colsample_bytree=1.0 will be ignored. Current value: feature_fraction=0.5283564886587215\n",
      "[LightGBM] [Warning] bagging_fraction is set=0.7892603819633417, subsample=1.0 will be ignored. Current value: bagging_fraction=0.7892603819633417\n",
      "[LightGBM] [Warning] feature_fraction is set=0.5283564886587215, colsample_bytree=1.0 will be ignored. Current value: feature_fraction=0.5283564886587215\n",
      "[LightGBM] [Warning] bagging_fraction is set=0.7892603819633417, subsample=1.0 will be ignored. Current value: bagging_fraction=0.7892603819633417\n",
      "[LightGBM] [Warning] feature_fraction is set=0.5283564886587215, colsample_bytree=1.0 will be ignored. Current value: feature_fraction=0.5283564886587215\n",
      "[LightGBM] [Warning] bagging_fraction is set=0.7892603819633417, subsample=1.0 will be ignored. Current value: bagging_fraction=0.7892603819633417\n",
      "[LightGBM] [Warning] feature_fraction is set=0.5283564886587215, colsample_bytree=1.0 will be ignored. Current value: feature_fraction=0.5283564886587215\n",
      "[LightGBM] [Warning] bagging_fraction is set=0.7892603819633417, subsample=1.0 will be ignored. Current value: bagging_fraction=0.7892603819633417\n",
      "[LightGBM] [Warning] feature_fraction is set=0.5283564886587215, colsample_bytree=1.0 will be ignored. Current value: feature_fraction=0.5283564886587215\n",
      "[LightGBM] [Warning] bagging_fraction is set=0.7892603819633417, subsample=1.0 will be ignored. Current value: bagging_fraction=0.7892603819633417\n",
      "[LightGBM] [Warning] feature_fraction is set=0.5283564886587215, colsample_bytree=1.0 will be ignored. Current value: feature_fraction=0.5283564886587215\n",
      "[LightGBM] [Warning] bagging_fraction is set=0.7892603819633417, subsample=1.0 will be ignored. Current value: bagging_fraction=0.7892603819633417\n",
      "[LightGBM] [Warning] feature_fraction is set=0.5283564886587215, colsample_bytree=1.0 will be ignored. Current value: feature_fraction=0.5283564886587215\n",
      "[LightGBM] [Warning] bagging_fraction is set=0.7892603819633417, subsample=1.0 will be ignored. Current value: bagging_fraction=0.7892603819633417\n",
      "[LightGBM] [Warning] feature_fraction is set=0.5283564886587215, colsample_bytree=1.0 will be ignored. Current value: feature_fraction=0.5283564886587215\n",
      "[LightGBM] [Warning] bagging_fraction is set=0.7892603819633417, subsample=1.0 will be ignored. Current value: bagging_fraction=0.7892603819633417\n",
      "[LightGBM] [Warning] feature_fraction is set=0.5283564886587215, colsample_bytree=1.0 will be ignored. Current value: feature_fraction=0.5283564886587215\n",
      "[LightGBM] [Warning] bagging_fraction is set=0.7892603819633417, subsample=1.0 will be ignored. Current value: bagging_fraction=0.7892603819633417\n",
      "[LightGBM] [Warning] feature_fraction is set=0.5283564886587215, colsample_bytree=1.0 will be ignored. Current value: feature_fraction=0.5283564886587215\n",
      "[LightGBM] [Warning] bagging_fraction is set=0.7892603819633417, subsample=1.0 will be ignored. Current value: bagging_fraction=0.7892603819633417\n",
      "[LightGBM] [Warning] feature_fraction is set=0.5283564886587215, colsample_bytree=1.0 will be ignored. Current value: feature_fraction=0.5283564886587215\n",
      "[LightGBM] [Warning] bagging_fraction is set=0.7892603819633417, subsample=1.0 will be ignored. Current value: bagging_fraction=0.7892603819633417\n",
      "[LightGBM] [Warning] feature_fraction is set=0.5283564886587215, colsample_bytree=1.0 will be ignored. Current value: feature_fraction=0.5283564886587215\n",
      "[LightGBM] [Warning] bagging_fraction is set=0.7892603819633417, subsample=1.0 will be ignored. Current value: bagging_fraction=0.7892603819633417\n",
      "[LightGBM] [Warning] feature_fraction is set=0.5283564886587215, colsample_bytree=1.0 will be ignored. Current value: feature_fraction=0.5283564886587215\n",
      "[LightGBM] [Warning] bagging_fraction is set=0.7892603819633417, subsample=1.0 will be ignored. Current value: bagging_fraction=0.7892603819633417\n",
      "[LightGBM] [Warning] feature_fraction is set=0.5283564886587215, colsample_bytree=1.0 will be ignored. Current value: feature_fraction=0.5283564886587215\n",
      "[LightGBM] [Warning] bagging_fraction is set=0.7892603819633417, subsample=1.0 will be ignored. Current value: bagging_fraction=0.7892603819633417\n",
      "[LightGBM] [Warning] feature_fraction is set=0.5283564886587215, colsample_bytree=1.0 will be ignored. Current value: feature_fraction=0.5283564886587215\n",
      "[LightGBM] [Warning] bagging_fraction is set=0.7892603819633417, subsample=1.0 will be ignored. Current value: bagging_fraction=0.7892603819633417\n",
      "[LightGBM] [Warning] feature_fraction is set=0.5283564886587215, colsample_bytree=1.0 will be ignored. Current value: feature_fraction=0.5283564886587215\n",
      "[LightGBM] [Warning] bagging_fraction is set=0.7892603819633417, subsample=1.0 will be ignored. Current value: bagging_fraction=0.7892603819633417\n",
      "[LightGBM] [Warning] feature_fraction is set=0.5283564886587215, colsample_bytree=1.0 will be ignored. Current value: feature_fraction=0.5283564886587215\n",
      "[LightGBM] [Warning] bagging_fraction is set=0.7892603819633417, subsample=1.0 will be ignored. Current value: bagging_fraction=0.7892603819633417\n",
      "[LightGBM] [Warning] feature_fraction is set=0.5283564886587215, colsample_bytree=1.0 will be ignored. Current value: feature_fraction=0.5283564886587215\n",
      "[LightGBM] [Warning] bagging_fraction is set=0.7892603819633417, subsample=1.0 will be ignored. Current value: bagging_fraction=0.7892603819633417\n",
      "[LightGBM] [Warning] feature_fraction is set=0.5283564886587215, colsample_bytree=1.0 will be ignored. Current value: feature_fraction=0.5283564886587215\n"
     ]
    },
    {
     "name": "stdout",
     "output_type": "stream",
     "text": [
      "[LightGBM] [Warning] bagging_fraction is set=0.7892603819633417, subsample=1.0 will be ignored. Current value: bagging_fraction=0.7892603819633417\n",
      "[LightGBM] [Warning] feature_fraction is set=0.5283564886587215, colsample_bytree=1.0 will be ignored. Current value: feature_fraction=0.5283564886587215\n",
      "[LightGBM] [Warning] bagging_fraction is set=0.7892603819633417, subsample=1.0 will be ignored. Current value: bagging_fraction=0.7892603819633417\n",
      "[LightGBM] [Warning] feature_fraction is set=0.5283564886587215, colsample_bytree=1.0 will be ignored. Current value: feature_fraction=0.5283564886587215\n",
      "[LightGBM] [Warning] bagging_fraction is set=0.7892603819633417, subsample=1.0 will be ignored. Current value: bagging_fraction=0.7892603819633417\n",
      "[LightGBM] [Warning] feature_fraction is set=0.5283564886587215, colsample_bytree=1.0 will be ignored. Current value: feature_fraction=0.5283564886587215\n",
      "[LightGBM] [Warning] bagging_fraction is set=0.7892603819633417, subsample=1.0 will be ignored. Current value: bagging_fraction=0.7892603819633417\n",
      "[LightGBM] [Warning] feature_fraction is set=0.5283564886587215, colsample_bytree=1.0 will be ignored. Current value: feature_fraction=0.5283564886587215\n",
      "[LightGBM] [Warning] bagging_fraction is set=0.7892603819633417, subsample=1.0 will be ignored. Current value: bagging_fraction=0.7892603819633417\n",
      "[LightGBM] [Warning] feature_fraction is set=0.5283564886587215, colsample_bytree=1.0 will be ignored. Current value: feature_fraction=0.5283564886587215\n",
      "[LightGBM] [Warning] bagging_fraction is set=0.7892603819633417, subsample=1.0 will be ignored. Current value: bagging_fraction=0.7892603819633417\n",
      "[LightGBM] [Warning] feature_fraction is set=0.5283564886587215, colsample_bytree=1.0 will be ignored. Current value: feature_fraction=0.5283564886587215\n",
      "[LightGBM] [Warning] bagging_fraction is set=0.7892603819633417, subsample=1.0 will be ignored. Current value: bagging_fraction=0.7892603819633417\n",
      "[LightGBM] [Warning] feature_fraction is set=0.5283564886587215, colsample_bytree=1.0 will be ignored. Current value: feature_fraction=0.5283564886587215\n",
      "[LightGBM] [Warning] bagging_fraction is set=0.7892603819633417, subsample=1.0 will be ignored. Current value: bagging_fraction=0.7892603819633417\n",
      "[LightGBM] [Warning] feature_fraction is set=0.5283564886587215, colsample_bytree=1.0 will be ignored. Current value: feature_fraction=0.5283564886587215\n",
      "[LightGBM] [Warning] bagging_fraction is set=0.7892603819633417, subsample=1.0 will be ignored. Current value: bagging_fraction=0.7892603819633417\n",
      "[LightGBM] [Warning] feature_fraction is set=0.5283564886587215, colsample_bytree=1.0 will be ignored. Current value: feature_fraction=0.5283564886587215\n",
      "[LightGBM] [Warning] bagging_fraction is set=0.7892603819633417, subsample=1.0 will be ignored. Current value: bagging_fraction=0.7892603819633417\n",
      "[LightGBM] [Warning] feature_fraction is set=0.5283564886587215, colsample_bytree=1.0 will be ignored. Current value: feature_fraction=0.5283564886587215\n",
      "[LightGBM] [Warning] bagging_fraction is set=0.7892603819633417, subsample=1.0 will be ignored. Current value: bagging_fraction=0.7892603819633417\n",
      "[LightGBM] [Warning] feature_fraction is set=0.5283564886587215, colsample_bytree=1.0 will be ignored. Current value: feature_fraction=0.5283564886587215\n",
      "[LightGBM] [Warning] bagging_fraction is set=0.7892603819633417, subsample=1.0 will be ignored. Current value: bagging_fraction=0.7892603819633417\n",
      "[LightGBM] [Warning] feature_fraction is set=0.5283564886587215, colsample_bytree=1.0 will be ignored. Current value: feature_fraction=0.5283564886587215\n",
      "[LightGBM] [Warning] bagging_fraction is set=0.7892603819633417, subsample=1.0 will be ignored. Current value: bagging_fraction=0.7892603819633417\n",
      "[LightGBM] [Warning] feature_fraction is set=0.5283564886587215, colsample_bytree=1.0 will be ignored. Current value: feature_fraction=0.5283564886587215\n",
      "[LightGBM] [Warning] bagging_fraction is set=0.7892603819633417, subsample=1.0 will be ignored. Current value: bagging_fraction=0.7892603819633417\n",
      "[LightGBM] [Warning] feature_fraction is set=0.5283564886587215, colsample_bytree=1.0 will be ignored. Current value: feature_fraction=0.5283564886587215\n",
      "[LightGBM] [Warning] bagging_fraction is set=0.7892603819633417, subsample=1.0 will be ignored. Current value: bagging_fraction=0.7892603819633417\n",
      "[LightGBM] [Warning] feature_fraction is set=0.5283564886587215, colsample_bytree=1.0 will be ignored. Current value: feature_fraction=0.5283564886587215\n",
      "[LightGBM] [Warning] bagging_fraction is set=0.7892603819633417, subsample=1.0 will be ignored. Current value: bagging_fraction=0.7892603819633417\n",
      "[LightGBM] [Warning] feature_fraction is set=0.5283564886587215, colsample_bytree=1.0 will be ignored. Current value: feature_fraction=0.5283564886587215\n",
      "[LightGBM] [Warning] bagging_fraction is set=0.7892603819633417, subsample=1.0 will be ignored. Current value: bagging_fraction=0.7892603819633417\n",
      "[LightGBM] [Warning] feature_fraction is set=0.5283564886587215, colsample_bytree=1.0 will be ignored. Current value: feature_fraction=0.5283564886587215\n",
      "[LightGBM] [Warning] bagging_fraction is set=0.7892603819633417, subsample=1.0 will be ignored. Current value: bagging_fraction=0.7892603819633417\n",
      "[LightGBM] [Warning] feature_fraction is set=0.5283564886587215, colsample_bytree=1.0 will be ignored. Current value: feature_fraction=0.5283564886587215\n",
      "[LightGBM] [Warning] bagging_fraction is set=0.7892603819633417, subsample=1.0 will be ignored. Current value: bagging_fraction=0.7892603819633417\n",
      "[LightGBM] [Warning] feature_fraction is set=0.5283564886587215, colsample_bytree=1.0 will be ignored. Current value: feature_fraction=0.5283564886587215\n",
      "[LightGBM] [Warning] bagging_fraction is set=0.7892603819633417, subsample=1.0 will be ignored. Current value: bagging_fraction=0.7892603819633417\n",
      "[LightGBM] [Warning] feature_fraction is set=0.5283564886587215, colsample_bytree=1.0 will be ignored. Current value: feature_fraction=0.5283564886587215\n",
      "[LightGBM] [Warning] bagging_fraction is set=0.7892603819633417, subsample=1.0 will be ignored. Current value: bagging_fraction=0.7892603819633417\n",
      "[LightGBM] [Warning] feature_fraction is set=0.5283564886587215, colsample_bytree=1.0 will be ignored. Current value: feature_fraction=0.5283564886587215\n",
      "[LightGBM] [Warning] bagging_fraction is set=0.7892603819633417, subsample=1.0 will be ignored. Current value: bagging_fraction=0.7892603819633417\n",
      "[LightGBM] [Warning] feature_fraction is set=0.5283564886587215, colsample_bytree=1.0 will be ignored. Current value: feature_fraction=0.5283564886587215\n",
      "[LightGBM] [Warning] bagging_fraction is set=0.7892603819633417, subsample=1.0 will be ignored. Current value: bagging_fraction=0.7892603819633417\n",
      "[LightGBM] [Warning] feature_fraction is set=0.5283564886587215, colsample_bytree=1.0 will be ignored. Current value: feature_fraction=0.5283564886587215\n",
      "[LightGBM] [Warning] bagging_fraction is set=0.7892603819633417, subsample=1.0 will be ignored. Current value: bagging_fraction=0.7892603819633417\n",
      "[LightGBM] [Warning] feature_fraction is set=0.5283564886587215, colsample_bytree=1.0 will be ignored. Current value: feature_fraction=0.5283564886587215\n",
      "[LightGBM] [Warning] bagging_fraction is set=0.7892603819633417, subsample=1.0 will be ignored. Current value: bagging_fraction=0.7892603819633417\n",
      "[LightGBM] [Warning] feature_fraction is set=0.5283564886587215, colsample_bytree=1.0 will be ignored. Current value: feature_fraction=0.5283564886587215\n",
      "[LightGBM] [Warning] bagging_fraction is set=0.7892603819633417, subsample=1.0 will be ignored. Current value: bagging_fraction=0.7892603819633417\n",
      "[LightGBM] [Warning] feature_fraction is set=0.5283564886587215, colsample_bytree=1.0 will be ignored. Current value: feature_fraction=0.5283564886587215\n",
      "[LightGBM] [Warning] bagging_fraction is set=0.7892603819633417, subsample=1.0 will be ignored. Current value: bagging_fraction=0.7892603819633417\n",
      "[LightGBM] [Warning] feature_fraction is set=0.5283564886587215, colsample_bytree=1.0 will be ignored. Current value: feature_fraction=0.5283564886587215\n",
      "[LightGBM] [Warning] bagging_fraction is set=0.7892603819633417, subsample=1.0 will be ignored. Current value: bagging_fraction=0.7892603819633417\n",
      "[LightGBM] [Warning] feature_fraction is set=0.5283564886587215, colsample_bytree=1.0 will be ignored. Current value: feature_fraction=0.5283564886587215\n"
     ]
    },
    {
     "name": "stdout",
     "output_type": "stream",
     "text": [
      "[LightGBM] [Warning] bagging_fraction is set=0.7892603819633417, subsample=1.0 will be ignored. Current value: bagging_fraction=0.7892603819633417\n",
      "[LightGBM] [Warning] feature_fraction is set=0.5283564886587215, colsample_bytree=1.0 will be ignored. Current value: feature_fraction=0.5283564886587215\n",
      "[LightGBM] [Warning] bagging_fraction is set=0.7892603819633417, subsample=1.0 will be ignored. Current value: bagging_fraction=0.7892603819633417\n",
      "[LightGBM] [Warning] feature_fraction is set=0.5283564886587215, colsample_bytree=1.0 will be ignored. Current value: feature_fraction=0.5283564886587215\n",
      "[LightGBM] [Warning] bagging_fraction is set=0.7892603819633417, subsample=1.0 will be ignored. Current value: bagging_fraction=0.7892603819633417\n",
      "[LightGBM] [Warning] feature_fraction is set=0.5283564886587215, colsample_bytree=1.0 will be ignored. Current value: feature_fraction=0.5283564886587215\n",
      "[LightGBM] [Warning] bagging_fraction is set=0.7892603819633417, subsample=1.0 will be ignored. Current value: bagging_fraction=0.7892603819633417\n",
      "[LightGBM] [Warning] feature_fraction is set=0.5283564886587215, colsample_bytree=1.0 will be ignored. Current value: feature_fraction=0.5283564886587215\n",
      "[LightGBM] [Warning] bagging_fraction is set=0.7892603819633417, subsample=1.0 will be ignored. Current value: bagging_fraction=0.7892603819633417\n",
      "[LightGBM] [Warning] feature_fraction is set=0.5283564886587215, colsample_bytree=1.0 will be ignored. Current value: feature_fraction=0.5283564886587215\n",
      "[LightGBM] [Warning] bagging_fraction is set=0.7892603819633417, subsample=1.0 will be ignored. Current value: bagging_fraction=0.7892603819633417\n",
      "[LightGBM] [Warning] feature_fraction is set=0.5283564886587215, colsample_bytree=1.0 will be ignored. Current value: feature_fraction=0.5283564886587215\n",
      "[LightGBM] [Warning] bagging_fraction is set=0.7892603819633417, subsample=1.0 will be ignored. Current value: bagging_fraction=0.7892603819633417\n",
      "[LightGBM] [Warning] feature_fraction is set=0.5283564886587215, colsample_bytree=1.0 will be ignored. Current value: feature_fraction=0.5283564886587215\n",
      "[LightGBM] [Warning] bagging_fraction is set=0.7892603819633417, subsample=1.0 will be ignored. Current value: bagging_fraction=0.7892603819633417\n",
      "[LightGBM] [Warning] feature_fraction is set=0.5283564886587215, colsample_bytree=1.0 will be ignored. Current value: feature_fraction=0.5283564886587215\n",
      "[LightGBM] [Warning] bagging_fraction is set=0.7892603819633417, subsample=1.0 will be ignored. Current value: bagging_fraction=0.7892603819633417\n",
      "[LightGBM] [Warning] feature_fraction is set=0.5283564886587215, colsample_bytree=1.0 will be ignored. Current value: feature_fraction=0.5283564886587215\n",
      "[LightGBM] [Warning] bagging_fraction is set=0.7892603819633417, subsample=1.0 will be ignored. Current value: bagging_fraction=0.7892603819633417\n",
      "[LightGBM] [Warning] feature_fraction is set=0.5283564886587215, colsample_bytree=1.0 will be ignored. Current value: feature_fraction=0.5283564886587215\n",
      "[LightGBM] [Warning] bagging_fraction is set=0.7892603819633417, subsample=1.0 will be ignored. Current value: bagging_fraction=0.7892603819633417\n",
      "[LightGBM] [Warning] feature_fraction is set=0.5283564886587215, colsample_bytree=1.0 will be ignored. Current value: feature_fraction=0.5283564886587215\n",
      "[LightGBM] [Warning] bagging_fraction is set=0.7892603819633417, subsample=1.0 will be ignored. Current value: bagging_fraction=0.7892603819633417\n",
      "[LightGBM] [Warning] feature_fraction is set=0.5283564886587215, colsample_bytree=1.0 will be ignored. Current value: feature_fraction=0.5283564886587215\n",
      "[LightGBM] [Warning] bagging_fraction is set=0.7892603819633417, subsample=1.0 will be ignored. Current value: bagging_fraction=0.7892603819633417\n",
      "[LightGBM] [Warning] feature_fraction is set=0.5283564886587215, colsample_bytree=1.0 will be ignored. Current value: feature_fraction=0.5283564886587215\n",
      "[LightGBM] [Warning] bagging_fraction is set=0.7892603819633417, subsample=1.0 will be ignored. Current value: bagging_fraction=0.7892603819633417\n",
      "[LightGBM] [Warning] feature_fraction is set=0.5283564886587215, colsample_bytree=1.0 will be ignored. Current value: feature_fraction=0.5283564886587215\n",
      "[LightGBM] [Warning] bagging_fraction is set=0.7892603819633417, subsample=1.0 will be ignored. Current value: bagging_fraction=0.7892603819633417\n",
      "[LightGBM] [Warning] feature_fraction is set=0.5283564886587215, colsample_bytree=1.0 will be ignored. Current value: feature_fraction=0.5283564886587215\n",
      "[LightGBM] [Warning] bagging_fraction is set=0.7892603819633417, subsample=1.0 will be ignored. Current value: bagging_fraction=0.7892603819633417\n",
      "[LightGBM] [Warning] feature_fraction is set=0.5283564886587215, colsample_bytree=1.0 will be ignored. Current value: feature_fraction=0.5283564886587215\n",
      "[LightGBM] [Warning] bagging_fraction is set=0.7892603819633417, subsample=1.0 will be ignored. Current value: bagging_fraction=0.7892603819633417\n",
      "[LightGBM] [Warning] feature_fraction is set=0.5283564886587215, colsample_bytree=1.0 will be ignored. Current value: feature_fraction=0.5283564886587215\n",
      "[LightGBM] [Warning] bagging_fraction is set=0.7892603819633417, subsample=1.0 will be ignored. Current value: bagging_fraction=0.7892603819633417\n",
      "[LightGBM] [Warning] feature_fraction is set=0.5283564886587215, colsample_bytree=1.0 will be ignored. Current value: feature_fraction=0.5283564886587215\n",
      "[LightGBM] [Warning] bagging_fraction is set=0.7892603819633417, subsample=1.0 will be ignored. Current value: bagging_fraction=0.7892603819633417\n",
      "[LightGBM] [Warning] feature_fraction is set=0.5283564886587215, colsample_bytree=1.0 will be ignored. Current value: feature_fraction=0.5283564886587215\n",
      "[LightGBM] [Warning] bagging_fraction is set=0.7892603819633417, subsample=1.0 will be ignored. Current value: bagging_fraction=0.7892603819633417\n",
      "[LightGBM] [Warning] feature_fraction is set=0.5283564886587215, colsample_bytree=1.0 will be ignored. Current value: feature_fraction=0.5283564886587215\n",
      "[LightGBM] [Warning] bagging_fraction is set=0.7892603819633417, subsample=1.0 will be ignored. Current value: bagging_fraction=0.7892603819633417\n",
      "[LightGBM] [Warning] feature_fraction is set=0.5283564886587215, colsample_bytree=1.0 will be ignored. Current value: feature_fraction=0.5283564886587215\n",
      "[LightGBM] [Warning] bagging_fraction is set=0.7892603819633417, subsample=1.0 will be ignored. Current value: bagging_fraction=0.7892603819633417\n",
      "[LightGBM] [Warning] feature_fraction is set=0.5283564886587215, colsample_bytree=1.0 will be ignored. Current value: feature_fraction=0.5283564886587215\n",
      "[LightGBM] [Warning] bagging_fraction is set=0.7892603819633417, subsample=1.0 will be ignored. Current value: bagging_fraction=0.7892603819633417\n",
      "[LightGBM] [Warning] feature_fraction is set=0.5283564886587215, colsample_bytree=1.0 will be ignored. Current value: feature_fraction=0.5283564886587215\n",
      "[LightGBM] [Warning] bagging_fraction is set=0.7892603819633417, subsample=1.0 will be ignored. Current value: bagging_fraction=0.7892603819633417\n",
      "[LightGBM] [Warning] feature_fraction is set=0.5283564886587215, colsample_bytree=1.0 will be ignored. Current value: feature_fraction=0.5283564886587215\n",
      "[LightGBM] [Warning] bagging_fraction is set=0.7892603819633417, subsample=1.0 will be ignored. Current value: bagging_fraction=0.7892603819633417\n",
      "[LightGBM] [Warning] feature_fraction is set=0.5283564886587215, colsample_bytree=1.0 will be ignored. Current value: feature_fraction=0.5283564886587215\n",
      "[LightGBM] [Warning] bagging_fraction is set=0.7892603819633417, subsample=1.0 will be ignored. Current value: bagging_fraction=0.7892603819633417\n",
      "[LightGBM] [Warning] feature_fraction is set=0.5283564886587215, colsample_bytree=1.0 will be ignored. Current value: feature_fraction=0.5283564886587215\n",
      "[LightGBM] [Warning] bagging_fraction is set=0.7892603819633417, subsample=1.0 will be ignored. Current value: bagging_fraction=0.7892603819633417\n",
      "[LightGBM] [Warning] feature_fraction is set=0.5283564886587215, colsample_bytree=1.0 will be ignored. Current value: feature_fraction=0.5283564886587215\n",
      "[LightGBM] [Warning] bagging_fraction is set=0.7892603819633417, subsample=1.0 will be ignored. Current value: bagging_fraction=0.7892603819633417\n",
      "[LightGBM] [Warning] feature_fraction is set=0.5283564886587215, colsample_bytree=1.0 will be ignored. Current value: feature_fraction=0.5283564886587215\n"
     ]
    },
    {
     "name": "stdout",
     "output_type": "stream",
     "text": [
      "[LightGBM] [Warning] bagging_fraction is set=0.7892603819633417, subsample=1.0 will be ignored. Current value: bagging_fraction=0.7892603819633417\n",
      "[LightGBM] [Warning] feature_fraction is set=0.5283564886587215, colsample_bytree=1.0 will be ignored. Current value: feature_fraction=0.5283564886587215\n",
      "[LightGBM] [Warning] bagging_fraction is set=0.7892603819633417, subsample=1.0 will be ignored. Current value: bagging_fraction=0.7892603819633417\n",
      "[LightGBM] [Warning] feature_fraction is set=0.5283564886587215, colsample_bytree=1.0 will be ignored. Current value: feature_fraction=0.5283564886587215\n",
      "[LightGBM] [Warning] bagging_fraction is set=0.7892603819633417, subsample=1.0 will be ignored. Current value: bagging_fraction=0.7892603819633417\n",
      "[LightGBM] [Warning] feature_fraction is set=0.5283564886587215, colsample_bytree=1.0 will be ignored. Current value: feature_fraction=0.5283564886587215\n",
      "[LightGBM] [Warning] bagging_fraction is set=0.7892603819633417, subsample=1.0 will be ignored. Current value: bagging_fraction=0.7892603819633417\n",
      "[LightGBM] [Warning] feature_fraction is set=0.5283564886587215, colsample_bytree=1.0 will be ignored. Current value: feature_fraction=0.5283564886587215\n",
      "[LightGBM] [Warning] bagging_fraction is set=0.7892603819633417, subsample=1.0 will be ignored. Current value: bagging_fraction=0.7892603819633417\n",
      "[LightGBM] [Warning] feature_fraction is set=0.5283564886587215, colsample_bytree=1.0 will be ignored. Current value: feature_fraction=0.5283564886587215\n",
      "[LightGBM] [Warning] bagging_fraction is set=0.7892603819633417, subsample=1.0 will be ignored. Current value: bagging_fraction=0.7892603819633417\n",
      "[LightGBM] [Warning] feature_fraction is set=0.5283564886587215, colsample_bytree=1.0 will be ignored. Current value: feature_fraction=0.5283564886587215\n",
      "[LightGBM] [Warning] bagging_fraction is set=0.7892603819633417, subsample=1.0 will be ignored. Current value: bagging_fraction=0.7892603819633417\n",
      "[LightGBM] [Warning] feature_fraction is set=0.5283564886587215, colsample_bytree=1.0 will be ignored. Current value: feature_fraction=0.5283564886587215\n",
      "[LightGBM] [Warning] bagging_fraction is set=0.7892603819633417, subsample=1.0 will be ignored. Current value: bagging_fraction=0.7892603819633417\n",
      "[LightGBM] [Warning] feature_fraction is set=0.5283564886587215, colsample_bytree=1.0 will be ignored. Current value: feature_fraction=0.5283564886587215\n",
      "[LightGBM] [Warning] bagging_fraction is set=0.7892603819633417, subsample=1.0 will be ignored. Current value: bagging_fraction=0.7892603819633417\n",
      "[LightGBM] [Warning] feature_fraction is set=0.5283564886587215, colsample_bytree=1.0 will be ignored. Current value: feature_fraction=0.5283564886587215\n",
      "[LightGBM] [Warning] bagging_fraction is set=0.7892603819633417, subsample=1.0 will be ignored. Current value: bagging_fraction=0.7892603819633417\n",
      "[LightGBM] [Warning] feature_fraction is set=0.5283564886587215, colsample_bytree=1.0 will be ignored. Current value: feature_fraction=0.5283564886587215\n",
      "[LightGBM] [Warning] bagging_fraction is set=0.7892603819633417, subsample=1.0 will be ignored. Current value: bagging_fraction=0.7892603819633417\n",
      "[LightGBM] [Warning] feature_fraction is set=0.5283564886587215, colsample_bytree=1.0 will be ignored. Current value: feature_fraction=0.5283564886587215\n",
      "[LightGBM] [Warning] bagging_fraction is set=0.7892603819633417, subsample=1.0 will be ignored. Current value: bagging_fraction=0.7892603819633417\n",
      "[LightGBM] [Warning] feature_fraction is set=0.5283564886587215, colsample_bytree=1.0 will be ignored. Current value: feature_fraction=0.5283564886587215\n",
      "[LightGBM] [Warning] bagging_fraction is set=0.7892603819633417, subsample=1.0 will be ignored. Current value: bagging_fraction=0.7892603819633417\n",
      "[LightGBM] [Warning] feature_fraction is set=0.5283564886587215, colsample_bytree=1.0 will be ignored. Current value: feature_fraction=0.5283564886587215\n",
      "[LightGBM] [Warning] bagging_fraction is set=0.7892603819633417, subsample=1.0 will be ignored. Current value: bagging_fraction=0.7892603819633417\n",
      "[LightGBM] [Warning] feature_fraction is set=0.5283564886587215, colsample_bytree=1.0 will be ignored. Current value: feature_fraction=0.5283564886587215\n",
      "[LightGBM] [Warning] bagging_fraction is set=0.7892603819633417, subsample=1.0 will be ignored. Current value: bagging_fraction=0.7892603819633417\n",
      "[LightGBM] [Warning] feature_fraction is set=0.5283564886587215, colsample_bytree=1.0 will be ignored. Current value: feature_fraction=0.5283564886587215\n",
      "[LightGBM] [Warning] bagging_fraction is set=0.7892603819633417, subsample=1.0 will be ignored. Current value: bagging_fraction=0.7892603819633417\n",
      "[LightGBM] [Warning] feature_fraction is set=0.5283564886587215, colsample_bytree=1.0 will be ignored. Current value: feature_fraction=0.5283564886587215\n",
      "AUC score :predicting D|T_IPW using LGBM: 0.825\n",
      "AUPR score :predicting D|T_IPW using LGBM: 0.279\n"
     ]
    }
   ],
   "source": [
    "model_descr=\"predicting D|T_IPW using LGBM\"\n",
    "train_X_D_given_T_probs_LGBM = getClippedProbs(LGBM_T, train_cross_val_X_D_given_T)\n",
    "LGBM_D_given_T_ipw, test_proba_LGBM_D_given_T_ipw = trainEvalModel(LGBM_D_given_T, train_cross_val_X_D_given_T, \n",
    "                    train_cross_val_y_D_given_T, test_X_D_given_T, test_y_D_given_T, model_descr,\n",
    "                                                            calibrate=False, calibrate_method=calibrate_method)"
   ]
  },
  {
   "cell_type": "code",
   "execution_count": 18,
   "id": "1bb5d624",
   "metadata": {},
   "outputs": [],
   "source": [
    "#use isotonic regression for calibration in the path to save the model\n",
    "processed_data_path = osp.join(processed_data_path, calibrate_method)"
   ]
  },
  {
   "cell_type": "code",
   "execution_count": 29,
   "id": "f3646f37",
   "metadata": {},
   "outputs": [],
   "source": [
    "#save LR models\n",
    "saveFile(osp.join(processed_data_path,'predict_T'), LR_T, 'LR_T.pkl')\n",
    "\n",
    "saveFile(osp.join(processed_data_path,'predict_D_given_T'), LR_D_given_T, 'LR_D_given_T.pkl')\n",
    "\n",
    "saveFile(osp.join(processed_data_path,'predict_D_and_T'), LR_D_and_T, 'LR_D_and_T.pkl')\n",
    "\n",
    "saveFile(osp.join(processed_data_path,'predict_D_given_T_ipw'), LR_D_given_T_ipw, 'LR_D_given_T_ipw.pkl')"
   ]
  },
  {
   "cell_type": "code",
   "execution_count": 19,
   "id": "947d98d5",
   "metadata": {},
   "outputs": [],
   "source": [
    "# save LGBM models\n",
    "saveFile(osp.join(processed_data_path,'predict_T'), LGBM_T, 'LGBM_T.pkl')\n",
    "saveFile(osp.join(processed_data_path,'predict_D_given_T'), LGBM_D_given_T, 'LGBM_D_given_T.pkl')\n",
    "saveFile(osp.join(processed_data_path,'predict_D_and_T'), LGBM_D_and_T, 'LGBM_D_and_T.pkl')\n",
    "saveFile(osp.join(processed_data_path,'predict_D_given_T_ipw'), LGBM_D_given_T_ipw, 'LGBM_D_given_T_ipw.pkl')"
   ]
  },
  {
   "cell_type": "code",
   "execution_count": 31,
   "id": "e249c263",
   "metadata": {},
   "outputs": [],
   "source": [
    "random_state=0\n",
    "bst_params_D_pseudo_LR = bst_params_D_given_T_LR\n",
    "bst_params_D_pseudo_LGBM = bst_params_D_given_T_LGBM\n",
    "LR_D_pseudo = LogisticRegression(**bst_params_D_pseudo_LR)\n",
    "LGBM_D_pseudo = LGBMClassifier(**bst_params_D_pseudo_LGBM)"
   ]
  },
  {
   "cell_type": "code",
   "execution_count": 37,
   "id": "aa499381",
   "metadata": {},
   "outputs": [
    {
     "name": "stdout",
     "output_type": "stream",
     "text": [
      "AUC score :Logistic Regression with hard pseudo labels: 0.799\n",
      "AUPR score :Logistic Regression with hard pseudo labels: 0.243\n"
     ]
    }
   ],
   "source": [
    "#predict the outcomes\n",
    "#should be using copy and deepcopy ?\n",
    "\n",
    "#assert that the pseudo labels are only binary in nature and not probs\n",
    "train_cross_val_idxs=np.concatenate((train_idxs, val_idxs))\n",
    "LR_D_pseudo, test_probs_D_pseudo_LR = trainHardPseudo(LR_D_given_T, df_cleaned, train_idxs, val_idxs,\n",
    "                        train_X, val_X, LR_D_pseudo, test_X_D_given_T, test_y_D_given_T, \n",
    "                        model_descr=\"Logistic Regression with hard pseudo labels\", \n",
    "                                                      calibrate=False, calibrate_method=calibrate_method)"
   ]
  },
  {
   "cell_type": "code",
   "execution_count": 38,
   "id": "e209236e",
   "metadata": {},
   "outputs": [
    {
     "name": "stdout",
     "output_type": "stream",
     "text": [
      "[LightGBM] [Warning] bagging_fraction is set=0.7892603819633417, subsample=1.0 will be ignored. Current value: bagging_fraction=0.7892603819633417\n",
      "[LightGBM] [Warning] feature_fraction is set=0.5283564886587215, colsample_bytree=1.0 will be ignored. Current value: feature_fraction=0.5283564886587215\n",
      "[LightGBM] [Warning] bagging_fraction is set=0.7892603819633417, subsample=1.0 will be ignored. Current value: bagging_fraction=0.7892603819633417\n",
      "[LightGBM] [Warning] feature_fraction is set=0.5283564886587215, colsample_bytree=1.0 will be ignored. Current value: feature_fraction=0.5283564886587215\n",
      "[LightGBM] [Warning] bagging_fraction is set=0.7892603819633417, subsample=1.0 will be ignored. Current value: bagging_fraction=0.7892603819633417\n",
      "[LightGBM] [Warning] feature_fraction is set=0.5283564886587215, colsample_bytree=1.0 will be ignored. Current value: feature_fraction=0.5283564886587215\n",
      "[LightGBM] [Warning] bagging_fraction is set=0.7892603819633417, subsample=1.0 will be ignored. Current value: bagging_fraction=0.7892603819633417\n",
      "[LightGBM] [Warning] feature_fraction is set=0.5283564886587215, colsample_bytree=1.0 will be ignored. Current value: feature_fraction=0.5283564886587215\n",
      "[LightGBM] [Warning] bagging_fraction is set=0.7892603819633417, subsample=1.0 will be ignored. Current value: bagging_fraction=0.7892603819633417\n",
      "[LightGBM] [Warning] feature_fraction is set=0.5283564886587215, colsample_bytree=1.0 will be ignored. Current value: feature_fraction=0.5283564886587215\n",
      "AUC score :LGBM with hard pseudo labels: 0.817\n",
      "AUPR score :LGBM with hard pseudo labels: 0.274\n"
     ]
    }
   ],
   "source": [
    "LGBM_D_pseudo, test_probs_D_pseudo_LGBM = trainHardPseudo(LGBM_D_given_T, df_cleaned, train_idxs, val_idxs,\n",
    "                        train_X, val_X, LGBM_D_pseudo, test_X_D_given_T, test_y_D_given_T, \n",
    "                        model_descr=\"LGBM with hard pseudo labels\", \n",
    "                                                          calibrate=False, calibrate_method=calibrate_method)"
   ]
  },
  {
   "cell_type": "code",
   "execution_count": 45,
   "id": "2a420c67",
   "metadata": {},
   "outputs": [
    {
     "data": {
      "text/plain": [
       "'/share/pierson/selective_labels_data/hirid_data_analysis/richras_dir/learning_from_doctor_and_patient/output_directory/stop_and_frisk/isotonic'"
      ]
     },
     "execution_count": 45,
     "metadata": {},
     "output_type": "execute_result"
    }
   ],
   "source": [
    "processed_data_path"
   ]
  },
  {
   "cell_type": "code",
   "execution_count": 46,
   "id": "37735f24",
   "metadata": {},
   "outputs": [],
   "source": [
    "#save LR models\n",
    "saveFile(osp.join(processed_data_path,'predict_D_pseudo'), LR_D_pseudo, 'LR_D_pseudo.pkl')\n"
   ]
  },
  {
   "cell_type": "code",
   "execution_count": 47,
   "id": "1581bf23",
   "metadata": {},
   "outputs": [],
   "source": [
    "# save LGBM models\n",
    "saveFile(osp.join(processed_data_path,'predict_D_pseudo'), LGBM_D_pseudo, 'LGBM_D_pseudo.pkl')"
   ]
  },
  {
   "cell_type": "code",
   "execution_count": null,
   "id": "0ebe7923",
   "metadata": {},
   "outputs": [],
   "source": []
  }
 ],
 "metadata": {
  "kernelspec": {
   "display_name": "icu-benchmark",
   "language": "python",
   "name": "icu-benchmark"
  },
  "language_info": {
   "codemirror_mode": {
    "name": "ipython",
    "version": 3
   },
   "file_extension": ".py",
   "mimetype": "text/x-python",
   "name": "python",
   "nbconvert_exporter": "python",
   "pygments_lexer": "ipython3",
   "version": "3.8.8"
  }
 },
 "nbformat": 4,
 "nbformat_minor": 5
}
