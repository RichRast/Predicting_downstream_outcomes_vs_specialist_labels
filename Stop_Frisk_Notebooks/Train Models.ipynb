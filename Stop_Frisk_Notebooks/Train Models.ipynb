{
 "cells": [
  {
   "cell_type": "code",
   "execution_count": 1,
   "id": "91576d02",
   "metadata": {},
   "outputs": [],
   "source": [
    "import numpy as np\n",
    "import pandas as pd\n",
    "import matplotlib\n",
    "import matplotlib.pyplot as plt\n",
    "import matplotlib.patches as mpatches\n",
    "from scipy import stats\n",
    "import seaborn as sns\n",
    "import os\n",
    "import os.path as osp\n",
    "import sys\n",
    "import pickle\n",
    "import joblib\n",
    "from collections import Counter\n",
    "from itertools import product\n",
    "import torch\n",
    "import pdb\n",
    "import random\n",
    "import tables\n",
    "from sklearn.linear_model import LogisticRegression, LinearRegression\n",
    "from datetime import datetime\n",
    "from sklearn.preprocessing import OneHotEncoder\n",
    "from sklearn.metrics import confusion_matrix, roc_auc_score, classification_report, average_precision_score,\\\n",
    "balanced_accuracy_score\n",
    "from lightgbm import LGBMClassifier, LGBMRegressor\n",
    "from sklearn.calibration import CalibratedClassifierCV\n",
    "import heckman\n",
    "from heckman import Heckman"
   ]
  },
  {
   "cell_type": "code",
   "execution_count": 2,
   "id": "2358d4cd",
   "metadata": {},
   "outputs": [],
   "source": [
    "SEED=90210\n",
    "np.random.seed(SEED)"
   ]
  },
  {
   "cell_type": "code",
   "execution_count": 3,
   "id": "4f94421d",
   "metadata": {},
   "outputs": [],
   "source": [
    "os.environ['USER_PATH']='/share/pierson/selective_labels_data/hirid_data_analysis/richras_dir/learning_from_doctor_and_patient/'\n",
    "os.environ['OUT_PATH']='/share/pierson/selective_labels_data/hirid_data_analysis/richras_dir/learning_from_doctor_and_patient/output_directory'"
   ]
  },
  {
   "cell_type": "code",
   "execution_count": 4,
   "id": "35d7e3dc",
   "metadata": {},
   "outputs": [],
   "source": [
    "open_path=osp.join(os.environ.get('OUT_PATH'), 'stop_and_frisk', 'stop_and_frisk.pkl')\n",
    "with open(f\"{open_path}\", \"rb\") as input_file:\n",
    "    dict_raw_sf= pickle.load(input_file)\n",
    "df_raw_sf = dict_raw_sf['stops']"
   ]
  },
  {
   "cell_type": "code",
   "execution_count": 5,
   "id": "98788ea8",
   "metadata": {},
   "outputs": [
    {
     "data": {
      "text/html": [
       "<div>\n",
       "<style scoped>\n",
       "    .dataframe tbody tr th:only-of-type {\n",
       "        vertical-align: middle;\n",
       "    }\n",
       "\n",
       "    .dataframe tbody tr th {\n",
       "        vertical-align: top;\n",
       "    }\n",
       "\n",
       "    .dataframe thead th {\n",
       "        text-align: right;\n",
       "    }\n",
       "</style>\n",
       "<table border=\"1\" class=\"dataframe\">\n",
       "  <thead>\n",
       "    <tr style=\"text-align: right;\">\n",
       "      <th></th>\n",
       "      <th>year</th>\n",
       "      <th>date</th>\n",
       "      <th>time</th>\n",
       "      <th>precinct</th>\n",
       "      <th>xcoord</th>\n",
       "      <th>ycoord</th>\n",
       "      <th>serial</th>\n",
       "      <th>radio.run</th>\n",
       "      <th>inside.outside</th>\n",
       "      <th>location.housing</th>\n",
       "      <th>...</th>\n",
       "      <th>suspect.height</th>\n",
       "      <th>suspect.weight</th>\n",
       "      <th>suspect.hair</th>\n",
       "      <th>suspect.eye</th>\n",
       "      <th>suspect.build</th>\n",
       "      <th>found.gun</th>\n",
       "      <th>found.weapon</th>\n",
       "      <th>id</th>\n",
       "      <th>lat</th>\n",
       "      <th>lon</th>\n",
       "    </tr>\n",
       "  </thead>\n",
       "  <tbody>\n",
       "    <tr>\n",
       "      <th>0</th>\n",
       "      <td>2006</td>\n",
       "      <td>NaN</td>\n",
       "      <td>NaN</td>\n",
       "      <td>NaN</td>\n",
       "      <td>1006611</td>\n",
       "      <td>233503</td>\n",
       "      <td>NaN</td>\n",
       "      <td>False</td>\n",
       "      <td>NaN</td>\n",
       "      <td>neither</td>\n",
       "      <td>...</td>\n",
       "      <td>5.583333</td>\n",
       "      <td>160</td>\n",
       "      <td>black</td>\n",
       "      <td>brown</td>\n",
       "      <td>medium</td>\n",
       "      <td>False</td>\n",
       "      <td>False</td>\n",
       "      <td>2</td>\n",
       "      <td>40.807559</td>\n",
       "      <td>-73.919226</td>\n",
       "    </tr>\n",
       "    <tr>\n",
       "      <th>1</th>\n",
       "      <td>2006</td>\n",
       "      <td>2006-01-01</td>\n",
       "      <td>14:10</td>\n",
       "      <td>1</td>\n",
       "      <td>981738</td>\n",
       "      <td>198272</td>\n",
       "      <td>1</td>\n",
       "      <td>False</td>\n",
       "      <td>True</td>\n",
       "      <td>transit</td>\n",
       "      <td>...</td>\n",
       "      <td>6.083333</td>\n",
       "      <td>155</td>\n",
       "      <td>black</td>\n",
       "      <td>brown</td>\n",
       "      <td>thin</td>\n",
       "      <td>False</td>\n",
       "      <td>False</td>\n",
       "      <td>3</td>\n",
       "      <td>40.710887</td>\n",
       "      <td>-74.009061</td>\n",
       "    </tr>\n",
       "    <tr>\n",
       "      <th>2</th>\n",
       "      <td>2006</td>\n",
       "      <td>2006-01-01</td>\n",
       "      <td>08:50</td>\n",
       "      <td>1</td>\n",
       "      <td>981349</td>\n",
       "      <td>198508</td>\n",
       "      <td>2</td>\n",
       "      <td>False</td>\n",
       "      <td>True</td>\n",
       "      <td>transit</td>\n",
       "      <td>...</td>\n",
       "      <td>5.666667</td>\n",
       "      <td>180</td>\n",
       "      <td>brown</td>\n",
       "      <td>brown</td>\n",
       "      <td>medium</td>\n",
       "      <td>False</td>\n",
       "      <td>False</td>\n",
       "      <td>4</td>\n",
       "      <td>40.711535</td>\n",
       "      <td>-74.010464</td>\n",
       "    </tr>\n",
       "    <tr>\n",
       "      <th>3</th>\n",
       "      <td>2006</td>\n",
       "      <td>2006-01-02</td>\n",
       "      <td>17:00</td>\n",
       "      <td>1</td>\n",
       "      <td>982103</td>\n",
       "      <td>198029</td>\n",
       "      <td>3</td>\n",
       "      <td>False</td>\n",
       "      <td>True</td>\n",
       "      <td>transit</td>\n",
       "      <td>...</td>\n",
       "      <td>5.583333</td>\n",
       "      <td>170</td>\n",
       "      <td>black</td>\n",
       "      <td>black</td>\n",
       "      <td>medium</td>\n",
       "      <td>False</td>\n",
       "      <td>False</td>\n",
       "      <td>5</td>\n",
       "      <td>40.710220</td>\n",
       "      <td>-74.007744</td>\n",
       "    </tr>\n",
       "    <tr>\n",
       "      <th>4</th>\n",
       "      <td>2006</td>\n",
       "      <td>2006-01-01</td>\n",
       "      <td>20:10</td>\n",
       "      <td>1</td>\n",
       "      <td>983359</td>\n",
       "      <td>203119</td>\n",
       "      <td>4</td>\n",
       "      <td>True</td>\n",
       "      <td>True</td>\n",
       "      <td>neither</td>\n",
       "      <td>...</td>\n",
       "      <td>5.666667</td>\n",
       "      <td>200</td>\n",
       "      <td>brown</td>\n",
       "      <td>brown</td>\n",
       "      <td>medium</td>\n",
       "      <td>False</td>\n",
       "      <td>False</td>\n",
       "      <td>6</td>\n",
       "      <td>40.724191</td>\n",
       "      <td>-74.003215</td>\n",
       "    </tr>\n",
       "    <tr>\n",
       "      <th>...</th>\n",
       "      <td>...</td>\n",
       "      <td>...</td>\n",
       "      <td>...</td>\n",
       "      <td>...</td>\n",
       "      <td>...</td>\n",
       "      <td>...</td>\n",
       "      <td>...</td>\n",
       "      <td>...</td>\n",
       "      <td>...</td>\n",
       "      <td>...</td>\n",
       "      <td>...</td>\n",
       "      <td>...</td>\n",
       "      <td>...</td>\n",
       "      <td>...</td>\n",
       "      <td>...</td>\n",
       "      <td>...</td>\n",
       "      <td>...</td>\n",
       "      <td>...</td>\n",
       "      <td>...</td>\n",
       "      <td>...</td>\n",
       "      <td>...</td>\n",
       "    </tr>\n",
       "    <tr>\n",
       "      <th>4086141</th>\n",
       "      <td>2013</td>\n",
       "      <td>2013-12-31</td>\n",
       "      <td>23:20</td>\n",
       "      <td>45</td>\n",
       "      <td>1032876</td>\n",
       "      <td>2</td>\n",
       "      <td>1160</td>\n",
       "      <td>False</td>\n",
       "      <td>False</td>\n",
       "      <td>housing</td>\n",
       "      <td>...</td>\n",
       "      <td>6.083333</td>\n",
       "      <td>198</td>\n",
       "      <td>black</td>\n",
       "      <td>brown</td>\n",
       "      <td>medium</td>\n",
       "      <td>False</td>\n",
       "      <td>False</td>\n",
       "      <td>4111824</td>\n",
       "      <td>40.166540</td>\n",
       "      <td>-73.826025</td>\n",
       "    </tr>\n",
       "    <tr>\n",
       "      <th>4086142</th>\n",
       "      <td>2013</td>\n",
       "      <td>2013-12-31</td>\n",
       "      <td>23:37</td>\n",
       "      <td>9</td>\n",
       "      <td>987234</td>\n",
       "      <td>2</td>\n",
       "      <td>2338</td>\n",
       "      <td>False</td>\n",
       "      <td>False</td>\n",
       "      <td>neither</td>\n",
       "      <td>...</td>\n",
       "      <td>5.500000</td>\n",
       "      <td>220</td>\n",
       "      <td>black</td>\n",
       "      <td>black</td>\n",
       "      <td>medium</td>\n",
       "      <td>False</td>\n",
       "      <td>True</td>\n",
       "      <td>4111825</td>\n",
       "      <td>40.166672</td>\n",
       "      <td>-73.989324</td>\n",
       "    </tr>\n",
       "    <tr>\n",
       "      <th>4086143</th>\n",
       "      <td>2013</td>\n",
       "      <td>2013-12-31</td>\n",
       "      <td>23:50</td>\n",
       "      <td>49</td>\n",
       "      <td>1022168</td>\n",
       "      <td>2</td>\n",
       "      <td>1645</td>\n",
       "      <td>False</td>\n",
       "      <td>False</td>\n",
       "      <td>neither</td>\n",
       "      <td>...</td>\n",
       "      <td>5.750000</td>\n",
       "      <td>150</td>\n",
       "      <td>black</td>\n",
       "      <td>brown</td>\n",
       "      <td>medium</td>\n",
       "      <td>False</td>\n",
       "      <td>False</td>\n",
       "      <td>4111826</td>\n",
       "      <td>40.166592</td>\n",
       "      <td>-73.864336</td>\n",
       "    </tr>\n",
       "    <tr>\n",
       "      <th>4086144</th>\n",
       "      <td>2013</td>\n",
       "      <td>2013-12-31</td>\n",
       "      <td>23:50</td>\n",
       "      <td>49</td>\n",
       "      <td>1022168</td>\n",
       "      <td>2</td>\n",
       "      <td>1647</td>\n",
       "      <td>False</td>\n",
       "      <td>False</td>\n",
       "      <td>neither</td>\n",
       "      <td>...</td>\n",
       "      <td>5.833333</td>\n",
       "      <td>215</td>\n",
       "      <td>black</td>\n",
       "      <td>brown</td>\n",
       "      <td>medium</td>\n",
       "      <td>False</td>\n",
       "      <td>False</td>\n",
       "      <td>4111827</td>\n",
       "      <td>40.166592</td>\n",
       "      <td>-73.864336</td>\n",
       "    </tr>\n",
       "    <tr>\n",
       "      <th>4086145</th>\n",
       "      <td>2013</td>\n",
       "      <td>2013-12-31</td>\n",
       "      <td>23:50</td>\n",
       "      <td>44</td>\n",
       "      <td>1006912</td>\n",
       "      <td>2</td>\n",
       "      <td>3485</td>\n",
       "      <td>False</td>\n",
       "      <td>False</td>\n",
       "      <td>neither</td>\n",
       "      <td>...</td>\n",
       "      <td>5.500000</td>\n",
       "      <td>170</td>\n",
       "      <td>black</td>\n",
       "      <td>brown</td>\n",
       "      <td>medium</td>\n",
       "      <td>False</td>\n",
       "      <td>False</td>\n",
       "      <td>4111828</td>\n",
       "      <td>40.166643</td>\n",
       "      <td>-73.918919</td>\n",
       "    </tr>\n",
       "  </tbody>\n",
       "</table>\n",
       "<p>4086146 rows × 89 columns</p>\n",
       "</div>"
      ],
      "text/plain": [
       "         year        date   time precinct   xcoord  ycoord serial  radio.run  \\\n",
       "0        2006         NaN    NaN      NaN  1006611  233503    NaN      False   \n",
       "1        2006  2006-01-01  14:10        1   981738  198272      1      False   \n",
       "2        2006  2006-01-01  08:50        1   981349  198508      2      False   \n",
       "3        2006  2006-01-02  17:00        1   982103  198029      3      False   \n",
       "4        2006  2006-01-01  20:10        1   983359  203119      4       True   \n",
       "...       ...         ...    ...      ...      ...     ...    ...        ...   \n",
       "4086141  2013  2013-12-31  23:20       45  1032876       2   1160      False   \n",
       "4086142  2013  2013-12-31  23:37        9   987234       2   2338      False   \n",
       "4086143  2013  2013-12-31  23:50       49  1022168       2   1645      False   \n",
       "4086144  2013  2013-12-31  23:50       49  1022168       2   1647      False   \n",
       "4086145  2013  2013-12-31  23:50       44  1006912       2   3485      False   \n",
       "\n",
       "        inside.outside location.housing  ...  suspect.height suspect.weight  \\\n",
       "0                  NaN          neither  ...        5.583333            160   \n",
       "1                 True          transit  ...        6.083333            155   \n",
       "2                 True          transit  ...        5.666667            180   \n",
       "3                 True          transit  ...        5.583333            170   \n",
       "4                 True          neither  ...        5.666667            200   \n",
       "...                ...              ...  ...             ...            ...   \n",
       "4086141          False          housing  ...        6.083333            198   \n",
       "4086142          False          neither  ...        5.500000            220   \n",
       "4086143          False          neither  ...        5.750000            150   \n",
       "4086144          False          neither  ...        5.833333            215   \n",
       "4086145          False          neither  ...        5.500000            170   \n",
       "\n",
       "        suspect.hair suspect.eye  suspect.build  found.gun  found.weapon  \\\n",
       "0              black       brown         medium      False         False   \n",
       "1              black       brown           thin      False         False   \n",
       "2              brown       brown         medium      False         False   \n",
       "3              black       black         medium      False         False   \n",
       "4              brown       brown         medium      False         False   \n",
       "...              ...         ...            ...        ...           ...   \n",
       "4086141        black       brown         medium      False         False   \n",
       "4086142        black       black         medium      False          True   \n",
       "4086143        black       brown         medium      False         False   \n",
       "4086144        black       brown         medium      False         False   \n",
       "4086145        black       brown         medium      False         False   \n",
       "\n",
       "              id        lat        lon  \n",
       "0              2  40.807559 -73.919226  \n",
       "1              3  40.710887 -74.009061  \n",
       "2              4  40.711535 -74.010464  \n",
       "3              5  40.710220 -74.007744  \n",
       "4              6  40.724191 -74.003215  \n",
       "...          ...        ...        ...  \n",
       "4086141  4111824  40.166540 -73.826025  \n",
       "4086142  4111825  40.166672 -73.989324  \n",
       "4086143  4111826  40.166592 -73.864336  \n",
       "4086144  4111827  40.166592 -73.864336  \n",
       "4086145  4111828  40.166643 -73.918919  \n",
       "\n",
       "[4086146 rows x 89 columns]"
      ]
     },
     "execution_count": 5,
     "metadata": {},
     "output_type": "execute_result"
    }
   ],
   "source": [
    "df_raw_sf"
   ]
  },
  {
   "cell_type": "markdown",
   "id": "6ef5dfe2",
   "metadata": {},
   "source": [
    "## filter the dataframe for years between 2008 and 2012"
   ]
  },
  {
   "cell_type": "code",
   "execution_count": 6,
   "id": "c853e04f",
   "metadata": {},
   "outputs": [],
   "source": [
    "years=[2008, 2009, 2010, 2011]\n",
    "df_raw_sf=df_raw_sf.loc[df_raw_sf[['year']].apply(lambda x: x.isin(years)).values].reset_index(drop=True)"
   ]
  },
  {
   "cell_type": "code",
   "execution_count": 7,
   "id": "98dfab58",
   "metadata": {},
   "outputs": [
    {
     "data": {
      "text/html": [
       "<div>\n",
       "<style scoped>\n",
       "    .dataframe tbody tr th:only-of-type {\n",
       "        vertical-align: middle;\n",
       "    }\n",
       "\n",
       "    .dataframe tbody tr th {\n",
       "        vertical-align: top;\n",
       "    }\n",
       "\n",
       "    .dataframe thead th {\n",
       "        text-align: right;\n",
       "    }\n",
       "</style>\n",
       "<table border=\"1\" class=\"dataframe\">\n",
       "  <thead>\n",
       "    <tr style=\"text-align: right;\">\n",
       "      <th></th>\n",
       "      <th>year</th>\n",
       "      <th>observation.period</th>\n",
       "      <th>suspect.age</th>\n",
       "      <th>suspect.height</th>\n",
       "      <th>id</th>\n",
       "      <th>lat</th>\n",
       "      <th>lon</th>\n",
       "    </tr>\n",
       "  </thead>\n",
       "  <tbody>\n",
       "    <tr>\n",
       "      <th>count</th>\n",
       "      <td>2.395847e+06</td>\n",
       "      <td>2.395847e+06</td>\n",
       "      <td>2.395847e+06</td>\n",
       "      <td>2.395847e+06</td>\n",
       "      <td>2.395847e+06</td>\n",
       "      <td>2.315618e+06</td>\n",
       "      <td>2.315618e+06</td>\n",
       "    </tr>\n",
       "    <tr>\n",
       "      <th>mean</th>\n",
       "      <td>2.009595e+03</td>\n",
       "      <td>2.520337e+00</td>\n",
       "      <td>2.802747e+01</td>\n",
       "      <td>5.716220e+00</td>\n",
       "      <td>2.183050e+06</td>\n",
       "      <td>4.072874e+01</td>\n",
       "      <td>-7.391977e+01</td>\n",
       "    </tr>\n",
       "    <tr>\n",
       "      <th>std</th>\n",
       "      <td>1.121900e+00</td>\n",
       "      <td>5.845748e+00</td>\n",
       "      <td>1.149359e+01</td>\n",
       "      <td>2.678002e-01</td>\n",
       "      <td>6.951285e+05</td>\n",
       "      <td>8.014419e-02</td>\n",
       "      <td>7.583827e-02</td>\n",
       "    </tr>\n",
       "    <tr>\n",
       "      <th>min</th>\n",
       "      <td>2.008000e+03</td>\n",
       "      <td>0.000000e+00</td>\n",
       "      <td>1.000000e+01</td>\n",
       "      <td>3.000000e+00</td>\n",
       "      <td>9.785880e+05</td>\n",
       "      <td>4.049805e+01</td>\n",
       "      <td>-7.425525e+01</td>\n",
       "    </tr>\n",
       "    <tr>\n",
       "      <th>25%</th>\n",
       "      <td>2.009000e+03</td>\n",
       "      <td>1.000000e+00</td>\n",
       "      <td>1.900000e+01</td>\n",
       "      <td>5.583333e+00</td>\n",
       "      <td>1.581292e+06</td>\n",
       "      <td>4.067016e+01</td>\n",
       "      <td>-7.395512e+01</td>\n",
       "    </tr>\n",
       "    <tr>\n",
       "      <th>50%</th>\n",
       "      <td>2.010000e+03</td>\n",
       "      <td>1.000000e+00</td>\n",
       "      <td>2.400000e+01</td>\n",
       "      <td>5.750000e+00</td>\n",
       "      <td>2.183052e+06</td>\n",
       "      <td>4.071153e+01</td>\n",
       "      <td>-7.392233e+01</td>\n",
       "    </tr>\n",
       "    <tr>\n",
       "      <th>75%</th>\n",
       "      <td>2.011000e+03</td>\n",
       "      <td>2.000000e+00</td>\n",
       "      <td>3.400000e+01</td>\n",
       "      <td>5.916667e+00</td>\n",
       "      <td>2.785018e+06</td>\n",
       "      <td>4.080349e+01</td>\n",
       "      <td>-7.388080e+01</td>\n",
       "    </tr>\n",
       "    <tr>\n",
       "      <th>max</th>\n",
       "      <td>2.011000e+03</td>\n",
       "      <td>9.990000e+02</td>\n",
       "      <td>8.000000e+01</td>\n",
       "      <td>7.916667e+00</td>\n",
       "      <td>3.387066e+06</td>\n",
       "      <td>4.091289e+01</td>\n",
       "      <td>-7.370047e+01</td>\n",
       "    </tr>\n",
       "  </tbody>\n",
       "</table>\n",
       "</div>"
      ],
      "text/plain": [
       "               year  observation.period   suspect.age  suspect.height  \\\n",
       "count  2.395847e+06        2.395847e+06  2.395847e+06    2.395847e+06   \n",
       "mean   2.009595e+03        2.520337e+00  2.802747e+01    5.716220e+00   \n",
       "std    1.121900e+00        5.845748e+00  1.149359e+01    2.678002e-01   \n",
       "min    2.008000e+03        0.000000e+00  1.000000e+01    3.000000e+00   \n",
       "25%    2.009000e+03        1.000000e+00  1.900000e+01    5.583333e+00   \n",
       "50%    2.010000e+03        1.000000e+00  2.400000e+01    5.750000e+00   \n",
       "75%    2.011000e+03        2.000000e+00  3.400000e+01    5.916667e+00   \n",
       "max    2.011000e+03        9.990000e+02  8.000000e+01    7.916667e+00   \n",
       "\n",
       "                 id           lat           lon  \n",
       "count  2.395847e+06  2.315618e+06  2.315618e+06  \n",
       "mean   2.183050e+06  4.072874e+01 -7.391977e+01  \n",
       "std    6.951285e+05  8.014419e-02  7.583827e-02  \n",
       "min    9.785880e+05  4.049805e+01 -7.425525e+01  \n",
       "25%    1.581292e+06  4.067016e+01 -7.395512e+01  \n",
       "50%    2.183052e+06  4.071153e+01 -7.392233e+01  \n",
       "75%    2.785018e+06  4.080349e+01 -7.388080e+01  \n",
       "max    3.387066e+06  4.091289e+01 -7.370047e+01  "
      ]
     },
     "execution_count": 7,
     "metadata": {},
     "output_type": "execute_result"
    }
   ],
   "source": [
    "df_raw_sf.describe()"
   ]
  },
  {
   "cell_type": "code",
   "execution_count": 8,
   "id": "e5a43315",
   "metadata": {
    "scrolled": true
   },
   "outputs": [
    {
     "data": {
      "text/plain": [
       "year                  2008\n",
       "date            2008-01-25\n",
       "time                 22:25\n",
       "precinct                73\n",
       "xcoord             1009977\n",
       "                   ...    \n",
       "found.gun            False\n",
       "found.weapon         False\n",
       "id                  978599\n",
       "lat              40.667579\n",
       "lon             -73.907262\n",
       "Name: 10, Length: 89, dtype: object"
      ]
     },
     "execution_count": 8,
     "metadata": {},
     "output_type": "execute_result"
    }
   ],
   "source": [
    "df_raw_sf.iloc[10]"
   ]
  },
  {
   "cell_type": "markdown",
   "id": "bce4b879",
   "metadata": {},
   "source": [
    "## drop na for suspect.race, suspect.sex"
   ]
  },
  {
   "cell_type": "code",
   "execution_count": 10,
   "id": "21668831",
   "metadata": {},
   "outputs": [
    {
     "name": "stdout",
     "output_type": "stream",
     "text": [
      " number of rows with suspect.race value as nan:16777\n",
      " number of rows with suspect.sex value as nan:40323\n",
      " number of rows with time value as nan:382\n",
      " number of rows with date value as nan:382\n",
      " number of rows with suspect.hair value as nan:2803\n",
      " number of rows with suspected.crime value as nan:49\n",
      " number of rows with suspect.weight value as nan:1637\n"
     ]
    }
   ],
   "source": [
    "print(f\" number of rows with suspect.race value as nan:{df_raw_sf['suspect.race'].isna().sum()}\")\n",
    "print(f\" number of rows with suspect.sex value as nan:{df_raw_sf['suspect.sex'].isna().sum()}\")\n",
    "# drop these columns\n",
    "df_raw_sf=df_raw_sf.loc[~df_raw_sf['suspect.race'].isna()]\n",
    "df_raw_sf=df_raw_sf.loc[~df_raw_sf['suspect.sex'].isna()]\n",
    "print(f\" number of rows with time value as nan:{df_raw_sf['time'].isna().sum()}\")\n",
    "print(f\" number of rows with date value as nan:{df_raw_sf['date'].isna().sum()}\")\n",
    "# drop these columns\n",
    "df_raw_sf=df_raw_sf.loc[~df_raw_sf['time'].isna()]\n",
    "print(f\" number of rows with suspect.hair value as nan:{df_raw_sf['suspect.hair'].isna().sum()}\")\n",
    "print(f\" number of rows with suspected.crime value as nan:{df_raw_sf['suspected.crime'].isna().sum()}\")\n",
    "df_raw_sf=df_raw_sf.loc[~df_raw_sf['suspect.hair'].isna()]\n",
    "df_raw_sf=df_raw_sf.loc[~df_raw_sf['suspected.crime'].isna()]\n",
    "print(f\" number of rows with suspect.weight value as nan:{df_raw_sf['suspect.weight'].isna().sum()}\")\n",
    "df_raw_sf=df_raw_sf.loc[~df_raw_sf['suspect.weight'].isna()]"
   ]
  },
  {
   "cell_type": "markdown",
   "id": "77be30c0",
   "metadata": {},
   "source": [
    "## bin age in  [0, 18, 25, 32, 40, np.inf] bins"
   ]
  },
  {
   "cell_type": "code",
   "execution_count": 11,
   "id": "9e4cf9e9",
   "metadata": {},
   "outputs": [],
   "source": [
    "df_raw_sf[\"suspect.age\"] = pd.cut(df_raw_sf[\"suspect.age\"], bins=[0, 18, 25, 32, 40, np.inf])"
   ]
  },
  {
   "cell_type": "markdown",
   "id": "a703f4ea",
   "metadata": {},
   "source": [
    "## form two new columns month and hour from date and time respectively"
   ]
  },
  {
   "cell_type": "code",
   "execution_count": 12,
   "id": "fde37254",
   "metadata": {},
   "outputs": [],
   "source": [
    "df_raw_sf['time']=df_raw_sf['time'].apply(lambda x: datetime.strptime(str(x),  \"%H:%M\"))\n",
    "df_raw_sf['date']=df_raw_sf['date'].apply(lambda x: datetime.strptime(str(x),  \"%Y-%m-%d\"))\n",
    "df_raw_sf['month'] = df_raw_sf['date'].apply(lambda x: x.month)\n",
    "df_raw_sf['hour'] = df_raw_sf['time'].apply(lambda x: x.hour)"
   ]
  },
  {
   "cell_type": "code",
   "execution_count": 13,
   "id": "044c5d2b",
   "metadata": {},
   "outputs": [],
   "source": [
    "# replace the race names per dict\n",
    "race_dict={'black':'Black', 'black hispanic':'Hispanic', 'white':'White', 'white hispanic':'Hispanic'}\n",
    "df_raw_sf=df_raw_sf.replace({\"suspect.race\": race_dict})"
   ]
  },
  {
   "cell_type": "code",
   "execution_count": 14,
   "id": "b9431708",
   "metadata": {},
   "outputs": [],
   "source": [
    "categories=['Black', 'Hispanic', 'White']\n",
    "df_raw_sf = df_raw_sf.loc[df_raw_sf['suspect.race'].isin(categories)]"
   ]
  },
  {
   "cell_type": "code",
   "execution_count": 15,
   "id": "fe92cba9",
   "metadata": {},
   "outputs": [
    {
     "data": {
      "text/html": [
       "<div>\n",
       "<style scoped>\n",
       "    .dataframe tbody tr th:only-of-type {\n",
       "        vertical-align: middle;\n",
       "    }\n",
       "\n",
       "    .dataframe tbody tr th {\n",
       "        vertical-align: top;\n",
       "    }\n",
       "\n",
       "    .dataframe thead tr th {\n",
       "        text-align: left;\n",
       "    }\n",
       "\n",
       "    .dataframe thead tr:last-of-type th {\n",
       "        text-align: right;\n",
       "    }\n",
       "</style>\n",
       "<table border=\"1\" class=\"dataframe\">\n",
       "  <thead>\n",
       "    <tr>\n",
       "      <th></th>\n",
       "      <th colspan=\"2\" halign=\"left\">frisked</th>\n",
       "      <th colspan=\"2\" halign=\"left\">found.weapon</th>\n",
       "    </tr>\n",
       "    <tr>\n",
       "      <th></th>\n",
       "      <th>sum</th>\n",
       "      <th>count</th>\n",
       "      <th>sum</th>\n",
       "      <th>count</th>\n",
       "    </tr>\n",
       "    <tr>\n",
       "      <th>year</th>\n",
       "      <th></th>\n",
       "      <th></th>\n",
       "      <th></th>\n",
       "      <th></th>\n",
       "    </tr>\n",
       "  </thead>\n",
       "  <tbody>\n",
       "    <tr>\n",
       "      <th>2008</th>\n",
       "      <td>271494</td>\n",
       "      <td>494495</td>\n",
       "      <td>6192</td>\n",
       "      <td>494495</td>\n",
       "    </tr>\n",
       "    <tr>\n",
       "      <th>2009</th>\n",
       "      <td>307784</td>\n",
       "      <td>537882</td>\n",
       "      <td>6860</td>\n",
       "      <td>537882</td>\n",
       "    </tr>\n",
       "    <tr>\n",
       "      <th>2010</th>\n",
       "      <td>314049</td>\n",
       "      <td>552720</td>\n",
       "      <td>7159</td>\n",
       "      <td>552720</td>\n",
       "    </tr>\n",
       "    <tr>\n",
       "      <th>2011</th>\n",
       "      <td>353828</td>\n",
       "      <td>627987</td>\n",
       "      <td>7335</td>\n",
       "      <td>627987</td>\n",
       "    </tr>\n",
       "  </tbody>\n",
       "</table>\n",
       "</div>"
      ],
      "text/plain": [
       "     frisked         found.weapon        \n",
       "         sum   count          sum   count\n",
       "year                                     \n",
       "2008  271494  494495         6192  494495\n",
       "2009  307784  537882         6860  537882\n",
       "2010  314049  552720         7159  552720\n",
       "2011  353828  627987         7335  627987"
      ]
     },
     "execution_count": 15,
     "metadata": {},
     "output_type": "execute_result"
    }
   ],
   "source": [
    "df_raw_sf.groupby(\"year\")[[\"frisked\", \"found.weapon\"]].agg(['sum','count'])"
   ]
  },
  {
   "cell_type": "code",
   "execution_count": 16,
   "id": "3029f41d",
   "metadata": {},
   "outputs": [],
   "source": [
    "# To define the T column, T = 1 if frisked.bc.weapons = 1. \n",
    "# To define D, D = 1 if (frisked.bc.weapons & found.weapon) = 1.\n",
    "# In other words, the test decision is to search for weapons, and the test is positive if the officer finds weapons."
   ]
  },
  {
   "cell_type": "code",
   "execution_count": 17,
   "id": "f886018a",
   "metadata": {},
   "outputs": [],
   "source": [
    "# use and cite WILDS with this github repo page \n",
    "# https://github.com/p-lambda/wilds/blob/472677590de351857197a9bf24958838c39c272b/wilds/datasets/sqf_dataset.py\n",
    "# use and cite fastt with this githup \n",
    "# https://github.com/5harad/fasttt/blob/master/data_processing.R"
   ]
  },
  {
   "cell_type": "code",
   "execution_count": 18,
   "id": "df5c95ab",
   "metadata": {},
   "outputs": [],
   "source": [
    "def get_split_features(columns):\n",
    "    \"\"\"Get features from \"https://github.dev/stanford-policylab/risk-adjusted-regression/tree/master/src\"\"\"\n",
    "    feats_to_use = []\n",
    "    feats_to_use += [\"suspect.race\",\n",
    "  \"suspected.crime\",\n",
    "  \"year\",\n",
    "  \"month\",\n",
    "  \"hour\",\n",
    "  \"precinct\",\n",
    "  \"location.housing\",\n",
    "  \"suspect.sex\",\n",
    "  \"suspect.age\",\n",
    "  \"suspect.height\",\n",
    "  \"suspect.weight\",\n",
    "  \"suspect.hair\",\n",
    "  \"suspect.eye\",\n",
    "  \"suspect.build\",\n",
    "  \"additional.report\",\n",
    "  \"additional.investigation\",\n",
    "  \"additional.proximity\",\n",
    "  \"additional.evasive\",\n",
    "  \"additional.associating\",\n",
    "  \"additional.direction\",\n",
    "  \"additional.highcrime\",\n",
    "  \"additional.time\",\n",
    "  \"additional.sights\",\n",
    "  \"additional.other\",\n",
    "  \"stopped.bc.object\",\n",
    "  \"stopped.bc.desc\",\n",
    "  \"stopped.bc.casing\",\n",
    "  \"stopped.bc.lookout\",\n",
    "  \"stopped.bc.clothing\",\n",
    "  \"stopped.bc.drugs\",\n",
    "  \"stopped.bc.furtive\",\n",
    "  \"stopped.bc.violent\",\n",
    "  \"stopped.bc.bulge\",\n",
    "  \"stopped.bc.other\"]\n",
    "    return feats_to_use"
   ]
  },
  {
   "cell_type": "code",
   "execution_count": 19,
   "id": "6c02b9a4",
   "metadata": {},
   "outputs": [],
   "source": [
    "df_raw_sf['T']=df_raw_sf['frisked']\n",
    "df_raw_sf['D']=df_raw_sf['found.weapon']"
   ]
  },
  {
   "cell_type": "code",
   "execution_count": 20,
   "id": "8f77462f",
   "metadata": {},
   "outputs": [
    {
     "data": {
      "text/html": [
       "<div>\n",
       "<style scoped>\n",
       "    .dataframe tbody tr th:only-of-type {\n",
       "        vertical-align: middle;\n",
       "    }\n",
       "\n",
       "    .dataframe tbody tr th {\n",
       "        vertical-align: top;\n",
       "    }\n",
       "\n",
       "    .dataframe thead th {\n",
       "        text-align: right;\n",
       "    }\n",
       "</style>\n",
       "<table border=\"1\" class=\"dataframe\">\n",
       "  <thead>\n",
       "    <tr style=\"text-align: right;\">\n",
       "      <th></th>\n",
       "      <th></th>\n",
       "      <th>count</th>\n",
       "      <th>mean</th>\n",
       "      <th>std</th>\n",
       "      <th>min</th>\n",
       "      <th>25%</th>\n",
       "      <th>50%</th>\n",
       "      <th>75%</th>\n",
       "      <th>max</th>\n",
       "    </tr>\n",
       "    <tr>\n",
       "      <th>T</th>\n",
       "      <th>D</th>\n",
       "      <th></th>\n",
       "      <th></th>\n",
       "      <th></th>\n",
       "      <th></th>\n",
       "      <th></th>\n",
       "      <th></th>\n",
       "      <th></th>\n",
       "      <th></th>\n",
       "    </tr>\n",
       "  </thead>\n",
       "  <tbody>\n",
       "    <tr>\n",
       "      <th rowspan=\"2\" valign=\"top\">False</th>\n",
       "      <th>False</th>\n",
       "      <td>964245.0</td>\n",
       "      <td>2.174490e+06</td>\n",
       "      <td>699914.632665</td>\n",
       "      <td>978589.0</td>\n",
       "      <td>1564520.00</td>\n",
       "      <td>2174624.0</td>\n",
       "      <td>2786437.00</td>\n",
       "      <td>3387061.0</td>\n",
       "    </tr>\n",
       "    <tr>\n",
       "      <th>True</th>\n",
       "      <td>1684.0</td>\n",
       "      <td>2.269702e+06</td>\n",
       "      <td>667272.625109</td>\n",
       "      <td>978806.0</td>\n",
       "      <td>1722220.75</td>\n",
       "      <td>2331623.0</td>\n",
       "      <td>2830765.75</td>\n",
       "      <td>3386673.0</td>\n",
       "    </tr>\n",
       "    <tr>\n",
       "      <th rowspan=\"2\" valign=\"top\">True</th>\n",
       "      <th>False</th>\n",
       "      <td>1221293.0</td>\n",
       "      <td>2.188759e+06</td>\n",
       "      <td>689845.048987</td>\n",
       "      <td>978588.0</td>\n",
       "      <td>1598209.00</td>\n",
       "      <td>2184756.0</td>\n",
       "      <td>2781628.00</td>\n",
       "      <td>3387066.0</td>\n",
       "    </tr>\n",
       "    <tr>\n",
       "      <th>True</th>\n",
       "      <td>25862.0</td>\n",
       "      <td>2.159603e+06</td>\n",
       "      <td>681127.156531</td>\n",
       "      <td>978628.0</td>\n",
       "      <td>1572639.00</td>\n",
       "      <td>2156164.5</td>\n",
       "      <td>2730445.50</td>\n",
       "      <td>3386674.0</td>\n",
       "    </tr>\n",
       "  </tbody>\n",
       "</table>\n",
       "</div>"
      ],
      "text/plain": [
       "                 count          mean            std       min         25%  \\\n",
       "T     D                                                                     \n",
       "False False   964245.0  2.174490e+06  699914.632665  978589.0  1564520.00   \n",
       "      True      1684.0  2.269702e+06  667272.625109  978806.0  1722220.75   \n",
       "True  False  1221293.0  2.188759e+06  689845.048987  978588.0  1598209.00   \n",
       "      True     25862.0  2.159603e+06  681127.156531  978628.0  1572639.00   \n",
       "\n",
       "                   50%         75%        max  \n",
       "T     D                                        \n",
       "False False  2174624.0  2786437.00  3387061.0  \n",
       "      True   2331623.0  2830765.75  3386673.0  \n",
       "True  False  2184756.0  2781628.00  3387066.0  \n",
       "      True   2156164.5  2730445.50  3386674.0  "
      ]
     },
     "execution_count": 20,
     "metadata": {},
     "output_type": "execute_result"
    }
   ],
   "source": [
    "df_raw_sf.groupby(['T', 'D'])['id'].describe()"
   ]
  },
  {
   "cell_type": "markdown",
   "id": "f1121d70",
   "metadata": {},
   "source": [
    "## mark D as missing (NA) when T==0"
   ]
  },
  {
   "cell_type": "code",
   "execution_count": 10,
   "id": "30604e25",
   "metadata": {},
   "outputs": [
    {
     "ename": "KeyError",
     "evalue": "'T'",
     "output_type": "error",
     "traceback": [
      "\u001b[0;31m---------------------------------------------------------------------------\u001b[0m",
      "\u001b[0;31mKeyError\u001b[0m                                  Traceback (most recent call last)",
      "File \u001b[0;32m~/.conda/envs/icu-benchmark/lib/python3.8/site-packages/pandas/core/indexes/base.py:3080\u001b[0m, in \u001b[0;36mIndex.get_loc\u001b[0;34m(self, key, method, tolerance)\u001b[0m\n\u001b[1;32m   3079\u001b[0m \u001b[38;5;28;01mtry\u001b[39;00m:\n\u001b[0;32m-> 3080\u001b[0m     \u001b[38;5;28;01mreturn\u001b[39;00m \u001b[38;5;28;43mself\u001b[39;49m\u001b[38;5;241;43m.\u001b[39;49m\u001b[43m_engine\u001b[49m\u001b[38;5;241;43m.\u001b[39;49m\u001b[43mget_loc\u001b[49m\u001b[43m(\u001b[49m\u001b[43mcasted_key\u001b[49m\u001b[43m)\u001b[49m\n\u001b[1;32m   3081\u001b[0m \u001b[38;5;28;01mexcept\u001b[39;00m \u001b[38;5;167;01mKeyError\u001b[39;00m \u001b[38;5;28;01mas\u001b[39;00m err:\n",
      "File \u001b[0;32mpandas/_libs/index.pyx:70\u001b[0m, in \u001b[0;36mpandas._libs.index.IndexEngine.get_loc\u001b[0;34m()\u001b[0m\n",
      "File \u001b[0;32mpandas/_libs/index.pyx:101\u001b[0m, in \u001b[0;36mpandas._libs.index.IndexEngine.get_loc\u001b[0;34m()\u001b[0m\n",
      "File \u001b[0;32mpandas/_libs/hashtable_class_helper.pxi:4554\u001b[0m, in \u001b[0;36mpandas._libs.hashtable.PyObjectHashTable.get_item\u001b[0;34m()\u001b[0m\n",
      "File \u001b[0;32mpandas/_libs/hashtable_class_helper.pxi:4562\u001b[0m, in \u001b[0;36mpandas._libs.hashtable.PyObjectHashTable.get_item\u001b[0;34m()\u001b[0m\n",
      "\u001b[0;31mKeyError\u001b[0m: 'T'",
      "\nThe above exception was the direct cause of the following exception:\n",
      "\u001b[0;31mKeyError\u001b[0m                                  Traceback (most recent call last)",
      "Input \u001b[0;32mIn [10]\u001b[0m, in \u001b[0;36m<cell line: 1>\u001b[0;34m()\u001b[0m\n\u001b[0;32m----> 1\u001b[0m df_raw_sf\u001b[38;5;241m.\u001b[39mloc[\u001b[43mdf_raw_sf\u001b[49m\u001b[43m[\u001b[49m\u001b[38;5;124;43m'\u001b[39;49m\u001b[38;5;124;43mT\u001b[39;49m\u001b[38;5;124;43m'\u001b[39;49m\u001b[43m]\u001b[49m\u001b[38;5;241m==\u001b[39m\u001b[38;5;241m0\u001b[39m,\u001b[38;5;124m'\u001b[39m\u001b[38;5;124mD\u001b[39m\u001b[38;5;124m'\u001b[39m]\u001b[38;5;241m=\u001b[39mnp\u001b[38;5;241m.\u001b[39mnan\n\u001b[1;32m      2\u001b[0m df_raw_sf\u001b[38;5;241m.\u001b[39mgroupby([\u001b[38;5;124m'\u001b[39m\u001b[38;5;124mT\u001b[39m\u001b[38;5;124m'\u001b[39m, \u001b[38;5;124m'\u001b[39m\u001b[38;5;124mD\u001b[39m\u001b[38;5;124m'\u001b[39m])[\u001b[38;5;124m'\u001b[39m\u001b[38;5;124mid\u001b[39m\u001b[38;5;124m'\u001b[39m]\u001b[38;5;241m.\u001b[39mdescribe()\n",
      "File \u001b[0;32m~/.conda/envs/icu-benchmark/lib/python3.8/site-packages/pandas/core/frame.py:3024\u001b[0m, in \u001b[0;36mDataFrame.__getitem__\u001b[0;34m(self, key)\u001b[0m\n\u001b[1;32m   3022\u001b[0m \u001b[38;5;28;01mif\u001b[39;00m \u001b[38;5;28mself\u001b[39m\u001b[38;5;241m.\u001b[39mcolumns\u001b[38;5;241m.\u001b[39mnlevels \u001b[38;5;241m>\u001b[39m \u001b[38;5;241m1\u001b[39m:\n\u001b[1;32m   3023\u001b[0m     \u001b[38;5;28;01mreturn\u001b[39;00m \u001b[38;5;28mself\u001b[39m\u001b[38;5;241m.\u001b[39m_getitem_multilevel(key)\n\u001b[0;32m-> 3024\u001b[0m indexer \u001b[38;5;241m=\u001b[39m \u001b[38;5;28;43mself\u001b[39;49m\u001b[38;5;241;43m.\u001b[39;49m\u001b[43mcolumns\u001b[49m\u001b[38;5;241;43m.\u001b[39;49m\u001b[43mget_loc\u001b[49m\u001b[43m(\u001b[49m\u001b[43mkey\u001b[49m\u001b[43m)\u001b[49m\n\u001b[1;32m   3025\u001b[0m \u001b[38;5;28;01mif\u001b[39;00m is_integer(indexer):\n\u001b[1;32m   3026\u001b[0m     indexer \u001b[38;5;241m=\u001b[39m [indexer]\n",
      "File \u001b[0;32m~/.conda/envs/icu-benchmark/lib/python3.8/site-packages/pandas/core/indexes/base.py:3082\u001b[0m, in \u001b[0;36mIndex.get_loc\u001b[0;34m(self, key, method, tolerance)\u001b[0m\n\u001b[1;32m   3080\u001b[0m         \u001b[38;5;28;01mreturn\u001b[39;00m \u001b[38;5;28mself\u001b[39m\u001b[38;5;241m.\u001b[39m_engine\u001b[38;5;241m.\u001b[39mget_loc(casted_key)\n\u001b[1;32m   3081\u001b[0m     \u001b[38;5;28;01mexcept\u001b[39;00m \u001b[38;5;167;01mKeyError\u001b[39;00m \u001b[38;5;28;01mas\u001b[39;00m err:\n\u001b[0;32m-> 3082\u001b[0m         \u001b[38;5;28;01mraise\u001b[39;00m \u001b[38;5;167;01mKeyError\u001b[39;00m(key) \u001b[38;5;28;01mfrom\u001b[39;00m \u001b[38;5;21;01merr\u001b[39;00m\n\u001b[1;32m   3084\u001b[0m \u001b[38;5;28;01mif\u001b[39;00m tolerance \u001b[38;5;129;01mis\u001b[39;00m \u001b[38;5;129;01mnot\u001b[39;00m \u001b[38;5;28;01mNone\u001b[39;00m:\n\u001b[1;32m   3085\u001b[0m     tolerance \u001b[38;5;241m=\u001b[39m \u001b[38;5;28mself\u001b[39m\u001b[38;5;241m.\u001b[39m_convert_tolerance(tolerance, np\u001b[38;5;241m.\u001b[39masarray(key))\n",
      "\u001b[0;31mKeyError\u001b[0m: 'T'"
     ]
    }
   ],
   "source": [
    "df_raw_sf.loc[df_raw_sf['T']==0,'D']=np.nan\n",
    "df_raw_sf.groupby(['T', 'D'])['id'].describe()"
   ]
  },
  {
   "cell_type": "code",
   "execution_count": 22,
   "id": "decfdabb",
   "metadata": {},
   "outputs": [
    {
     "data": {
      "text/plain": [
       "1         NaN\n",
       "4         NaN\n",
       "5         NaN\n",
       "6         NaN\n",
       "7         NaN\n",
       "           ..\n",
       "2395830   NaN\n",
       "2395833   NaN\n",
       "2395837   NaN\n",
       "2395839   NaN\n",
       "2395841   NaN\n",
       "Name: D, Length: 965929, dtype: float64"
      ]
     },
     "execution_count": 22,
     "metadata": {},
     "output_type": "execute_result"
    }
   ],
   "source": [
    "df_raw_sf.loc[df_raw_sf['T']==0,'D']"
   ]
  },
  {
   "cell_type": "code",
   "execution_count": 23,
   "id": "ce380866",
   "metadata": {},
   "outputs": [
    {
     "data": {
      "text/plain": [
       "array(['Black', 'Hispanic', 'White'], dtype=object)"
      ]
     },
     "execution_count": 23,
     "metadata": {},
     "output_type": "execute_result"
    }
   ],
   "source": [
    "df_raw_sf[\"suspect.race\"].unique()"
   ]
  },
  {
   "cell_type": "code",
   "execution_count": 24,
   "id": "93d828b4",
   "metadata": {},
   "outputs": [],
   "source": [
    "feats_to_use=get_split_features(df_raw_sf.columns)"
   ]
  },
  {
   "cell_type": "code",
   "execution_count": 25,
   "id": "782a1164",
   "metadata": {},
   "outputs": [
    {
     "data": {
      "text/html": [
       "<div>\n",
       "<style scoped>\n",
       "    .dataframe tbody tr th:only-of-type {\n",
       "        vertical-align: middle;\n",
       "    }\n",
       "\n",
       "    .dataframe tbody tr th {\n",
       "        vertical-align: top;\n",
       "    }\n",
       "\n",
       "    .dataframe thead th {\n",
       "        text-align: right;\n",
       "    }\n",
       "</style>\n",
       "<table border=\"1\" class=\"dataframe\">\n",
       "  <thead>\n",
       "    <tr style=\"text-align: right;\">\n",
       "      <th></th>\n",
       "      <th>suspect.race</th>\n",
       "      <th>suspected.crime</th>\n",
       "      <th>year</th>\n",
       "      <th>month</th>\n",
       "      <th>hour</th>\n",
       "      <th>precinct</th>\n",
       "      <th>location.housing</th>\n",
       "      <th>suspect.sex</th>\n",
       "      <th>suspect.age</th>\n",
       "      <th>suspect.height</th>\n",
       "      <th>...</th>\n",
       "      <th>stopped.bc.object</th>\n",
       "      <th>stopped.bc.desc</th>\n",
       "      <th>stopped.bc.casing</th>\n",
       "      <th>stopped.bc.lookout</th>\n",
       "      <th>stopped.bc.clothing</th>\n",
       "      <th>stopped.bc.drugs</th>\n",
       "      <th>stopped.bc.furtive</th>\n",
       "      <th>stopped.bc.violent</th>\n",
       "      <th>stopped.bc.bulge</th>\n",
       "      <th>stopped.bc.other</th>\n",
       "    </tr>\n",
       "  </thead>\n",
       "  <tbody>\n",
       "    <tr>\n",
       "      <th>0</th>\n",
       "      <td>Black</td>\n",
       "      <td>cpw</td>\n",
       "      <td>2008</td>\n",
       "      <td>1</td>\n",
       "      <td>1</td>\n",
       "      <td>42</td>\n",
       "      <td>neither</td>\n",
       "      <td>male</td>\n",
       "      <td>(18.0, 25.0]</td>\n",
       "      <td>6.000000</td>\n",
       "      <td>...</td>\n",
       "      <td>False</td>\n",
       "      <td>True</td>\n",
       "      <td>False</td>\n",
       "      <td>False</td>\n",
       "      <td>False</td>\n",
       "      <td>False</td>\n",
       "      <td>True</td>\n",
       "      <td>False</td>\n",
       "      <td>False</td>\n",
       "      <td>True</td>\n",
       "    </tr>\n",
       "    <tr>\n",
       "      <th>1</th>\n",
       "      <td>Hispanic</td>\n",
       "      <td>burglary</td>\n",
       "      <td>2008</td>\n",
       "      <td>1</td>\n",
       "      <td>20</td>\n",
       "      <td>108</td>\n",
       "      <td>neither</td>\n",
       "      <td>male</td>\n",
       "      <td>(18.0, 25.0]</td>\n",
       "      <td>5.583333</td>\n",
       "      <td>...</td>\n",
       "      <td>False</td>\n",
       "      <td>False</td>\n",
       "      <td>False</td>\n",
       "      <td>False</td>\n",
       "      <td>False</td>\n",
       "      <td>False</td>\n",
       "      <td>False</td>\n",
       "      <td>False</td>\n",
       "      <td>False</td>\n",
       "      <td>True</td>\n",
       "    </tr>\n",
       "    <tr>\n",
       "      <th>2</th>\n",
       "      <td>Black</td>\n",
       "      <td>robbery</td>\n",
       "      <td>2008</td>\n",
       "      <td>1</td>\n",
       "      <td>1</td>\n",
       "      <td>100</td>\n",
       "      <td>housing</td>\n",
       "      <td>male</td>\n",
       "      <td>(0.0, 18.0]</td>\n",
       "      <td>6.000000</td>\n",
       "      <td>...</td>\n",
       "      <td>False</td>\n",
       "      <td>True</td>\n",
       "      <td>False</td>\n",
       "      <td>False</td>\n",
       "      <td>False</td>\n",
       "      <td>False</td>\n",
       "      <td>False</td>\n",
       "      <td>False</td>\n",
       "      <td>False</td>\n",
       "      <td>False</td>\n",
       "    </tr>\n",
       "    <tr>\n",
       "      <th>3</th>\n",
       "      <td>Black</td>\n",
       "      <td>robbery</td>\n",
       "      <td>2008</td>\n",
       "      <td>1</td>\n",
       "      <td>19</td>\n",
       "      <td>103</td>\n",
       "      <td>neither</td>\n",
       "      <td>male</td>\n",
       "      <td>(18.0, 25.0]</td>\n",
       "      <td>6.083333</td>\n",
       "      <td>...</td>\n",
       "      <td>False</td>\n",
       "      <td>False</td>\n",
       "      <td>False</td>\n",
       "      <td>True</td>\n",
       "      <td>False</td>\n",
       "      <td>False</td>\n",
       "      <td>True</td>\n",
       "      <td>False</td>\n",
       "      <td>False</td>\n",
       "      <td>False</td>\n",
       "    </tr>\n",
       "    <tr>\n",
       "      <th>4</th>\n",
       "      <td>Black</td>\n",
       "      <td>criminal trespass</td>\n",
       "      <td>2008</td>\n",
       "      <td>1</td>\n",
       "      <td>21</td>\n",
       "      <td>71</td>\n",
       "      <td>housing</td>\n",
       "      <td>male</td>\n",
       "      <td>(0.0, 18.0]</td>\n",
       "      <td>5.750000</td>\n",
       "      <td>...</td>\n",
       "      <td>False</td>\n",
       "      <td>False</td>\n",
       "      <td>False</td>\n",
       "      <td>True</td>\n",
       "      <td>False</td>\n",
       "      <td>False</td>\n",
       "      <td>False</td>\n",
       "      <td>False</td>\n",
       "      <td>False</td>\n",
       "      <td>True</td>\n",
       "    </tr>\n",
       "    <tr>\n",
       "      <th>...</th>\n",
       "      <td>...</td>\n",
       "      <td>...</td>\n",
       "      <td>...</td>\n",
       "      <td>...</td>\n",
       "      <td>...</td>\n",
       "      <td>...</td>\n",
       "      <td>...</td>\n",
       "      <td>...</td>\n",
       "      <td>...</td>\n",
       "      <td>...</td>\n",
       "      <td>...</td>\n",
       "      <td>...</td>\n",
       "      <td>...</td>\n",
       "      <td>...</td>\n",
       "      <td>...</td>\n",
       "      <td>...</td>\n",
       "      <td>...</td>\n",
       "      <td>...</td>\n",
       "      <td>...</td>\n",
       "      <td>...</td>\n",
       "      <td>...</td>\n",
       "    </tr>\n",
       "    <tr>\n",
       "      <th>2395842</th>\n",
       "      <td>Hispanic</td>\n",
       "      <td>cpw</td>\n",
       "      <td>2011</td>\n",
       "      <td>12</td>\n",
       "      <td>23</td>\n",
       "      <td>115</td>\n",
       "      <td>neither</td>\n",
       "      <td>male</td>\n",
       "      <td>(18.0, 25.0]</td>\n",
       "      <td>5.500000</td>\n",
       "      <td>...</td>\n",
       "      <td>False</td>\n",
       "      <td>False</td>\n",
       "      <td>False</td>\n",
       "      <td>False</td>\n",
       "      <td>False</td>\n",
       "      <td>False</td>\n",
       "      <td>True</td>\n",
       "      <td>True</td>\n",
       "      <td>False</td>\n",
       "      <td>False</td>\n",
       "    </tr>\n",
       "    <tr>\n",
       "      <th>2395843</th>\n",
       "      <td>Black</td>\n",
       "      <td>cpw</td>\n",
       "      <td>2011</td>\n",
       "      <td>12</td>\n",
       "      <td>23</td>\n",
       "      <td>23</td>\n",
       "      <td>housing</td>\n",
       "      <td>male</td>\n",
       "      <td>(18.0, 25.0]</td>\n",
       "      <td>5.750000</td>\n",
       "      <td>...</td>\n",
       "      <td>False</td>\n",
       "      <td>False</td>\n",
       "      <td>False</td>\n",
       "      <td>False</td>\n",
       "      <td>False</td>\n",
       "      <td>False</td>\n",
       "      <td>True</td>\n",
       "      <td>False</td>\n",
       "      <td>False</td>\n",
       "      <td>False</td>\n",
       "    </tr>\n",
       "    <tr>\n",
       "      <th>2395844</th>\n",
       "      <td>Black</td>\n",
       "      <td>cpw</td>\n",
       "      <td>2011</td>\n",
       "      <td>12</td>\n",
       "      <td>23</td>\n",
       "      <td>40</td>\n",
       "      <td>neither</td>\n",
       "      <td>male</td>\n",
       "      <td>(18.0, 25.0]</td>\n",
       "      <td>5.750000</td>\n",
       "      <td>...</td>\n",
       "      <td>False</td>\n",
       "      <td>False</td>\n",
       "      <td>False</td>\n",
       "      <td>False</td>\n",
       "      <td>False</td>\n",
       "      <td>False</td>\n",
       "      <td>True</td>\n",
       "      <td>False</td>\n",
       "      <td>False</td>\n",
       "      <td>False</td>\n",
       "    </tr>\n",
       "    <tr>\n",
       "      <th>2395845</th>\n",
       "      <td>Black</td>\n",
       "      <td>cpw</td>\n",
       "      <td>2011</td>\n",
       "      <td>12</td>\n",
       "      <td>23</td>\n",
       "      <td>40</td>\n",
       "      <td>neither</td>\n",
       "      <td>male</td>\n",
       "      <td>(18.0, 25.0]</td>\n",
       "      <td>5.833333</td>\n",
       "      <td>...</td>\n",
       "      <td>False</td>\n",
       "      <td>False</td>\n",
       "      <td>False</td>\n",
       "      <td>False</td>\n",
       "      <td>False</td>\n",
       "      <td>False</td>\n",
       "      <td>True</td>\n",
       "      <td>False</td>\n",
       "      <td>False</td>\n",
       "      <td>False</td>\n",
       "    </tr>\n",
       "    <tr>\n",
       "      <th>2395846</th>\n",
       "      <td>Hispanic</td>\n",
       "      <td>cpw</td>\n",
       "      <td>2011</td>\n",
       "      <td>12</td>\n",
       "      <td>23</td>\n",
       "      <td>23</td>\n",
       "      <td>housing</td>\n",
       "      <td>male</td>\n",
       "      <td>(0.0, 18.0]</td>\n",
       "      <td>5.500000</td>\n",
       "      <td>...</td>\n",
       "      <td>False</td>\n",
       "      <td>False</td>\n",
       "      <td>False</td>\n",
       "      <td>False</td>\n",
       "      <td>False</td>\n",
       "      <td>False</td>\n",
       "      <td>True</td>\n",
       "      <td>False</td>\n",
       "      <td>False</td>\n",
       "      <td>False</td>\n",
       "    </tr>\n",
       "  </tbody>\n",
       "</table>\n",
       "<p>2213084 rows × 34 columns</p>\n",
       "</div>"
      ],
      "text/plain": [
       "        suspect.race    suspected.crime  year  month  hour precinct  \\\n",
       "0              Black                cpw  2008      1     1       42   \n",
       "1           Hispanic           burglary  2008      1    20      108   \n",
       "2              Black            robbery  2008      1     1      100   \n",
       "3              Black            robbery  2008      1    19      103   \n",
       "4              Black  criminal trespass  2008      1    21       71   \n",
       "...              ...                ...   ...    ...   ...      ...   \n",
       "2395842     Hispanic                cpw  2011     12    23      115   \n",
       "2395843        Black                cpw  2011     12    23       23   \n",
       "2395844        Black                cpw  2011     12    23       40   \n",
       "2395845        Black                cpw  2011     12    23       40   \n",
       "2395846     Hispanic                cpw  2011     12    23       23   \n",
       "\n",
       "        location.housing suspect.sex   suspect.age  suspect.height  ...  \\\n",
       "0                neither        male  (18.0, 25.0]        6.000000  ...   \n",
       "1                neither        male  (18.0, 25.0]        5.583333  ...   \n",
       "2                housing        male   (0.0, 18.0]        6.000000  ...   \n",
       "3                neither        male  (18.0, 25.0]        6.083333  ...   \n",
       "4                housing        male   (0.0, 18.0]        5.750000  ...   \n",
       "...                  ...         ...           ...             ...  ...   \n",
       "2395842          neither        male  (18.0, 25.0]        5.500000  ...   \n",
       "2395843          housing        male  (18.0, 25.0]        5.750000  ...   \n",
       "2395844          neither        male  (18.0, 25.0]        5.750000  ...   \n",
       "2395845          neither        male  (18.0, 25.0]        5.833333  ...   \n",
       "2395846          housing        male   (0.0, 18.0]        5.500000  ...   \n",
       "\n",
       "        stopped.bc.object stopped.bc.desc stopped.bc.casing  \\\n",
       "0                   False            True             False   \n",
       "1                   False           False             False   \n",
       "2                   False            True             False   \n",
       "3                   False           False             False   \n",
       "4                   False           False             False   \n",
       "...                   ...             ...               ...   \n",
       "2395842             False           False             False   \n",
       "2395843             False           False             False   \n",
       "2395844             False           False             False   \n",
       "2395845             False           False             False   \n",
       "2395846             False           False             False   \n",
       "\n",
       "        stopped.bc.lookout  stopped.bc.clothing  stopped.bc.drugs  \\\n",
       "0                    False                False             False   \n",
       "1                    False                False             False   \n",
       "2                    False                False             False   \n",
       "3                     True                False             False   \n",
       "4                     True                False             False   \n",
       "...                    ...                  ...               ...   \n",
       "2395842              False                False             False   \n",
       "2395843              False                False             False   \n",
       "2395844              False                False             False   \n",
       "2395845              False                False             False   \n",
       "2395846              False                False             False   \n",
       "\n",
       "         stopped.bc.furtive  stopped.bc.violent  stopped.bc.bulge  \\\n",
       "0                      True               False             False   \n",
       "1                     False               False             False   \n",
       "2                     False               False             False   \n",
       "3                      True               False             False   \n",
       "4                     False               False             False   \n",
       "...                     ...                 ...               ...   \n",
       "2395842                True                True             False   \n",
       "2395843                True               False             False   \n",
       "2395844                True               False             False   \n",
       "2395845                True               False             False   \n",
       "2395846                True               False             False   \n",
       "\n",
       "         stopped.bc.other  \n",
       "0                    True  \n",
       "1                    True  \n",
       "2                   False  \n",
       "3                   False  \n",
       "4                    True  \n",
       "...                   ...  \n",
       "2395842             False  \n",
       "2395843             False  \n",
       "2395844             False  \n",
       "2395845             False  \n",
       "2395846             False  \n",
       "\n",
       "[2213084 rows x 34 columns]"
      ]
     },
     "execution_count": 25,
     "metadata": {},
     "output_type": "execute_result"
    }
   ],
   "source": [
    "df_raw_sf[feats_to_use]"
   ]
  },
  {
   "cell_type": "code",
   "execution_count": 26,
   "id": "c3afc3e8",
   "metadata": {},
   "outputs": [
    {
     "data": {
      "text/plain": [
       "suspect.race                    Hispanic\n",
       "suspected.crime                 burglary\n",
       "year                                2008\n",
       "month                                  1\n",
       "hour                                  20\n",
       "precinct                             108\n",
       "location.housing                 neither\n",
       "suspect.sex                         male\n",
       "suspect.age                 (18.0, 25.0]\n",
       "suspect.height                  5.583333\n",
       "suspect.weight                       190\n",
       "suspect.hair                       brown\n",
       "suspect.eye                        brown\n",
       "suspect.build                      heavy\n",
       "additional.report                  False\n",
       "additional.investigation           False\n",
       "additional.proximity                True\n",
       "additional.evasive                 False\n",
       "additional.associating             False\n",
       "additional.direction               False\n",
       "additional.highcrime               False\n",
       "additional.time                    False\n",
       "additional.sights                  False\n",
       "additional.other                   False\n",
       "stopped.bc.object                  False\n",
       "stopped.bc.desc                    False\n",
       "stopped.bc.casing                  False\n",
       "stopped.bc.lookout                 False\n",
       "stopped.bc.clothing                False\n",
       "stopped.bc.drugs                   False\n",
       "stopped.bc.furtive                 False\n",
       "stopped.bc.violent                 False\n",
       "stopped.bc.bulge                   False\n",
       "stopped.bc.other                    True\n",
       "Name: 1, dtype: object"
      ]
     },
     "execution_count": 26,
     "metadata": {},
     "output_type": "execute_result"
    }
   ],
   "source": [
    "df_raw_sf[feats_to_use].iloc[1]"
   ]
  },
  {
   "cell_type": "code",
   "execution_count": 27,
   "id": "a048ce58",
   "metadata": {},
   "outputs": [
    {
     "data": {
      "text/html": [
       "<div>\n",
       "<style scoped>\n",
       "    .dataframe tbody tr th:only-of-type {\n",
       "        vertical-align: middle;\n",
       "    }\n",
       "\n",
       "    .dataframe tbody tr th {\n",
       "        vertical-align: top;\n",
       "    }\n",
       "\n",
       "    .dataframe thead th {\n",
       "        text-align: right;\n",
       "    }\n",
       "</style>\n",
       "<table border=\"1\" class=\"dataframe\">\n",
       "  <thead>\n",
       "    <tr style=\"text-align: right;\">\n",
       "      <th></th>\n",
       "      <th>suspect.race</th>\n",
       "      <th>suspected.crime</th>\n",
       "      <th>year</th>\n",
       "      <th>month</th>\n",
       "      <th>hour</th>\n",
       "      <th>precinct</th>\n",
       "      <th>location.housing</th>\n",
       "      <th>suspect.sex</th>\n",
       "      <th>suspect.age</th>\n",
       "      <th>suspect.hair</th>\n",
       "      <th>suspect.eye</th>\n",
       "      <th>suspect.build</th>\n",
       "    </tr>\n",
       "  </thead>\n",
       "  <tbody>\n",
       "    <tr>\n",
       "      <th>count</th>\n",
       "      <td>2213084</td>\n",
       "      <td>2213084</td>\n",
       "      <td>2213084</td>\n",
       "      <td>2213084</td>\n",
       "      <td>2213084</td>\n",
       "      <td>2213084</td>\n",
       "      <td>2213084</td>\n",
       "      <td>2213084</td>\n",
       "      <td>2213084</td>\n",
       "      <td>2213084</td>\n",
       "      <td>2213084</td>\n",
       "      <td>2213084</td>\n",
       "    </tr>\n",
       "    <tr>\n",
       "      <th>unique</th>\n",
       "      <td>3</td>\n",
       "      <td>108</td>\n",
       "      <td>4</td>\n",
       "      <td>12</td>\n",
       "      <td>24</td>\n",
       "      <td>76</td>\n",
       "      <td>3</td>\n",
       "      <td>2</td>\n",
       "      <td>5</td>\n",
       "      <td>13</td>\n",
       "      <td>12</td>\n",
       "      <td>5</td>\n",
       "    </tr>\n",
       "    <tr>\n",
       "      <th>top</th>\n",
       "      <td>Black</td>\n",
       "      <td>cpw</td>\n",
       "      <td>2011</td>\n",
       "      <td>1</td>\n",
       "      <td>22</td>\n",
       "      <td>75</td>\n",
       "      <td>neither</td>\n",
       "      <td>male</td>\n",
       "      <td>(18.0, 25.0]</td>\n",
       "      <td>black</td>\n",
       "      <td>brown</td>\n",
       "      <td>medium</td>\n",
       "    </tr>\n",
       "    <tr>\n",
       "      <th>freq</th>\n",
       "      <td>1236755</td>\n",
       "      <td>595091</td>\n",
       "      <td>627987</td>\n",
       "      <td>206637</td>\n",
       "      <td>175315</td>\n",
       "      <td>109529</td>\n",
       "      <td>1697566</td>\n",
       "      <td>2059163</td>\n",
       "      <td>740721</td>\n",
       "      <td>1664449</td>\n",
       "      <td>1982430</td>\n",
       "      <td>1325295</td>\n",
       "    </tr>\n",
       "  </tbody>\n",
       "</table>\n",
       "</div>"
      ],
      "text/plain": [
       "       suspect.race suspected.crime     year    month     hour precinct  \\\n",
       "count       2213084         2213084  2213084  2213084  2213084  2213084   \n",
       "unique            3             108        4       12       24       76   \n",
       "top           Black             cpw     2011        1       22       75   \n",
       "freq        1236755          595091   627987   206637   175315   109529   \n",
       "\n",
       "       location.housing suspect.sex   suspect.age suspect.hair suspect.eye  \\\n",
       "count           2213084     2213084       2213084      2213084     2213084   \n",
       "unique                3           2             5           13          12   \n",
       "top             neither        male  (18.0, 25.0]        black       brown   \n",
       "freq            1697566     2059163        740721      1664449     1982430   \n",
       "\n",
       "       suspect.build  \n",
       "count        2213084  \n",
       "unique             5  \n",
       "top           medium  \n",
       "freq         1325295  "
      ]
     },
     "execution_count": 27,
     "metadata": {},
     "output_type": "execute_result"
    }
   ],
   "source": [
    "cat_cols = ['suspect.race', 'suspected.crime', 'year', 'month', 'hour', 'precinct',\n",
    "                     'location.housing', 'suspect.sex', 'suspect.age', 'suspect.hair', 'suspect.eye',\n",
    "                     'suspect.build']\n",
    "df_raw_sf[cat_cols].astype('object').describe()"
   ]
  },
  {
   "cell_type": "code",
   "execution_count": 28,
   "id": "68a57131",
   "metadata": {},
   "outputs": [
    {
     "data": {
      "text/plain": [
       "['cpw', 'burglary', 'robbery', 'criminal trespass', 'criminal sale of controlled substance', ..., 'substitution of children', 'abortion', 'fraudulent make electronic access device', 'tampering with private communications', 'rent gouging']\n",
       "Length: 108\n",
       "Categories (108, object): ['cpw', 'burglary', 'robbery', 'criminal trespass', ..., 'abortion', 'fraudulent make electronic access device', 'tampering with private communications', 'rent gouging']"
      ]
     },
     "execution_count": 28,
     "metadata": {},
     "output_type": "execute_result"
    }
   ],
   "source": [
    "df_raw_sf[\"suspected.crime\"].unique()"
   ]
  },
  {
   "cell_type": "code",
   "execution_count": 29,
   "id": "05d22841",
   "metadata": {},
   "outputs": [
    {
     "name": "stdout",
     "output_type": "stream",
     "text": [
      " values for suspect.race: ['Black' 'Hispanic' 'White']\n",
      " values for suspected.crime: ['cpw', 'burglary', 'robbery', 'criminal trespass', 'criminal sale of controlled substance', ..., 'substitution of children', 'abortion', 'fraudulent make electronic access device', 'tampering with private communications', 'rent gouging']\n",
      "Length: 108\n",
      "Categories (108, object): ['cpw', 'burglary', 'robbery', 'criminal trespass', ..., 'abortion', 'fraudulent make electronic access device', 'tampering with private communications', 'rent gouging']\n",
      " values for year: [2008 2009 2010 2011]\n",
      " values for month: [ 1  2  3  4  5  6  7  8  9 10 11 12]\n",
      " values for hour: [ 1 20 19 21 22 18  5  9 23 16  2  0 13  3 11 15 10 14 17 12  4  6  7  8]\n",
      " values for precinct: ['42', '108', '100', '103', '71', ..., '66', '61', '78', '41', '22']\n",
      "Length: 76\n",
      "Categories (76, object): ['42', '108', '100', '103', ..., '61', '78', '41', '22']\n",
      " values for location.housing: ['neither', 'housing', 'transit']\n",
      "Categories (3, object): ['neither', 'housing', 'transit']\n",
      " values for suspect.sex: ['male', 'female']\n",
      "Categories (2, object): ['male', 'female']\n",
      " values for suspect.age: [(18.0, 25.0], (0.0, 18.0], (25.0, 32.0], (40.0, inf], (32.0, 40.0]]\n",
      "Categories (5, interval[float64]): [(0.0, 18.0] < (18.0, 25.0] < (25.0, 32.0] < (32.0, 40.0] < (40.0, inf]]\n",
      " values for suspect.hair: ['brown', 'black', 'bald', 'unknown', 'other', ..., 'dyed', 'frosted', 'sandy', 'white', 'red']\n",
      "Length: 13\n",
      "Categories (13, object): ['brown', 'black', 'bald', 'unknown', ..., 'frosted', 'sandy', 'white', 'red']\n",
      " values for suspect.eye: ['brown', 'black', 'green', 'blue', 'unknown', ..., 'two different', 'gray', 'maroon', 'violet', 'pink']\n",
      "Length: 12\n",
      "Categories (12, object): ['brown', 'black', 'green', 'blue', ..., 'gray', 'maroon', 'violet', 'pink']\n",
      " values for suspect.build: ['muscular', 'heavy', 'medium', 'thin', 'unknown']\n",
      "Categories (5, object): ['muscular', 'heavy', 'medium', 'thin', 'unknown']\n"
     ]
    }
   ],
   "source": [
    "cens_feats =[\n",
    "  \"suspect.race\",\n",
    "  \"location.housing\",\n",
    "  \"suspected.crime\",\n",
    "  \"precinct\",\n",
    "  \"suspect.sex\",\n",
    "  \"suspect.age\"\n",
    "]\n",
    "for f in cat_cols:\n",
    "    print(f\" values for {f}: {df_raw_sf[f].unique()}\")"
   ]
  },
  {
   "cell_type": "code",
   "execution_count": 30,
   "id": "0be8bbad",
   "metadata": {},
   "outputs": [],
   "source": [
    "df_raw_sf=df_raw_sf[feats_to_use+['T', 'D']]"
   ]
  },
  {
   "cell_type": "code",
   "execution_count": 31,
   "id": "ccbbcbf2",
   "metadata": {},
   "outputs": [],
   "source": [
    "idxs = np.arange(len(df_raw_sf))\n",
    "train_idxs = np.random.choice(idxs, size=int(len(df_raw_sf)*0.5), replace=False)\n",
    "test_idxs = np.setdiff1d(idxs, train_idxs)\n",
    "assert len(np.intersect1d(train_idxs, test_idxs))==0"
   ]
  },
  {
   "cell_type": "code",
   "execution_count": 32,
   "id": "f0a1b314",
   "metadata": {},
   "outputs": [],
   "source": [
    "def get_split_maps(data_df,  train_idxs, test_idxs, val_idxs=None):\n",
    "    \"\"\"Using the existing split indices, create a map to put entries to training and validation sets. \"\"\"\n",
    "    split_array = np.zeros(data_df.shape[0])\n",
    "    split_array[train_idxs] = 0\n",
    "    split_array[test_idxs] = 1\n",
    "    if val_idxs is not None:\n",
    "        split_array[val_idxs] = 2\n",
    "    return split_array"
   ]
  },
  {
   "cell_type": "code",
   "execution_count": 33,
   "id": "d8795735",
   "metadata": {},
   "outputs": [
    {
     "data": {
      "text/plain": [
       "((1106542,), (1106542,))"
      ]
     },
     "execution_count": 33,
     "metadata": {},
     "output_type": "execute_result"
    }
   ],
   "source": [
    "split_array=get_split_maps(df_raw_sf,  train_idxs, test_idxs)\n",
    "split_array[split_array==0].shape, split_array[split_array==1].shape"
   ]
  },
  {
   "cell_type": "code",
   "execution_count": 34,
   "id": "3ec192b4",
   "metadata": {},
   "outputs": [],
   "source": [
    "def normalize_data(df,  train_idxs):\n",
    "    \"\"\"\"Normalizes the data as Goel et al do - continuous features only\"\"\"\n",
    "    columns_to_norm = ['suspect.height', 'suspect.weight']\n",
    "    df_unnormed_train = df.iloc[train_idxs].copy()\n",
    "    for feature_name in columns_to_norm:\n",
    "        df[feature_name] = df[feature_name] - np.mean(df_unnormed_train[feature_name])\n",
    "        df[feature_name] = df[feature_name] / np.std(df_unnormed_train[feature_name])\n",
    "    return df, np.mean(df_unnormed_train[feature_name]), np.std(df_unnormed_train[feature_name])"
   ]
  },
  {
   "cell_type": "code",
   "execution_count": 35,
   "id": "e19b629a",
   "metadata": {},
   "outputs": [],
   "source": [
    "df_raw_sf, mean, std=normalize_data(df_raw_sf,  train_idxs)"
   ]
  },
  {
   "cell_type": "code",
   "execution_count": 36,
   "id": "69244947",
   "metadata": {},
   "outputs": [],
   "source": [
    "columns_to_ohe = ['suspect.race', 'suspected.crime', 'year', 'month', 'hour', 'precinct',\n",
    "                     'location.housing', 'suspect.sex', 'suspect.age', 'suspect.hair', 'suspect.eye',\n",
    "                     'suspect.build']\n",
    "for f in columns_to_ohe:\n",
    "    ohe_df=pd.get_dummies(df_raw_sf[f], prefix=f, drop_first=True)\n",
    "    df_raw_sf=df_raw_sf.drop(f, axis=1)\n",
    "    df_raw_sf=df_raw_sf.join(ohe_df.astype('bool'))"
   ]
  },
  {
   "cell_type": "code",
   "execution_count": 37,
   "id": "10726430",
   "metadata": {},
   "outputs": [
    {
     "data": {
      "text/html": [
       "<div>\n",
       "<style scoped>\n",
       "    .dataframe tbody tr th:only-of-type {\n",
       "        vertical-align: middle;\n",
       "    }\n",
       "\n",
       "    .dataframe tbody tr th {\n",
       "        vertical-align: top;\n",
       "    }\n",
       "\n",
       "    .dataframe thead th {\n",
       "        text-align: right;\n",
       "    }\n",
       "</style>\n",
       "<table border=\"1\" class=\"dataframe\">\n",
       "  <thead>\n",
       "    <tr style=\"text-align: right;\">\n",
       "      <th></th>\n",
       "      <th>suspect.height</th>\n",
       "      <th>suspect.weight</th>\n",
       "      <th>additional.report</th>\n",
       "      <th>additional.investigation</th>\n",
       "      <th>additional.proximity</th>\n",
       "      <th>additional.evasive</th>\n",
       "      <th>additional.associating</th>\n",
       "      <th>additional.direction</th>\n",
       "      <th>additional.highcrime</th>\n",
       "      <th>additional.time</th>\n",
       "      <th>...</th>\n",
       "      <th>suspect.eye_maroon</th>\n",
       "      <th>suspect.eye_other</th>\n",
       "      <th>suspect.eye_pink</th>\n",
       "      <th>suspect.eye_two different</th>\n",
       "      <th>suspect.eye_unknown</th>\n",
       "      <th>suspect.eye_violet</th>\n",
       "      <th>suspect.build_medium</th>\n",
       "      <th>suspect.build_muscular</th>\n",
       "      <th>suspect.build_thin</th>\n",
       "      <th>suspect.build_unknown</th>\n",
       "    </tr>\n",
       "  </thead>\n",
       "  <tbody>\n",
       "    <tr>\n",
       "      <th>0</th>\n",
       "      <td>1.051161</td>\n",
       "      <td>-0.278776</td>\n",
       "      <td>False</td>\n",
       "      <td>False</td>\n",
       "      <td>False</td>\n",
       "      <td>True</td>\n",
       "      <td>False</td>\n",
       "      <td>False</td>\n",
       "      <td>False</td>\n",
       "      <td>False</td>\n",
       "      <td>...</td>\n",
       "      <td>False</td>\n",
       "      <td>False</td>\n",
       "      <td>False</td>\n",
       "      <td>False</td>\n",
       "      <td>False</td>\n",
       "      <td>False</td>\n",
       "      <td>False</td>\n",
       "      <td>True</td>\n",
       "      <td>False</td>\n",
       "      <td>False</td>\n",
       "    </tr>\n",
       "    <tr>\n",
       "      <th>1</th>\n",
       "      <td>-0.510868</td>\n",
       "      <td>0.694381</td>\n",
       "      <td>False</td>\n",
       "      <td>False</td>\n",
       "      <td>True</td>\n",
       "      <td>False</td>\n",
       "      <td>False</td>\n",
       "      <td>False</td>\n",
       "      <td>False</td>\n",
       "      <td>False</td>\n",
       "      <td>...</td>\n",
       "      <td>False</td>\n",
       "      <td>False</td>\n",
       "      <td>False</td>\n",
       "      <td>False</td>\n",
       "      <td>False</td>\n",
       "      <td>False</td>\n",
       "      <td>False</td>\n",
       "      <td>False</td>\n",
       "      <td>False</td>\n",
       "      <td>False</td>\n",
       "    </tr>\n",
       "    <tr>\n",
       "      <th>2</th>\n",
       "      <td>1.051161</td>\n",
       "      <td>0.35881</td>\n",
       "      <td>True</td>\n",
       "      <td>False</td>\n",
       "      <td>True</td>\n",
       "      <td>False</td>\n",
       "      <td>False</td>\n",
       "      <td>False</td>\n",
       "      <td>False</td>\n",
       "      <td>True</td>\n",
       "      <td>...</td>\n",
       "      <td>False</td>\n",
       "      <td>False</td>\n",
       "      <td>False</td>\n",
       "      <td>False</td>\n",
       "      <td>False</td>\n",
       "      <td>False</td>\n",
       "      <td>True</td>\n",
       "      <td>False</td>\n",
       "      <td>False</td>\n",
       "      <td>False</td>\n",
       "    </tr>\n",
       "    <tr>\n",
       "      <th>3</th>\n",
       "      <td>1.363566</td>\n",
       "      <td>0.526596</td>\n",
       "      <td>False</td>\n",
       "      <td>False</td>\n",
       "      <td>False</td>\n",
       "      <td>True</td>\n",
       "      <td>False</td>\n",
       "      <td>False</td>\n",
       "      <td>True</td>\n",
       "      <td>False</td>\n",
       "      <td>...</td>\n",
       "      <td>False</td>\n",
       "      <td>False</td>\n",
       "      <td>False</td>\n",
       "      <td>False</td>\n",
       "      <td>False</td>\n",
       "      <td>False</td>\n",
       "      <td>True</td>\n",
       "      <td>False</td>\n",
       "      <td>False</td>\n",
       "      <td>False</td>\n",
       "    </tr>\n",
       "    <tr>\n",
       "      <th>4</th>\n",
       "      <td>0.113943</td>\n",
       "      <td>-0.815691</td>\n",
       "      <td>False</td>\n",
       "      <td>False</td>\n",
       "      <td>False</td>\n",
       "      <td>False</td>\n",
       "      <td>False</td>\n",
       "      <td>False</td>\n",
       "      <td>True</td>\n",
       "      <td>True</td>\n",
       "      <td>...</td>\n",
       "      <td>False</td>\n",
       "      <td>False</td>\n",
       "      <td>False</td>\n",
       "      <td>False</td>\n",
       "      <td>False</td>\n",
       "      <td>False</td>\n",
       "      <td>False</td>\n",
       "      <td>False</td>\n",
       "      <td>True</td>\n",
       "      <td>False</td>\n",
       "    </tr>\n",
       "    <tr>\n",
       "      <th>...</th>\n",
       "      <td>...</td>\n",
       "      <td>...</td>\n",
       "      <td>...</td>\n",
       "      <td>...</td>\n",
       "      <td>...</td>\n",
       "      <td>...</td>\n",
       "      <td>...</td>\n",
       "      <td>...</td>\n",
       "      <td>...</td>\n",
       "      <td>...</td>\n",
       "      <td>...</td>\n",
       "      <td>...</td>\n",
       "      <td>...</td>\n",
       "      <td>...</td>\n",
       "      <td>...</td>\n",
       "      <td>...</td>\n",
       "      <td>...</td>\n",
       "      <td>...</td>\n",
       "      <td>...</td>\n",
       "      <td>...</td>\n",
       "      <td>...</td>\n",
       "    </tr>\n",
       "    <tr>\n",
       "      <th>2395842</th>\n",
       "      <td>-0.823274</td>\n",
       "      <td>0.35881</td>\n",
       "      <td>False</td>\n",
       "      <td>True</td>\n",
       "      <td>False</td>\n",
       "      <td>False</td>\n",
       "      <td>False</td>\n",
       "      <td>True</td>\n",
       "      <td>True</td>\n",
       "      <td>True</td>\n",
       "      <td>...</td>\n",
       "      <td>False</td>\n",
       "      <td>False</td>\n",
       "      <td>False</td>\n",
       "      <td>False</td>\n",
       "      <td>False</td>\n",
       "      <td>False</td>\n",
       "      <td>True</td>\n",
       "      <td>False</td>\n",
       "      <td>False</td>\n",
       "      <td>False</td>\n",
       "    </tr>\n",
       "    <tr>\n",
       "      <th>2395843</th>\n",
       "      <td>0.113943</td>\n",
       "      <td>-0.312333</td>\n",
       "      <td>False</td>\n",
       "      <td>False</td>\n",
       "      <td>False</td>\n",
       "      <td>False</td>\n",
       "      <td>False</td>\n",
       "      <td>False</td>\n",
       "      <td>False</td>\n",
       "      <td>False</td>\n",
       "      <td>...</td>\n",
       "      <td>False</td>\n",
       "      <td>False</td>\n",
       "      <td>False</td>\n",
       "      <td>False</td>\n",
       "      <td>False</td>\n",
       "      <td>False</td>\n",
       "      <td>True</td>\n",
       "      <td>False</td>\n",
       "      <td>False</td>\n",
       "      <td>False</td>\n",
       "    </tr>\n",
       "    <tr>\n",
       "      <th>2395844</th>\n",
       "      <td>0.113943</td>\n",
       "      <td>1.029953</td>\n",
       "      <td>False</td>\n",
       "      <td>False</td>\n",
       "      <td>True</td>\n",
       "      <td>False</td>\n",
       "      <td>False</td>\n",
       "      <td>False</td>\n",
       "      <td>True</td>\n",
       "      <td>True</td>\n",
       "      <td>...</td>\n",
       "      <td>False</td>\n",
       "      <td>False</td>\n",
       "      <td>False</td>\n",
       "      <td>False</td>\n",
       "      <td>False</td>\n",
       "      <td>False</td>\n",
       "      <td>True</td>\n",
       "      <td>False</td>\n",
       "      <td>False</td>\n",
       "      <td>False</td>\n",
       "    </tr>\n",
       "    <tr>\n",
       "      <th>2395845</th>\n",
       "      <td>0.426349</td>\n",
       "      <td>1.029953</td>\n",
       "      <td>False</td>\n",
       "      <td>False</td>\n",
       "      <td>True</td>\n",
       "      <td>False</td>\n",
       "      <td>False</td>\n",
       "      <td>False</td>\n",
       "      <td>True</td>\n",
       "      <td>True</td>\n",
       "      <td>...</td>\n",
       "      <td>False</td>\n",
       "      <td>False</td>\n",
       "      <td>False</td>\n",
       "      <td>False</td>\n",
       "      <td>False</td>\n",
       "      <td>False</td>\n",
       "      <td>True</td>\n",
       "      <td>False</td>\n",
       "      <td>False</td>\n",
       "      <td>False</td>\n",
       "    </tr>\n",
       "    <tr>\n",
       "      <th>2395846</th>\n",
       "      <td>-0.823274</td>\n",
       "      <td>0.694381</td>\n",
       "      <td>False</td>\n",
       "      <td>False</td>\n",
       "      <td>False</td>\n",
       "      <td>False</td>\n",
       "      <td>False</td>\n",
       "      <td>False</td>\n",
       "      <td>False</td>\n",
       "      <td>False</td>\n",
       "      <td>...</td>\n",
       "      <td>False</td>\n",
       "      <td>False</td>\n",
       "      <td>False</td>\n",
       "      <td>False</td>\n",
       "      <td>False</td>\n",
       "      <td>False</td>\n",
       "      <td>False</td>\n",
       "      <td>False</td>\n",
       "      <td>False</td>\n",
       "      <td>False</td>\n",
       "    </tr>\n",
       "  </tbody>\n",
       "</table>\n",
       "<p>2213084 rows × 284 columns</p>\n",
       "</div>"
      ],
      "text/plain": [
       "         suspect.height suspect.weight  additional.report  \\\n",
       "0              1.051161      -0.278776              False   \n",
       "1             -0.510868       0.694381              False   \n",
       "2              1.051161        0.35881               True   \n",
       "3              1.363566       0.526596              False   \n",
       "4              0.113943      -0.815691              False   \n",
       "...                 ...            ...                ...   \n",
       "2395842       -0.823274        0.35881              False   \n",
       "2395843        0.113943      -0.312333              False   \n",
       "2395844        0.113943       1.029953              False   \n",
       "2395845        0.426349       1.029953              False   \n",
       "2395846       -0.823274       0.694381              False   \n",
       "\n",
       "         additional.investigation  additional.proximity  additional.evasive  \\\n",
       "0                           False                 False                True   \n",
       "1                           False                  True               False   \n",
       "2                           False                  True               False   \n",
       "3                           False                 False                True   \n",
       "4                           False                 False               False   \n",
       "...                           ...                   ...                 ...   \n",
       "2395842                      True                 False               False   \n",
       "2395843                     False                 False               False   \n",
       "2395844                     False                  True               False   \n",
       "2395845                     False                  True               False   \n",
       "2395846                     False                 False               False   \n",
       "\n",
       "         additional.associating  additional.direction  additional.highcrime  \\\n",
       "0                         False                 False                 False   \n",
       "1                         False                 False                 False   \n",
       "2                         False                 False                 False   \n",
       "3                         False                 False                  True   \n",
       "4                         False                 False                  True   \n",
       "...                         ...                   ...                   ...   \n",
       "2395842                   False                  True                  True   \n",
       "2395843                   False                 False                 False   \n",
       "2395844                   False                 False                  True   \n",
       "2395845                   False                 False                  True   \n",
       "2395846                   False                 False                 False   \n",
       "\n",
       "         additional.time  ...  suspect.eye_maroon  suspect.eye_other  \\\n",
       "0                  False  ...               False              False   \n",
       "1                  False  ...               False              False   \n",
       "2                   True  ...               False              False   \n",
       "3                  False  ...               False              False   \n",
       "4                   True  ...               False              False   \n",
       "...                  ...  ...                 ...                ...   \n",
       "2395842             True  ...               False              False   \n",
       "2395843            False  ...               False              False   \n",
       "2395844             True  ...               False              False   \n",
       "2395845             True  ...               False              False   \n",
       "2395846            False  ...               False              False   \n",
       "\n",
       "         suspect.eye_pink  suspect.eye_two different  suspect.eye_unknown  \\\n",
       "0                   False                      False                False   \n",
       "1                   False                      False                False   \n",
       "2                   False                      False                False   \n",
       "3                   False                      False                False   \n",
       "4                   False                      False                False   \n",
       "...                   ...                        ...                  ...   \n",
       "2395842             False                      False                False   \n",
       "2395843             False                      False                False   \n",
       "2395844             False                      False                False   \n",
       "2395845             False                      False                False   \n",
       "2395846             False                      False                False   \n",
       "\n",
       "         suspect.eye_violet  suspect.build_medium  suspect.build_muscular  \\\n",
       "0                     False                 False                    True   \n",
       "1                     False                 False                   False   \n",
       "2                     False                  True                   False   \n",
       "3                     False                  True                   False   \n",
       "4                     False                 False                   False   \n",
       "...                     ...                   ...                     ...   \n",
       "2395842               False                  True                   False   \n",
       "2395843               False                  True                   False   \n",
       "2395844               False                  True                   False   \n",
       "2395845               False                  True                   False   \n",
       "2395846               False                 False                   False   \n",
       "\n",
       "         suspect.build_thin  suspect.build_unknown  \n",
       "0                     False                  False  \n",
       "1                     False                  False  \n",
       "2                     False                  False  \n",
       "3                     False                  False  \n",
       "4                      True                  False  \n",
       "...                     ...                    ...  \n",
       "2395842               False                  False  \n",
       "2395843               False                  False  \n",
       "2395844               False                  False  \n",
       "2395845               False                  False  \n",
       "2395846               False                  False  \n",
       "\n",
       "[2213084 rows x 284 columns]"
      ]
     },
     "execution_count": 37,
     "metadata": {},
     "output_type": "execute_result"
    }
   ],
   "source": [
    "df_raw_sf"
   ]
  },
  {
   "cell_type": "code",
   "execution_count": 38,
   "id": "b58de0d6",
   "metadata": {},
   "outputs": [],
   "source": [
    "features=[]\n",
    "for c in df_raw_sf.columns:\n",
    "    if c not in ['T', 'D', 'D_and_T']:\n",
    "        features.append(c)"
   ]
  },
  {
   "cell_type": "code",
   "execution_count": 39,
   "id": "71902fbf",
   "metadata": {},
   "outputs": [],
   "source": [
    "for c in features:\n",
    "    assert df_raw_sf[c].isna().sum()==0"
   ]
  },
  {
   "cell_type": "code",
   "execution_count": 40,
   "id": "206cb843",
   "metadata": {},
   "outputs": [],
   "source": [
    "train_X=df_raw_sf.iloc[train_idxs][features].reset_index(drop=True)\n",
    "test_X = df_raw_sf.iloc[test_idxs][features].reset_index(drop=True)\n",
    "test_y_T = df_raw_sf.iloc[test_idxs]['T'].values\n",
    "train_y_T = df_raw_sf.iloc[train_idxs]['T'].values\n",
    "\n",
    "train_X_D_given_T=df_raw_sf.iloc[train_idxs].loc[df_raw_sf['T']==1][features].reset_index(drop=True)\n",
    "test_X_D_given_T=df_raw_sf.iloc[test_idxs].loc[df_raw_sf['T']==1][features].reset_index(drop=True)\n",
    "\n",
    "test_y_D_given_T = df_raw_sf.iloc[test_idxs].loc[df_raw_sf['T']==1]['D'].values\n",
    "train_y_D_given_T = df_raw_sf.iloc[train_idxs].loc[df_raw_sf['T']==1]['D'].values\n",
    "\n",
    "df_raw_sf['D_and_T']=(df_raw_sf['T']==1) & (df_raw_sf['D']==1)\n",
    "test_y_D_and_T = df_raw_sf.iloc[test_idxs]['D_and_T'].values\n",
    "train_y_D_and_T = df_raw_sf.iloc[train_idxs]['D_and_T'].values"
   ]
  },
  {
   "cell_type": "code",
   "execution_count": 41,
   "id": "3071463e",
   "metadata": {},
   "outputs": [],
   "source": [
    "train_y_D = df_raw_sf.iloc[test_idxs]['D'].values"
   ]
  },
  {
   "cell_type": "code",
   "execution_count": 42,
   "id": "996d6065",
   "metadata": {},
   "outputs": [
    {
     "data": {
      "text/plain": [
       "(1106542, 282)"
      ]
     },
     "execution_count": 42,
     "metadata": {},
     "output_type": "execute_result"
    }
   ],
   "source": [
    "np.array(train_X).shape"
   ]
  },
  {
   "cell_type": "code",
   "execution_count": 43,
   "id": "fa2e76f2",
   "metadata": {},
   "outputs": [
    {
     "data": {
      "text/plain": [
       "array([[-0.19846230363826883, 0.35880991432541354, False, ..., False,\n",
       "        False, False],\n",
       "       [-0.19846230363826883, -0.48011899415839676, True, ..., False,\n",
       "        False, False],\n",
       "       [-1.1356795656177727, -1.3526050589815595, True, ..., False,\n",
       "        False, False],\n",
       "       ...,\n",
       "       [-0.19846230363826883, -0.3123332124616347, False, ..., False,\n",
       "        False, False],\n",
       "       [0.11394345035489802, -0.6479047758551588, False, ..., False,\n",
       "        True, False],\n",
       "       [1.3635664663275686, 1.0299530411124618, False, ..., False, False,\n",
       "        False]], dtype=object)"
      ]
     },
     "execution_count": 43,
     "metadata": {},
     "output_type": "execute_result"
    }
   ],
   "source": [
    "np.array(train_X)"
   ]
  },
  {
   "cell_type": "code",
   "execution_count": 42,
   "id": "07f3edff",
   "metadata": {},
   "outputs": [],
   "source": [
    "# save train and test X, y\n",
    "def saveFile(filename, file):\n",
    "    save_path=osp.join(os.environ.get('OUT_PATH'), 'stop_and_frisk')\n",
    "    with open(osp.join(save_path, filename), \"wb\") as output_file:\n",
    "        pickle.dump(file, output_file)\n",
    "\n",
    "saveFile(filename='train_X.pkl', file=train_X)\n",
    "saveFile(filename='train_X_D_given_T.pkl', file=train_X_D_given_T)\n",
    "saveFile(filename='train_y_T.pkl', file=train_y_T)\n",
    "saveFile(filename='train_y_D_given_T.pkl', file=train_y_D_given_T)\n",
    "saveFile(filename='train_y_D_and_T.pkl', file=train_y_D_and_T)        \n",
    "\n",
    "saveFile(filename='test_X.pkl', file=test_X)\n",
    "saveFile(filename='test_X_D_given_T.pkl', file=test_X_D_given_T)\n",
    "saveFile(filename='test_y_T.pkl', file=test_y_T)\n",
    "saveFile(filename='test_y_D_given_T.pkl', file=test_y_D_given_T)\n",
    "saveFile(filename='test_y_D_and_T.pkl', file=test_y_D_and_T) \n",
    "saveFile(filename='df_sf.pkl', file=df_raw_sf) \n",
    "saveFile(filename='test_idxs.pkl', file=test_idxs)\n",
    "saveFile(filename='features.pkl', file=features)"
   ]
  },
  {
   "cell_type": "code",
   "execution_count": null,
   "id": "49116e66",
   "metadata": {},
   "outputs": [],
   "source": []
  },
  {
   "cell_type": "code",
   "execution_count": 44,
   "id": "26bb7b5c",
   "metadata": {},
   "outputs": [],
   "source": [
    "def saveModel(save_path, model, filename):\n",
    "    if not os.path.exists(save_path):\n",
    "        os.makedirs(save_path)\n",
    "    with open(osp.join(save_path, filename), \"wb\") as output_file:\n",
    "        pickle.dump(model, output_file)"
   ]
  },
  {
   "cell_type": "code",
   "execution_count": 45,
   "id": "f7a07499",
   "metadata": {},
   "outputs": [],
   "source": [
    "def trainEvalModel(model, train_X, train_y, test_X, test_y, model_descr):\n",
    "    clf=model.fit(train_X, train_y)\n",
    "    test_proba = model.predict_proba(test_X)\n",
    "    print(f\"AUC score {model_descr}: {roc_auc_score(test_y, test_proba[:,1]):.3f}\")\n",
    "    return clf"
   ]
  },
  {
   "cell_type": "markdown",
   "id": "221f1c19",
   "metadata": {},
   "source": [
    "## Sensitivity to Regularization for LR models"
   ]
  },
  {
   "cell_type": "code",
   "execution_count": 44,
   "id": "b57a6dd8",
   "metadata": {},
   "outputs": [
    {
     "name": "stdout",
     "output_type": "stream",
     "text": [
      "AUC score predict T with l1 penalty for C:0.01: 0.817\n",
      "AUC score predict T with l2 penalty for C:0.01: 0.817\n",
      "AUC score predict T with elastic_net penalty for C:0.01 and l1_ratio_0.5: 0.817\n",
      "AUC score predict D|T with l1 penalty for C:0.01: 0.787\n",
      "AUC score predict D|T with l2 penalty for C:0.01: 0.797\n",
      "AUC score predict D|T with elastic_net penalty for C:0.01 and l1_ratio_0.5: 0.792\n",
      "AUC score predict D,T with l1 penalty for C:0.01: 0.833\n",
      "AUC score predict D,T with l2 penalty for C:0.01: 0.841\n",
      "AUC score predict D,T with elastic_net penalty for C:0.01 and l1_ratio_0.5: 0.837\n",
      "AUC score predict T with l1 penalty for C:0.1: 0.818\n",
      "AUC score predict T with l2 penalty for C:0.1: 0.818\n",
      "AUC score predict T with elastic_net penalty for C:0.1 and l1_ratio_0.5: 0.818\n",
      "AUC score predict D|T with l1 penalty for C:0.1: 0.801\n",
      "AUC score predict D|T with l2 penalty for C:0.1: 0.802\n",
      "AUC score predict D|T with elastic_net penalty for C:0.1 and l1_ratio_0.5: 0.801\n",
      "AUC score predict D,T with l1 penalty for C:0.1: 0.844\n",
      "AUC score predict D,T with l2 penalty for C:0.1: 0.844\n",
      "AUC score predict D,T with elastic_net penalty for C:0.1 and l1_ratio_0.5: 0.844\n",
      "AUC score predict T with l1 penalty for C:1.0: 0.818\n",
      "AUC score predict T with l2 penalty for C:1.0: 0.818\n",
      "AUC score predict T with elastic_net penalty for C:1.0 and l1_ratio_0.5: 0.818\n",
      "AUC score predict D|T with l1 penalty for C:1.0: 0.802\n",
      "AUC score predict D|T with l2 penalty for C:1.0: 0.802\n",
      "AUC score predict D|T with elastic_net penalty for C:1.0 and l1_ratio_0.5: 0.802\n",
      "AUC score predict D,T with l1 penalty for C:1.0: 0.845\n",
      "AUC score predict D,T with l2 penalty for C:1.0: 0.845\n",
      "AUC score predict D,T with elastic_net penalty for C:1.0 and l1_ratio_0.5: 0.845\n"
     ]
    }
   ],
   "source": [
    "tol=0.01\n",
    "l1_ratio = 0.5  # L1 weight in the Elastic-Net regularization\n",
    "for C in [0.01,0.1,1.0]:\n",
    "    # predicting T\n",
    "    model_descr=f\"predict T with l1 penalty for C:{C}\"\n",
    "    clf_T_lr_l1=trainEvalModel(LogisticRegression(random_state=0, solver='saga', penalty= 'l1', C=C, tol=0.01), \n",
    "                np.array(train_X), train_y_T, np.array(test_X), np.array(test_y_T), model_descr)\n",
    "    save_path=osp.join(os.environ.get('OUT_PATH'), 'stop_and_frisk', f\"C_{C}_tol_{tol}\")\n",
    "    saveModel(save_path, clf_T_lr_l1, 'clf_T_lr_l1.pkl')\n",
    "    \n",
    "    model_descr=f\"predict T with l2 penalty for C:{C}\"\n",
    "    clf_T_lr_l2=trainEvalModel(LogisticRegression(random_state=0, solver='saga', penalty= 'l2', C=C, tol=0.01), \n",
    "                np.array(train_X), train_y_T, np.array(test_X), np.array(test_y_T), model_descr)\n",
    "    save_path=osp.join(os.environ.get('OUT_PATH'), 'stop_and_frisk', f\"C_{C}_tol_{tol}\")\n",
    "    saveModel(save_path, clf_T_lr_l2, 'clf_T_lr_l2.pkl')\n",
    "    \n",
    "    model_descr=f\"predict T with elastic_net penalty for C:{C} and l1_ratio_{l1_ratio}\"\n",
    "    clf_T_lr_en=trainEvalModel(LogisticRegression(random_state=0, solver='saga', penalty= 'elasticnet', C=C, tol=0.01, l1_ratio=l1_ratio), \n",
    "                np.array(train_X), train_y_T, np.array(test_X), np.array(test_y_T), model_descr)\n",
    "    save_path=osp.join(os.environ.get('OUT_PATH'), 'stop_and_frisk', f\"C_{C}_tol_{tol}_en_l1_ratio_{l1_ratio}\")\n",
    "    saveModel(save_path, clf_T_lr_en, 'clf_T_lr_en.pkl')\n",
    "    \n",
    "    # predicting D|T\n",
    "    model_descr=f\"predict D|T with l1 penalty for C:{C}\"\n",
    "    clf_D_given_T_lr_l1=trainEvalModel(LogisticRegression(random_state=0, solver='saga', penalty= 'l1', C=C, tol=0.01), \n",
    "                np.array(train_X_D_given_T), train_y_D_given_T, np.array(test_X_D_given_T), \n",
    "                np.array(test_y_D_given_T), model_descr)\n",
    "    save_path=osp.join(os.environ.get('OUT_PATH'), 'stop_and_frisk', f\"C_{C}_tol_{tol}\")\n",
    "    saveModel(save_path, clf_D_given_T_lr_l1, 'clf_D_given_T_lr_l1.pkl')\n",
    "    \n",
    "    model_descr=f\"predict D|T with l2 penalty for C:{C}\"\n",
    "    clf_D_given_T_lr_l2=trainEvalModel(LogisticRegression(random_state=0, solver='saga', penalty= 'l2', C=C, tol=0.01), \n",
    "                np.array(train_X_D_given_T), train_y_D_given_T, np.array(test_X_D_given_T), \n",
    "                np.array(test_y_D_given_T), model_descr)\n",
    "    save_path=osp.join(os.environ.get('OUT_PATH'), 'stop_and_frisk', f\"C_{C}_tol_{tol}\")\n",
    "    saveModel(save_path, clf_D_given_T_lr_l2, 'clf_D_given_T_lr_l2.pkl')\n",
    "    \n",
    "    model_descr=f\"predict D|T with elastic_net penalty for C:{C} and l1_ratio_{l1_ratio}\"\n",
    "    clf_D_given_T_lr_en=trainEvalModel(LogisticRegression(random_state=0, solver='saga', penalty= 'elasticnet', C=C, tol=0.01, l1_ratio=l1_ratio), \n",
    "                np.array(train_X_D_given_T), train_y_D_given_T, np.array(test_X_D_given_T), \n",
    "                np.array(test_y_D_given_T), model_descr)\n",
    "    save_path=osp.join(os.environ.get('OUT_PATH'), 'stop_and_frisk', f\"C_{C}_tol_{tol}_en_l1_ratio_{l1_ratio}\")\n",
    "    saveModel(save_path, clf_D_given_T_lr_en, 'clf_D_given_T_lr_en.pkl')\n",
    "    \n",
    "    # predicting D and T\n",
    "    model_descr=f\"predict D,T with l1 penalty for C:{C}\"\n",
    "    clf_D_and_T_lr_l1=trainEvalModel(LogisticRegression(random_state=0, solver='saga', penalty= 'l1', C=C, tol=0.01), \n",
    "                np.array(train_X), train_y_D_and_T, np.array(test_X), \n",
    "                np.array(test_y_D_and_T), model_descr)\n",
    "    save_path=osp.join(os.environ.get('OUT_PATH'), 'stop_and_frisk', f\"C_{C}_tol_{tol}\")\n",
    "    saveModel(save_path, clf_D_and_T_lr_l1, 'clf_D_and_T_lr_l1.pkl')\n",
    "    \n",
    "    model_descr=f\"predict D,T with l2 penalty for C:{C}\"\n",
    "    clf_D_and_T_lr_l2=trainEvalModel(LogisticRegression(random_state=0, solver='saga', penalty= 'l2', C=C, tol=0.01), \n",
    "                np.array(train_X), train_y_D_and_T, np.array(test_X), \n",
    "                np.array(test_y_D_and_T), model_descr)\n",
    "    save_path=osp.join(os.environ.get('OUT_PATH'), 'stop_and_frisk', f\"C_{C}_tol_{tol}\")\n",
    "    saveModel(save_path, clf_D_and_T_lr_l2, 'clf_D_and_T_lr_l2.pkl')\n",
    "    \n",
    "    model_descr=f\"predict D,T with elastic_net penalty for C:{C} and l1_ratio_{l1_ratio}\"\n",
    "    clf_D_and_T_lr_en=trainEvalModel(LogisticRegression(random_state=0, solver='saga', penalty= 'elasticnet', C=C, tol=0.01, l1_ratio=l1_ratio),\n",
    "                np.array(train_X), train_y_D_and_T, np.array(test_X), \n",
    "                np.array(test_y_D_and_T), model_descr)\n",
    "    save_path=osp.join(os.environ.get('OUT_PATH'), 'stop_and_frisk', f\"C_{C}_tol_{tol}_en_l1_ratio_{l1_ratio}\")\n",
    "    saveModel(save_path, clf_D_and_T_lr_en, 'clf_D_and_T_lr_en.pkl')"
   ]
  },
  {
   "cell_type": "markdown",
   "id": "fe6bcc93",
   "metadata": {},
   "source": [
    "## p(T=1|Race, $\\mu$)"
   ]
  },
  {
   "cell_type": "code",
   "execution_count": 45,
   "id": "3be9bbf5",
   "metadata": {},
   "outputs": [
    {
     "name": "stdout",
     "output_type": "stream",
     "text": [
      "AUC score with lgbm: 0.8220645044692207\n"
     ]
    }
   ],
   "source": [
    "clf_D_given_T_lgbm = LGBMClassifier(random_state=0).fit(np.array(train_X_D_given_T), train_y_D_given_T)\n",
    "test_y_D_given_T_proba=clf_D_given_T_lgbm.predict_proba(np.array(test_X_D_given_T))\n",
    "print(f\"AUC score with lgbm: {roc_auc_score(np.array(test_y_D_given_T), test_y_D_given_T_proba[:,1])}\")\n",
    "mu_test = clf_D_given_T_lgbm.predict_proba(np.array(test_X))[:,1]\n",
    "mu_train = clf_D_given_T_lgbm.predict_proba(np.array(train_X))[:,1]"
   ]
  },
  {
   "cell_type": "code",
   "execution_count": 46,
   "id": "e57f90ff",
   "metadata": {},
   "outputs": [
    {
     "name": "stdout",
     "output_type": "stream",
     "text": [
      "AUC score for T_given_mu test: 0.6081310814233466\n",
      "AUC score for T_given_mu train: 0.6093704416195945\n"
     ]
    }
   ],
   "source": [
    "print(f\"AUC score for T_given_mu test: {roc_auc_score(np.array(test_y_T), mu_test)}\")\n",
    "print(f\"AUC score for T_given_mu train: {roc_auc_score(np.array(train_y_T), mu_train)}\")"
   ]
  },
  {
   "cell_type": "code",
   "execution_count": 47,
   "id": "6757eb44",
   "metadata": {},
   "outputs": [
    {
     "name": "stdout",
     "output_type": "stream",
     "text": [
      "AUC score for T_given_mu test with link function : 0.6211224832010882\n"
     ]
    }
   ],
   "source": [
    "clf_T_given_mu_lgbm = LGBMClassifier(random_state=0).fit(mu_train.reshape(-1,1), train_y_T)\n",
    "test_T_given_mu = clf_T_given_mu_lgbm.predict_proba(mu_test.reshape(-1,1))\n",
    "print(f\"AUC score for T_given_mu test with link function : {roc_auc_score(np.array(test_y_T), test_T_given_mu[:,1])}\")"
   ]
  },
  {
   "cell_type": "code",
   "execution_count": 48,
   "id": "9217cbe4",
   "metadata": {},
   "outputs": [
    {
     "data": {
      "text/plain": [
       "(1106542,)"
      ]
     },
     "execution_count": 48,
     "metadata": {},
     "output_type": "execute_result"
    }
   ],
   "source": [
    "mu_train.shape"
   ]
  },
  {
   "cell_type": "code",
   "execution_count": 49,
   "id": "5b50fabd",
   "metadata": {},
   "outputs": [
    {
     "data": {
      "image/png": "[encoded data removed]",
      "text/plain": [
       "<Figure size 432x288 with 1 Axes>"
      ]
     },
     "metadata": {
      "needs_background": "light"
     },
     "output_type": "display_data"
    }
   ],
   "source": [
    "for x in np.arange(0.003,0.1,0.005):\n",
    "    plt.scatter(x, clf_T_given_mu_lgbm.predict_proba(np.array(x)[None,None])[:,1], c='b')\n",
    "plt.xscale('log')\n",
    "plt.show()\n",
    "plt.close()"
   ]
  },
  {
   "cell_type": "code",
   "execution_count": 50,
   "id": "d2025443",
   "metadata": {},
   "outputs": [
    {
     "name": "stdout",
     "output_type": "stream",
     "text": [
      "AUC score with lgbm: 0.8325733842822723\n"
     ]
    }
   ],
   "source": [
    "clf_T_lgbm = LGBMClassifier(random_state=0).fit(np.array(train_X), train_y_T)\n",
    "test_y_T_proba=clf_T_lgbm.predict_proba(np.array(test_X))\n",
    "print(f\"AUC score with lgbm: {roc_auc_score(np.array(test_y_T), test_y_T_proba[:,1])}\")"
   ]
  },
  {
   "cell_type": "code",
   "execution_count": 51,
   "id": "64b113d4",
   "metadata": {},
   "outputs": [
    {
     "data": {
      "image/png": "[encoded data removed]",
      "text/plain": [
       "<Figure size 432x288 with 1 Axes>"
      ]
     },
     "metadata": {
      "needs_background": "light"
     },
     "output_type": "display_data"
    },
    {
     "name": "stdout",
     "output_type": "stream",
     "text": [
      "SpearmanrResult(correlation=0.3632150049201078, pvalue=0.0)\n"
     ]
    }
   ],
   "source": [
    "plt.scatter(test_T_given_mu[:,1],  test_y_T_proba[:,1], s=2)\n",
    "plt.xlabel('p(T|mu)')\n",
    "plt.ylabel('p(T|X)')\n",
    "plt.show()\n",
    "plt.close()\n",
    "print(stats.spearmanr(test_T_given_mu[:,1],  test_y_T_proba[:,1]))"
   ]
  },
  {
   "cell_type": "code",
   "execution_count": 52,
   "id": "2e4afe4e",
   "metadata": {},
   "outputs": [
    {
     "data": {
      "image/png": "[encoded data removed]",
      "text/plain": [
       "<Figure size 432x288 with 1 Axes>"
      ]
     },
     "metadata": {
      "needs_background": "light"
     },
     "output_type": "display_data"
    },
    {
     "name": "stdout",
     "output_type": "stream",
     "text": [
      "SpearmanrResult(correlation=0.7562130728634376, pvalue=0.0)\n"
     ]
    }
   ],
   "source": [
    "plt.scatter(test_T_given_mu[:,1],  mu_test)\n",
    "plt.xlabel('p(T|mu)')\n",
    "plt.ylabel('p(mu)')\n",
    "plt.show()\n",
    "plt.close()\n",
    "print(stats.spearmanr(test_T_given_mu[:,1],  mu_test))"
   ]
  },
  {
   "cell_type": "code",
   "execution_count": null,
   "id": "34fd1c3d",
   "metadata": {},
   "outputs": [],
   "source": []
  },
  {
   "cell_type": "markdown",
   "id": "4a47a085",
   "metadata": {},
   "source": [
    "##  p(T=1) estimator"
   ]
  },
  {
   "cell_type": "code",
   "execution_count": 46,
   "id": "5546b292",
   "metadata": {},
   "outputs": [
    {
     "name": "stdout",
     "output_type": "stream",
     "text": [
      "AUC score: 0.8175524029076543\n"
     ]
    }
   ],
   "source": [
    "clf_T_lr = LogisticRegression(random_state=0, solver='liblinear', penalty= 'l1')\n",
    "clf_T_lr=CalibratedClassifierCV(clf_T_lr)\n",
    "clf_T_lr=clf_T_lr.fit(np.array(train_X), train_y_T)\n",
    "test_y_T_proba=clf_T_lr.predict_proba(np.array(test_X))\n",
    "print(f\"AUC score: {roc_auc_score(np.array(test_y_T), test_y_T_proba[:,1])}\")\n",
    "\n",
    "save_path=osp.join(os.environ.get('OUT_PATH'), 'stop_and_frisk', 'clf_T_lr.pkl')\n"
   ]
  },
  {
   "cell_type": "code",
   "execution_count": 47,
   "id": "2e5f4270",
   "metadata": {},
   "outputs": [],
   "source": [
    "train_X_T_probs_lr = clf_T_lr.predict_proba(np.array(train_X_D_given_T))[:,1]\n",
    "epsilon=0.05\n",
    "train_X_T_probs_lr=np.clip(train_X_T_probs_lr, a_min=epsilon, a_max=1-epsilon)"
   ]
  },
  {
   "cell_type": "code",
   "execution_count": 48,
   "id": "f1f5f781",
   "metadata": {},
   "outputs": [
    {
     "data": {
      "image/png": "[encoded data removed]",
      "text/plain": [
       "<Figure size 432x288 with 1 Axes>"
      ]
     },
     "metadata": {
      "needs_background": "light"
     },
     "output_type": "display_data"
    }
   ],
   "source": [
    "plt.hist((1/train_X_T_probs_lr))\n",
    "plt.show()"
   ]
  },
  {
   "cell_type": "code",
   "execution_count": 49,
   "id": "7e56893d",
   "metadata": {},
   "outputs": [
    {
     "name": "stdout",
     "output_type": "stream",
     "text": [
      "AUC score with lgbm: 0.8327465595540658\n"
     ]
    }
   ],
   "source": [
    "clf_T_lgbm = LGBMClassifier(random_state=0)\n",
    "clf_T_lgbm=CalibratedClassifierCV(clf_T_lgbm)\n",
    "clf_T_lgbm=clf_T_lgbm.fit(np.array(train_X), train_y_T)\n",
    "test_y_T_proba=clf_T_lgbm.predict_proba(np.array(test_X))\n",
    "print(f\"AUC score with lgbm: {roc_auc_score(np.array(test_y_T), test_y_T_proba[:,1])}\")\n",
    "\n",
    "save_path=osp.join(os.environ.get('OUT_PATH'), 'stop_and_frisk', 'clf_T_lgbm.pkl')\n",
    "with open(f\"{save_path}\", \"wb\") as output_file:\n",
    "    pickle.dump(clf_T_lgbm, output_file)"
   ]
  },
  {
   "cell_type": "code",
   "execution_count": 50,
   "id": "6a1522b7",
   "metadata": {},
   "outputs": [],
   "source": [
    "train_X_T_probs_lgbm = clf_T_lgbm.predict_proba(np.array(train_X_D_given_T))[:,1]\n",
    "epsilon=0.05\n",
    "train_X_T_probs_lgbm=np.clip(train_X_T_probs_lgbm, a_min=epsilon, a_max=1-epsilon)"
   ]
  },
  {
   "cell_type": "code",
   "execution_count": 51,
   "id": "b967fcc7",
   "metadata": {},
   "outputs": [
    {
     "data": {
      "image/png": "[encoded data removed]",
      "text/plain": [
       "<Figure size 432x288 with 1 Axes>"
      ]
     },
     "metadata": {
      "needs_background": "light"
     },
     "output_type": "display_data"
    }
   ],
   "source": [
    "plt.hist((1/train_X_T_probs_lgbm))\n",
    "plt.show()"
   ]
  },
  {
   "cell_type": "markdown",
   "id": "1a4ba7ae",
   "metadata": {},
   "source": [
    "## p(D=1|T=1) estimator"
   ]
  },
  {
   "cell_type": "code",
   "execution_count": 52,
   "id": "7967b1e6",
   "metadata": {},
   "outputs": [
    {
     "name": "stdout",
     "output_type": "stream",
     "text": [
      "AUC score with lr: 0.8019435772927224\n"
     ]
    }
   ],
   "source": [
    "clf_D_given_T_lr = LogisticRegression(random_state=0, solver='liblinear', penalty='l1').fit(np.array(train_X_D_given_T), \n",
    "                                                                                 train_y_D_given_T)\n",
    "test_y_D_given_T_proba=clf_D_given_T_lr.predict_proba(np.array(test_X_D_given_T))\n",
    "print(f\"AUC score with lr: {roc_auc_score(np.array(test_y_D_given_T), test_y_D_given_T_proba[:,1])}\")\n",
    "\n",
    "save_path=osp.join(os.environ.get('OUT_PATH'), 'stop_and_frisk', 'clf_D_given_T_lr.pkl')\n",
    "with open(f\"{save_path}\", \"wb\") as output_file:\n",
    "    pickle.dump(clf_D_given_T_lr, output_file)"
   ]
  },
  {
   "cell_type": "code",
   "execution_count": 53,
   "id": "f7113d86",
   "metadata": {},
   "outputs": [
    {
     "name": "stdout",
     "output_type": "stream",
     "text": [
      "AUC score with lgbm: 0.8220645044692207\n"
     ]
    }
   ],
   "source": [
    "clf_D_given_T_lgbm = LGBMClassifier(random_state=0).fit(np.array(train_X_D_given_T), train_y_D_given_T)\n",
    "test_y_D_given_T_proba=clf_D_given_T_lgbm.predict_proba(np.array(test_X_D_given_T))\n",
    "print(f\"AUC score with lgbm: {roc_auc_score(np.array(test_y_D_given_T), test_y_D_given_T_proba[:,1])}\")\n",
    "\n",
    "save_path=osp.join(os.environ.get('OUT_PATH'), 'stop_and_frisk', 'clf_D_given_T_lgbm.pkl')\n",
    "with open(f\"{save_path}\", \"wb\") as output_file:\n",
    "    pickle.dump(clf_D_given_T_lgbm, output_file)"
   ]
  },
  {
   "cell_type": "markdown",
   "id": "0f4d7c30",
   "metadata": {},
   "source": [
    "## p(D=1,T=1) estimator"
   ]
  },
  {
   "cell_type": "code",
   "execution_count": 61,
   "id": "76d3e5ce",
   "metadata": {},
   "outputs": [
    {
     "name": "stdout",
     "output_type": "stream",
     "text": [
      "AUC score with lr : 0.8449269174048857\n"
     ]
    }
   ],
   "source": [
    "clf_D_and_T_lr = LogisticRegression(random_state=0, solver='liblinear', penalty='l1').fit(np.array(train_X), \n",
    "                                                                                 train_y_D_and_T)\n",
    "test_y_D_and_T_proba=clf_D_and_T_lr.predict_proba(np.array(test_X))\n",
    "print(f\"AUC score with lr : {roc_auc_score(np.array(test_y_D_and_T), test_y_D_and_T_proba[:,1])}\")\n",
    "\n",
    "save_path=osp.join(os.environ.get('OUT_PATH'), 'stop_and_frisk', 'clf_D_and_T_lr.pkl')\n",
    "with open(f\"{save_path}\", \"wb\") as output_file:\n",
    "    pickle.dump(clf_D_and_T_lr, output_file)"
   ]
  },
  {
   "cell_type": "code",
   "execution_count": 62,
   "id": "e8f28dcc",
   "metadata": {},
   "outputs": [
    {
     "name": "stdout",
     "output_type": "stream",
     "text": [
      "AUC score with lgbm: 0.8633037562267756\n"
     ]
    }
   ],
   "source": [
    "clf_D_and_T_lgbm = LGBMClassifier(random_state=0).fit(np.array(train_X), train_y_D_and_T)\n",
    "test_y_D_and_T_proba=clf_D_and_T_lgbm.predict_proba(np.array(test_X))\n",
    "print(f\"AUC score with lgbm: {roc_auc_score(np.array(test_y_D_and_T), test_y_D_and_T_proba[:,1])}\")\n",
    "\n",
    "save_path=osp.join(os.environ.get('OUT_PATH'), 'stop_and_frisk', 'clf_D_and_T_lgbm.pkl')\n",
    "with open(f\"{save_path}\", \"wb\") as output_file:\n",
    "    pickle.dump(clf_D_and_T_lgbm, output_file)"
   ]
  },
  {
   "cell_type": "markdown",
   "id": "2401846d",
   "metadata": {},
   "source": [
    "## p(D=1|T=1)_ipw estimator"
   ]
  },
  {
   "cell_type": "code",
   "execution_count": 63,
   "id": "7a6fc685",
   "metadata": {},
   "outputs": [
    {
     "name": "stdout",
     "output_type": "stream",
     "text": [
      "AUC score with lr ipw: 0.8025398874060894\n"
     ]
    }
   ],
   "source": [
    "clf_D_given_T_lr_ipw = LogisticRegression(random_state=0, solver='liblinear', penalty='l1').fit(np.array(train_X_D_given_T), \n",
    "                                                            train_y_D_given_T, sample_weight=1/train_X_T_probs_lr)\n",
    "test_y_D_given_T_proba=clf_D_given_T_lr_ipw.predict_proba(np.array(test_X_D_given_T))\n",
    "print(f\"AUC score with lr ipw: {roc_auc_score(np.array(test_y_D_given_T), test_y_D_given_T_proba[:,1])}\")\n",
    "\n",
    "save_path=osp.join(os.environ.get('OUT_PATH'), 'stop_and_frisk', 'clf_D_given_T_lr_ipw.pkl')\n",
    "with open(f\"{save_path}\", \"wb\") as output_file:\n",
    "    pickle.dump(clf_D_given_T_lr_ipw, output_file)"
   ]
  },
  {
   "cell_type": "code",
   "execution_count": 51,
   "id": "6f912f9b",
   "metadata": {},
   "outputs": [
    {
     "name": "stdout",
     "output_type": "stream",
     "text": [
      "AUC score with lgbm ipw: 0.8195264463392868\n"
     ]
    }
   ],
   "source": [
    "clf_D_given_T_lgbm_ipw = LGBMClassifier(random_state=0).fit(np.array(train_X_D_given_T), train_y_D_given_T,\n",
    "                                                      sample_weight=1/train_X_T_probs_lgbm)\n",
    "test_y_D_given_T_proba=clf_D_given_T_lgbm_ipw.predict_proba(np.array(test_X_D_given_T))\n",
    "print(f\"AUC score with lgbm ipw: {roc_auc_score(np.array(test_y_D_given_T), test_y_D_given_T_proba[:,1])}\")\n",
    "\n",
    "save_path=osp.join(os.environ.get('OUT_PATH'), 'stop_and_frisk', 'clf_D_given_T_lgbm_ipw.pkl')\n",
    "with open(f\"{save_path}\", \"wb\") as output_file:\n",
    "    pickle.dump(clf_D_given_T_lgbm_ipw, output_file)"
   ]
  },
  {
   "cell_type": "markdown",
   "id": "0c19245e",
   "metadata": {},
   "source": [
    "## Heckman Correction"
   ]
  },
  {
   "cell_type": "code",
   "execution_count": 127,
   "id": "3cc86632",
   "metadata": {},
   "outputs": [
    {
     "data": {
      "text/plain": [
       "Index(['suspect.height', 'suspect.weight', 'additional.report',\n",
       "       'additional.investigation', 'additional.proximity',\n",
       "       'additional.evasive', 'additional.associating', 'additional.direction',\n",
       "       'additional.highcrime', 'additional.time',\n",
       "       ...\n",
       "       'suspect.eye_other', 'suspect.eye_pink', 'suspect.eye_two different',\n",
       "       'suspect.eye_unknown', 'suspect.eye_violet', 'suspect.build_medium',\n",
       "       'suspect.build_muscular', 'suspect.build_thin', 'suspect.build_unknown',\n",
       "       'D_and_T'],\n",
       "      dtype='object', length=285)"
      ]
     },
     "execution_count": 127,
     "metadata": {},
     "output_type": "execute_result"
    }
   ],
   "source": [
    "df_raw_sf.iloc[train_idxs].columns"
   ]
  },
  {
   "cell_type": "code",
   "execution_count": 128,
   "id": "c4a09acd",
   "metadata": {},
   "outputs": [
    {
     "data": {
      "text/plain": [
       "(285, 282)"
      ]
     },
     "execution_count": 128,
     "metadata": {},
     "output_type": "execute_result"
    }
   ],
   "source": [
    "len(df_raw_sf.iloc[train_idxs].columns), len(features)"
   ]
  },
  {
   "cell_type": "code",
   "execution_count": 129,
   "id": "fcfa2456",
   "metadata": {},
   "outputs": [
    {
     "name": "stdout",
     "output_type": "stream",
     "text": [
      "       Heckman Regression Results      \n",
      "=======================================\n",
      "Dep. Variable:                        y\n",
      "Model:                          Heckman\n",
      "Method:                Heckman Two-Step\n",
      "Date:                  Mon, 02 Jan 2023\n",
      "Time:                          09:19:11\n",
      "No. Total Obs.:                 1106542\n",
      "No. Censored Obs.:               482881\n",
      "No. Uncensored Obs.:             623661\n",
      "==============================================================================\n",
      "                 coef    std err          z      P>|z|      [0.025      0.975]\n",
      "------------------------------------------------------------------------------\n",
      "x1         -2.702e-05      0.000     -0.132      0.895      -0.000       0.000\n",
      "x2         -5.645e-05      0.000     -0.239      0.811      -0.001       0.000\n",
      "x3             0.0045      0.003      1.396      0.163      -0.002       0.011\n",
      "x4            -0.0214      0.071     -0.302      0.763      -0.161       0.118\n",
      "x5             0.0023      0.009      0.266      0.790      -0.015       0.020\n",
      "x6             0.0002      0.003      0.083      0.934      -0.005       0.006\n",
      "x7            -0.0204      0.038     -0.536      0.592      -0.095       0.054\n",
      "x8             0.0007      0.001      0.957      0.338      -0.001       0.002\n",
      "x9            -0.0048      0.003     -1.540      0.123      -0.011       0.001\n",
      "x10            0.0009      0.001      1.133      0.257      -0.001       0.002\n",
      "x11            0.0006      0.002      0.271      0.786      -0.003       0.005\n",
      "================================================================================\n",
      "                   coef    std err          z      P>|z|      [0.025      0.975]\n",
      "--------------------------------------------------------------------------------\n",
      "z0_or_zconst     0.1597      0.002    100.123      0.000       0.157       0.163\n",
      "================================================================================\n",
      "                   coef    std err          z      P>|z|      [0.025      0.975]\n",
      "--------------------------------------------------------------------------------\n",
      "IMR (Lambda)     0.0267      0.001     29.257      0.000       0.025       0.028\n",
      "=====================================\n",
      "rho:                            0.186\n",
      "sigma:                          0.144\n",
      "=====================================\n",
      "\n",
      "First table are the estimates for the regression (response) equation.\n",
      "Second table are the estimates for the selection equation.\n",
      "Third table is the estimate for the coef of the inverse Mills ratio (Heckman's Lambda).\n"
     ]
    }
   ],
   "source": [
    "res = Heckman(train_y_D.astype(float), np.array(df_raw_sf.iloc[train_idxs][[\"suspect.height\",\"suspect.weight\", 'suspect.eye_other', 'suspect.eye_pink', 'suspect.eye_two different',\n",
    "       'suspect.eye_unknown', 'suspect.eye_violet', 'suspect.build_medium',\n",
    "       'suspect.build_muscular', 'suspect.build_thin', 'suspect.build_unknown']].reset_index(drop=True)).astype(float), train_y_T.astype(float)).fit(method='twostep')\n",
    "print(res.summary())"
   ]
  },
  {
   "cell_type": "code",
   "execution_count": 138,
   "id": "44c3632e",
   "metadata": {},
   "outputs": [],
   "source": [
    "probs=res.predict(np.array(df_raw_sf.iloc[test_idxs][[\"suspect.height\",\"suspect.weight\",'suspect.eye_other', 'suspect.eye_pink', 'suspect.eye_two different',\n",
    "       'suspect.eye_unknown', 'suspect.eye_violet', 'suspect.build_medium',\n",
    "       'suspect.build_muscular', 'suspect.build_thin', 'suspect.build_unknown']].reset_index(drop=True)).astype(float))"
   ]
  },
  {
   "cell_type": "code",
   "execution_count": 131,
   "id": "1788b78e",
   "metadata": {},
   "outputs": [
    {
     "data": {
      "image/png": "[encoded data removed]",
      "text/plain": [
       "<Figure size 432x288 with 1 Axes>"
      ]
     },
     "metadata": {
      "needs_background": "light"
     },
     "output_type": "display_data"
    }
   ],
   "source": [
    "plt.scatter(np.arange(len(probs)), np.sort(probs))\n",
    "plt.show()"
   ]
  },
  {
   "cell_type": "code",
   "execution_count": 136,
   "id": "bdff190a",
   "metadata": {},
   "outputs": [],
   "source": [
    "y=train_y_D.astype(float)\n",
    "x=np.array(df_raw_sf.iloc[train_idxs][[\"suspect.height\",\"suspect.weight\", 'suspect.eye_other', 'suspect.eye_pink', 'suspect.eye_two different',\n",
    "       'suspect.eye_unknown', 'suspect.eye_violet', 'suspect.build_medium',\n",
    "       'suspect.build_muscular', 'suspect.build_thin', 'suspect.build_unknown']].reset_index(drop=True)).astype(float)\n",
    "w=train_y_T.astype(float)\n",
    "# res_mle = Heckman(y,x,w).fit(method='mle')\n",
    "# print(res_mle.summary())"
   ]
  },
  {
   "cell_type": "code",
   "execution_count": 110,
   "id": "a75a59a5",
   "metadata": {},
   "outputs": [
    {
     "data": {
      "text/plain": [
       "(array([ 0.,  1., nan]), array([0., 1.]))"
      ]
     },
     "execution_count": 110,
     "metadata": {},
     "output_type": "execute_result"
    }
   ],
   "source": [
    "np.unique(train_y_D.astype(float)), np.unique(train_y_T.astype(float))"
   ]
  },
  {
   "cell_type": "code",
   "execution_count": null,
   "id": "25008959",
   "metadata": {},
   "outputs": [],
   "source": []
  },
  {
   "cell_type": "markdown",
   "id": "6693094a",
   "metadata": {},
   "source": [
    "## Doubly Robust Estimation with sample splitting and pseudo outcome"
   ]
  },
  {
   "cell_type": "code",
   "execution_count": null,
   "id": "ad4e19fb",
   "metadata": {},
   "outputs": [],
   "source": [
    "# split train data into two folds\n",
    "# on first fold, estimate p(T) and p(D|T)\n",
    "\n",
    "# on second fold, form dr pseudo outcome and estimate the DR learner\n",
    "# repeat 1 and 2 by exchanging the folds"
   ]
  },
  {
   "cell_type": "code",
   "execution_count": null,
   "id": "f01fad98",
   "metadata": {},
   "outputs": [],
   "source": []
  },
  {
   "cell_type": "markdown",
   "id": "c6b0c6ff",
   "metadata": {},
   "source": [
    "## DR with pseudo outcome"
   ]
  },
  {
   "cell_type": "code",
   "execution_count": 87,
   "id": "846bb4bd",
   "metadata": {},
   "outputs": [],
   "source": [
    "# form pseudo outcome\n",
    "train_y_D_given_T_lr=clf_D_given_T_lr.predict_proba(np.array(train_X_D_given_T))[:,1]\n",
    "train_y_D_given_T_lgbm=clf_D_given_T_lgbm.predict_proba(np.array(train_X_D_given_T))[:,1]\n",
    "train_X_T_probs_lgbm=clf_T_lgbm.predict_proba(np.array(train_X_D_given_T))[:,1]\n",
    "train_X_T_probs_lr=clf_T_lr.predict_proba(np.array(train_X_D_given_T))[:,1]\n",
    "train_y_D_given_T_pseudo_dr_lgbm=((train_y_D_given_T-train_y_D_given_T_lgbm)/train_X_T_probs_lgbm) \\\n",
    "                                 + train_y_D_given_T_lgbm\n",
    "train_y_D_given_T_pseudo_dr_lr=((train_y_D_given_T-train_y_D_given_T_lr)/train_X_T_probs_lr) \\\n",
    "                                 + train_y_D_given_T_lr"
   ]
  },
  {
   "cell_type": "code",
   "execution_count": 88,
   "id": "c3e2af3f",
   "metadata": {},
   "outputs": [
    {
     "name": "stdout",
     "output_type": "stream",
     "text": [
      "expected val:0.020475831251221824\n"
     ]
    }
   ],
   "source": [
    "print(f\"expected val:{train_y_D_given_T_pseudo_dr_lgbm.mean()}\")"
   ]
  },
  {
   "cell_type": "code",
   "execution_count": 90,
   "id": "e0e27ccc",
   "metadata": {},
   "outputs": [
    {
     "data": {
      "image/png": "[encoded data removed]",
      "text/plain": [
       "<Figure size 432x288 with 1 Axes>"
      ]
     },
     "metadata": {
      "needs_background": "light"
     },
     "output_type": "display_data"
    }
   ],
   "source": [
    "plt.scatter(np.arange(len(train_y_D_given_T_pseudo_dr_lgbm)), np.sort(train_y_D_given_T_pseudo_dr_lgbm))\n",
    "plt.show()"
   ]
  },
  {
   "cell_type": "code",
   "execution_count": 89,
   "id": "cd75558a",
   "metadata": {},
   "outputs": [
    {
     "data": {
      "image/png": "[encoded data removed]",
      "text/plain": [
       "<Figure size 432x288 with 1 Axes>"
      ]
     },
     "metadata": {
      "needs_background": "light"
     },
     "output_type": "display_data"
    }
   ],
   "source": [
    "plt.scatter(np.arange(len(np.where(train_y_D_given_T_pseudo_dr_lgbm>1)[0])), np.sort(train_y_D_given_T_pseudo_dr_lgbm[np.where(train_y_D_given_T_pseudo_dr_lgbm>1)[0]]))\n",
    "plt.show()"
   ]
  },
  {
   "cell_type": "code",
   "execution_count": 144,
   "id": "8418d273",
   "metadata": {},
   "outputs": [],
   "source": [
    "clf_D_given_T_lr_pseudo_dr = LinearRegression().fit(np.array(train_X_D_given_T), \n",
    "                                                                                 train_y_D_given_T_pseudo_dr_lr)\n",
    "test_y_D_given_T_lr_pseudo_dr=clf_D_given_T_lr_pseudo_dr.predict(np.array(test_X_D_given_T))\n",
    "\n",
    "save_path=osp.join(os.environ.get('OUT_PATH'), 'stop_and_frisk', 'clf_D_given_T_lr_pseudo_dr.pkl')\n",
    "with open(f\"{save_path}\", \"wb\") as output_file:\n",
    "    pickle.dump(clf_D_given_T_lr_pseudo_dr, output_file)"
   ]
  },
  {
   "cell_type": "code",
   "execution_count": 143,
   "id": "291fc40f",
   "metadata": {},
   "outputs": [
    {
     "data": {
      "image/png": "[encoded data removed]",
      "text/plain": [
       "<Figure size 432x288 with 1 Axes>"
      ]
     },
     "metadata": {
      "needs_background": "light"
     },
     "output_type": "display_data"
    }
   ],
   "source": [
    "plt.scatter(np.arange(len(test_y_D_given_T_lr_pseudo_dr)), test_y_D_given_T_lr_pseudo_dr)\n",
    "plt.show()"
   ]
  },
  {
   "cell_type": "code",
   "execution_count": 147,
   "id": "7d237e7e",
   "metadata": {},
   "outputs": [
    {
     "data": {
      "image/png": "[encoded data removed]",
      "text/plain": [
       "<Figure size 432x288 with 1 Axes>"
      ]
     },
     "metadata": {
      "needs_background": "light"
     },
     "output_type": "display_data"
    }
   ],
   "source": [
    "clf_D_given_T_lgbm_pseudo_dr = LGBMRegressor(random_state=0).fit(np.array(train_X_D_given_T), train_y_D_given_T_pseudo_dr_lgbm)\n",
    "test_y_D_given_T_lgbm_pseudo_dr=clf_D_given_T_lgbm_pseudo_dr.predict(np.array(test_X_D_given_T))\n",
    "\n",
    "plt.scatter(np.arange(len(test_y_D_given_T_lgbm_pseudo_dr)), test_y_D_given_T_lgbm_pseudo_dr)\n",
    "plt.show()\n",
    "\n",
    "save_path=osp.join(os.environ.get('OUT_PATH'), 'stop_and_frisk', 'clf_D_given_T_lgbm_pseudo_dr.pkl')\n",
    "with open(f\"{save_path}\", \"wb\") as output_file:\n",
    "    pickle.dump(clf_D_given_T_lgbm_pseudo_dr, output_file)"
   ]
  },
  {
   "cell_type": "markdown",
   "id": "8cf12052",
   "metadata": {},
   "source": [
    "## IPW with pseudo outcome"
   ]
  },
  {
   "cell_type": "code",
   "execution_count": 54,
   "id": "2b475d98",
   "metadata": {},
   "outputs": [
    {
     "name": "stdout",
     "output_type": "stream",
     "text": [
      "sum_ipw_weights_lgbm : 18375.139968506122\n",
      "sum_ipw_weights_lr : 18561.318419750296\n"
     ]
    }
   ],
   "source": [
    "# form pseudo outcome\n",
    "train_y_D_given_T_pseudo_ipw_lgbm=train_y_D_given_T/train_X_T_probs_lgbm\n",
    "sum_ipw_weights_lgbm = train_y_D_given_T_pseudo_ipw_lgbm.sum()\n",
    "print(f\"sum_ipw_weights_lgbm : {sum_ipw_weights_lgbm}\")\n",
    "train_y_D_given_T_pseudo_ipw_lr=train_y_D_given_T/train_X_T_probs_lr\n",
    "sum_ipw_weights_lr = train_y_D_given_T_pseudo_ipw_lr.sum()\n",
    "print(f\"sum_ipw_weights_lr : {sum_ipw_weights_lr}\")"
   ]
  },
  {
   "cell_type": "code",
   "execution_count": 60,
   "id": "cab681c2",
   "metadata": {},
   "outputs": [
    {
     "data": {
      "image/png": "[encoded data removed]",
      "text/plain": [
       "<Figure size 432x288 with 1 Axes>"
      ]
     },
     "metadata": {
      "needs_background": "light"
     },
     "output_type": "display_data"
    }
   ],
   "source": [
    "plt.scatter(np.arange(len(train_y_D_given_T_pseudo_ipw_lgbm)), train_y_D_given_T_pseudo_ipw_lgbm)\n",
    "plt.show()"
   ]
  },
  {
   "cell_type": "code",
   "execution_count": 56,
   "id": "fbfa867e",
   "metadata": {},
   "outputs": [
    {
     "name": "stdout",
     "output_type": "stream",
     "text": [
      "expected val:0.02947123784431947\n"
     ]
    }
   ],
   "source": [
    "print(f\"expected val:{train_y_D_given_T_pseudo_ipw_lgbm.mean()}\")"
   ]
  },
  {
   "cell_type": "code",
   "execution_count": 61,
   "id": "a872063d",
   "metadata": {},
   "outputs": [
    {
     "data": {
      "image/png": "[encoded data removed]",
      "text/plain": [
       "<Figure size 432x288 with 1 Axes>"
      ]
     },
     "metadata": {
      "needs_background": "light"
     },
     "output_type": "display_data"
    }
   ],
   "source": [
    "clf_D_given_T_lr_pseudo_ipw = LinearRegression().fit(np.array(train_X_D_given_T), train_y_D_given_T_pseudo_ipw_lr)\n",
    "test_y_D_given_T_lr_pseudo_ipw = clf_D_given_T_lr_pseudo_ipw.predict(np.array(test_X_D_given_T))\n",
    "# print(f\"AUC score with lr: {roc_auc_score(np.array(test_y_D_given_T), test_y_D_given_T_proba[:,1])}\")\n",
    "\n",
    "plt.scatter(np.arange(len(test_y_D_given_T_lr_pseudo_ipw)), test_y_D_given_T_lr_pseudo_ipw)\n",
    "plt.show()\n",
    "save_path=osp.join(os.environ.get('OUT_PATH'), 'stop_and_frisk', 'clf_D_given_T_lr_pseudo_ipw.pkl')\n",
    "with open(f\"{save_path}\", \"wb\") as output_file:\n",
    "    pickle.dump(clf_D_given_T_lr_pseudo_ipw, output_file)"
   ]
  },
  {
   "cell_type": "code",
   "execution_count": 62,
   "id": "3d4eb970",
   "metadata": {},
   "outputs": [
    {
     "data": {
      "image/png": "[encoded data removed]",
      "text/plain": [
       "<Figure size 432x288 with 1 Axes>"
      ]
     },
     "metadata": {
      "needs_background": "light"
     },
     "output_type": "display_data"
    }
   ],
   "source": [
    "clf_D_given_T_lgbm_pseudo_ipw = LGBMRegressor(random_state=0).fit(np.array(train_X_D_given_T), train_y_D_given_T_pseudo_ipw_lgbm)\n",
    "test_y_D_given_T_lgbm_pseudo_ipw=clf_D_given_T_lgbm_pseudo_ipw.predict(np.array(test_X_D_given_T))\n",
    "# print(f\"AUC score with lr: {roc_auc_score(np.array(test_y_D_given_T), test_y_D_given_T_proba[:,1])}\")\n",
    "\n",
    "plt.scatter(np.arange(len(test_y_D_given_T_lgbm_pseudo_ipw)), test_y_D_given_T_lgbm_pseudo_ipw)\n",
    "plt.show()\n",
    "\n",
    "save_path=osp.join(os.environ.get('OUT_PATH'), 'stop_and_frisk', 'clf_D_given_T_lgbm_pseudo_ipw.pkl')\n",
    "with open(f\"{save_path}\", \"wb\") as output_file:\n",
    "    pickle.dump(clf_D_given_T_lgbm_pseudo_ipw, output_file)"
   ]
  },
  {
   "cell_type": "markdown",
   "id": "d93c08f2",
   "metadata": {},
   "source": [
    "## Find correlation between the probs from different estimators"
   ]
  },
  {
   "cell_type": "code",
   "execution_count": 65,
   "id": "116f0aa2",
   "metadata": {},
   "outputs": [],
   "source": [
    "def getPred_fromProb(prob, thresh=0.5):\n",
    "    if prob>=thresh:\n",
    "        return 1.0\n",
    "    else:\n",
    "        return 0.0\n",
    "    \n",
    "def getMetrics(labels, prob):\n",
    "    PR = average_precision_score(labels, prob)\n",
    "    auc_score = roc_auc_score(labels, prob)\n",
    "    print(f\"auc_score:{auc_score}\")\n",
    "    preds=np.vectorize(getPred_fromProb)(prob)\n",
    "    balanced_accr = balanced_accuracy_score(labels, preds)\n",
    "    cr = classification_report(labels, preds)\n",
    "    return auc_score, PR, balanced_accr, cr\n",
    "\n",
    "def loadModelData(m, t):\n",
    "    X=np.array(test_X)\n",
    "    assert m in ['LogisticRegression', 'LGBM']\n",
    "    assert t in ['T', 'D|T', 'D_and_T', 'D|T_ipw']\n",
    "    if t=='T':\n",
    "        y=df_raw_sf.iloc[test_idxs]['T'].values\n",
    "        if m=='LogisticRegression':\n",
    "            clf=clf_T_lr\n",
    "        elif m=='LGBM':\n",
    "            clf=clf_T_lgbm\n",
    "    elif t=='D|T':\n",
    "        y=df_raw_sf.iloc[test_idxs]['D'].values\n",
    "        if m=='LogisticRegression':\n",
    "            clf=clf_D_given_T_lr\n",
    "        elif m=='LGBM':\n",
    "            clf=clf_D_given_T_lgbm\n",
    "    elif t=='D|T_ipw':   \n",
    "        y=df_raw_sf.iloc[test_idxs]['D'].values\n",
    "        if m=='LogisticRegression':\n",
    "            clf = clf_D_given_T_lr_ipw\n",
    "        elif m=='LGBM':\n",
    "            clf = clf_D_given_T_lgbm_ipw\n",
    "    elif t=='D_and_T':\n",
    "        y=df_raw_sf.iloc[test_idxs]['D_and_T'].values\n",
    "        if m=='LogisticRegression':\n",
    "            clf=clf_D_and_T_lr\n",
    "        elif m=='LGBM':\n",
    "            clf=clf_D_and_T_lgbm\n",
    "    return clf, y, X"
   ]
  },
  {
   "cell_type": "code",
   "execution_count": 66,
   "id": "e64e0ffd",
   "metadata": {},
   "outputs": [],
   "source": [
    "def getCorr(models, tasks, dict_df_labels, dict_df_probs, dict_models, df_pp, calibrate=False,**kwargs):\n",
    "    epsilon = kwargs.get('epsilon')\n",
    "    fig, ax = plt.subplots(nrows=3, ncols=2, figsize=(10,10))\n",
    "    for col, m in enumerate(models):\n",
    "        dict_df_labels[m]= pd.DataFrame([])\n",
    "        dict_df_probs[m]= pd.DataFrame([])\n",
    "        dict_models[m]= {}\n",
    "        for row, t in enumerate(tasks):\n",
    "            model , labels, X = loadModelData(m, t)\n",
    "            dict_models[m][str(t)]=model\n",
    "            dict_df_labels[m][str(t)]=labels\n",
    "            probs = model.predict_proba(X)[:,1]\n",
    "            dict_df_probs[m][str(t)]=probs\n",
    "            probs = probs[~np.isnan(labels)]\n",
    "            labels = labels[~np.isnan(labels)]\n",
    "            auc_score, pr_score, balanced_acc = getMetrics(labels, probs)[:3]\n",
    "            print(f\"classification report for model {m}, task {t}: \\n {getMetrics(labels, probs)[3]}\")\n",
    "            df_pp=df_pp.append({'AUC' :auc_score ,'PR':pr_score,'BalancedAcc':balanced_acc, 'modelName':m,'rowName':t},ignore_index=True)\n",
    "            \n",
    "        # get the correlation\n",
    "        T_probs = dict_df_probs[m]['T']\n",
    "        D_given_T_probs = dict_df_probs[m]['D|T']\n",
    "        D_and_T_probs = dict_df_probs[m]['D_and_T']\n",
    "\n",
    "        print(f\"T and D|T probs for model {m}: {stats.spearmanr(T_probs, D_given_T_probs)}\")\n",
    "        print(f\"T and D,T probs for model {m}: {stats.spearmanr(T_probs, D_and_T_probs)}\")\n",
    "        print(f\"D,T and D|T probs for model {m}: {stats.spearmanr(D_and_T_probs, D_given_T_probs)}\")\n",
    "        ax[0,col].scatter(D_given_T_probs, T_probs, s=5)\n",
    "        ax[1,col].scatter(D_and_T_probs, T_probs, s=5)\n",
    "        ax[2,col].scatter(D_and_T_probs, D_given_T_probs, s=5)\n",
    "        ax[0,col].set_title(f\"{m}\")\n",
    "    ax[0,0].set_ylabel('p(T=1|X)')  \n",
    "    ax[1,0].set_ylabel('p(T=1|X)')   \n",
    "    ax[2,0].set_xlabel('p(D=1,T=1|X)')  \n",
    "    ax[0,0].set_xlabel('p(D=1|T=1,X)')\n",
    "    ax[1,0].set_xlabel('p(D=1,T=1,X)')\n",
    "    ax[2,0].set_ylabel('p(D=1|T=1,X)')\n",
    "    fig.tight_layout()\n",
    "    fig.subplots_adjust(top=0.85)\n",
    "    plt.show()\n",
    "    plt.close()\n",
    "    return dict_df_labels, dict_df_probs, dict_models, df_pp"
   ]
  },
  {
   "cell_type": "code",
   "execution_count": 67,
   "id": "d5bd63f3",
   "metadata": {},
   "outputs": [],
   "source": [
    "def plotCorr(models, dict_df_probs, title):\n",
    "    fig1, ax1 = plt.subplots(nrows=1, ncols=2, figsize=(15,9))\n",
    "    plt.suptitle(str(title))\n",
    "    \n",
    "    for i, m in enumerate(models):\n",
    "        df = dict_df_probs[m].copy()\n",
    "        df = df.rename(columns={'T': 'p(T=1|X)', 'D|T': 'p(D=1|T=1,X)', \n",
    "        'D_and_T':'p(D=1,T=1|X)', 'D|T_ipw':'p(D=1|T=1,X)_ipw'})\n",
    "        corr_mat = df.corr(method='spearman')\n",
    "        assert np.all(np.linalg.eigvals(corr_mat)>0.0)\n",
    "        mask = np.zeros_like(corr_mat, dtype=bool)\n",
    "        mask[np.triu_indices_from(mask, k=1)] = True\n",
    "        if i!=2:\n",
    "            g1=sns.heatmap(corr_mat, mask=mask, cmap=\"Blues\", annot=True, ax=ax1[i], cbar=False, annot_kws={\"fontsize\":20})\n",
    "        else:\n",
    "            g1=sns.heatmap(corr_mat, mask=mask, cmap=\"Blues\", annot=True, ax=ax1[i], annot_kws={\"fontsize\":20})\n",
    "        g1.set_ylabel('')\n",
    "        g1.set_xlabel('')\n",
    "        if i!=0:\n",
    "            g1.set_yticks([])\n",
    "        g1.set_title(str(m))\n",
    "        g1.tick_params(axis='both', which='major', labelsize=15, rotation=45)\n",
    "    fig1.tight_layout()\n",
    "    fig1.subplots_adjust(top=0.85)\n",
    "    plt.show()"
   ]
  },
  {
   "cell_type": "code",
   "execution_count": 68,
   "id": "5647fe9e",
   "metadata": {
    "scrolled": true
   },
   "outputs": [
    {
     "name": "stdout",
     "output_type": "stream",
     "text": [
      "auc_score:0.8175481998261711\n",
      "auc_score:0.8175481998261711\n",
      "classification report for model LogisticRegression, task T: \n",
      "               precision    recall  f1-score   support\n",
      "\n",
      "       False       0.70      0.72      0.71    482881\n",
      "        True       0.78      0.76      0.77    623661\n",
      "\n",
      "    accuracy                           0.74   1106542\n",
      "   macro avg       0.74      0.74      0.74   1106542\n",
      "weighted avg       0.74      0.74      0.74   1106542\n",
      "\n",
      "auc_score:0.8019435772927224\n",
      "auc_score:0.8019435772927224\n",
      "classification report for model LogisticRegression, task D|T: \n",
      "               precision    recall  f1-score   support\n",
      "\n",
      "         0.0       0.98      1.00      0.99    610820\n",
      "         1.0       0.61      0.08      0.14     12841\n",
      "\n",
      "    accuracy                           0.98    623661\n",
      "   macro avg       0.80      0.54      0.57    623661\n",
      "weighted avg       0.97      0.98      0.97    623661\n",
      "\n",
      "auc_score:0.8449269174048857\n",
      "auc_score:0.8449269174048857\n",
      "classification report for model LogisticRegression, task D_and_T: \n",
      "               precision    recall  f1-score   support\n",
      "\n",
      "       False       0.99      1.00      0.99   1093701\n",
      "        True       0.55      0.06      0.11     12841\n",
      "\n",
      "    accuracy                           0.99   1106542\n",
      "   macro avg       0.77      0.53      0.55   1106542\n",
      "weighted avg       0.98      0.99      0.98   1106542\n",
      "\n",
      "auc_score:0.8025398874060894\n",
      "auc_score:0.8025398874060894\n",
      "classification report for model LogisticRegression, task D|T_ipw: \n",
      "               precision    recall  f1-score   support\n",
      "\n",
      "         0.0       0.98      1.00      0.99    610820\n",
      "         1.0       0.62      0.06      0.12     12841\n",
      "\n",
      "    accuracy                           0.98    623661\n",
      "   macro avg       0.80      0.53      0.55    623661\n",
      "weighted avg       0.97      0.98      0.97    623661\n",
      "\n",
      "T and D|T probs for model LogisticRegression: SpearmanrResult(correlation=0.3242013501614483, pvalue=0.0)\n",
      "T and D,T probs for model LogisticRegression: SpearmanrResult(correlation=0.6328337662199879, pvalue=0.0)\n",
      "D,T and D|T probs for model LogisticRegression: SpearmanrResult(correlation=0.912130312594103, pvalue=0.0)\n",
      "auc_score:0.8325733842822723\n",
      "auc_score:0.8325733842822723\n",
      "classification report for model LGBM, task T: \n",
      "               precision    recall  f1-score   support\n",
      "\n",
      "       False       0.71      0.74      0.73    482881\n",
      "        True       0.79      0.77      0.78    623661\n",
      "\n",
      "    accuracy                           0.76   1106542\n",
      "   macro avg       0.75      0.75      0.75   1106542\n",
      "weighted avg       0.76      0.76      0.76   1106542\n",
      "\n",
      "auc_score:0.8220645044692207\n",
      "auc_score:0.8220645044692207\n",
      "classification report for model LGBM, task D|T: \n",
      "               precision    recall  f1-score   support\n",
      "\n",
      "         0.0       0.98      1.00      0.99    610820\n",
      "         1.0       0.60      0.16      0.25     12841\n",
      "\n",
      "    accuracy                           0.98    623661\n",
      "   macro avg       0.79      0.58      0.62    623661\n",
      "weighted avg       0.97      0.98      0.97    623661\n",
      "\n",
      "auc_score:0.8633037562267756\n",
      "auc_score:0.8633037562267756\n",
      "classification report for model LGBM, task D_and_T: \n",
      "               precision    recall  f1-score   support\n",
      "\n",
      "       False       0.99      1.00      0.99   1093701\n",
      "        True       0.55      0.13      0.21     12841\n",
      "\n",
      "    accuracy                           0.99   1106542\n",
      "   macro avg       0.77      0.56      0.60   1106542\n",
      "weighted avg       0.98      0.99      0.99   1106542\n",
      "\n",
      "auc_score:0.820131378197845\n",
      "auc_score:0.820131378197845\n",
      "classification report for model LGBM, task D|T_ipw: \n",
      "               precision    recall  f1-score   support\n",
      "\n",
      "         0.0       0.98      1.00      0.99    610820\n",
      "         1.0       0.60      0.15      0.24     12841\n",
      "\n",
      "    accuracy                           0.98    623661\n",
      "   macro avg       0.79      0.57      0.62    623661\n",
      "weighted avg       0.97      0.98      0.97    623661\n",
      "\n",
      "T and D|T probs for model LGBM: SpearmanrResult(correlation=0.33392180136211747, pvalue=0.0)\n",
      "T and D,T probs for model LGBM: SpearmanrResult(correlation=0.7211823840541516, pvalue=0.0)\n",
      "D,T and D|T probs for model LGBM: SpearmanrResult(correlation=0.7964850553535644, pvalue=0.0)\n"
     ]
    },
    {
     "data": {
      "image/png": "[encoded data removed]",
      "text/plain": [
       "<Figure size 720x720 with 6 Axes>"
      ]
     },
     "metadata": {
      "needs_background": "light"
     },
     "output_type": "display_data"
    },
    {
     "data": {
      "image/png": "[encoded data removed]",
      "text/plain": [
       "<Figure size 1080x648 with 2 Axes>"
      ]
     },
     "metadata": {
      "needs_background": "light"
     },
     "output_type": "display_data"
    }
   ],
   "source": [
    "models=['LogisticRegression', 'LGBM']\n",
    "tasks=['T', 'D|T', 'D_and_T', 'D|T_ipw']\n",
    "dict_df_labels={}\n",
    "dict_df_probs={}\n",
    "dict_df_ids={}\n",
    "dict_models={}\n",
    "df_pp=pd.DataFrame({'AUC' : [],'PR':[],'BalancedAcc':[],'modelName':[],'rowName':[]})\n",
    "dict_df_labels, dict_df_probs, dict_models, df_pp = getCorr(models, tasks, dict_df_labels, dict_df_probs\n",
    "                                                            , dict_models, df_pp, calibrate=False)\n",
    "title='Correlation plots'\n",
    "plotCorr(models, dict_df_probs, title)"
   ]
  },
  {
   "cell_type": "code",
   "execution_count": 69,
   "id": "028dd08a",
   "metadata": {},
   "outputs": [
    {
     "data": {
      "text/html": [
       "<div>\n",
       "<style scoped>\n",
       "    .dataframe tbody tr th:only-of-type {\n",
       "        vertical-align: middle;\n",
       "    }\n",
       "\n",
       "    .dataframe tbody tr th {\n",
       "        vertical-align: top;\n",
       "    }\n",
       "\n",
       "    .dataframe thead th {\n",
       "        text-align: right;\n",
       "    }\n",
       "</style>\n",
       "<table border=\"1\" class=\"dataframe\">\n",
       "  <thead>\n",
       "    <tr style=\"text-align: right;\">\n",
       "      <th></th>\n",
       "      <th>AUC</th>\n",
       "      <th>PR</th>\n",
       "      <th>BalancedAcc</th>\n",
       "      <th>modelName</th>\n",
       "      <th>rowName</th>\n",
       "    </tr>\n",
       "  </thead>\n",
       "  <tbody>\n",
       "    <tr>\n",
       "      <th>0</th>\n",
       "      <td>0.817548</td>\n",
       "      <td>0.851647</td>\n",
       "      <td>0.740905</td>\n",
       "      <td>LogisticRegression</td>\n",
       "      <td>T</td>\n",
       "    </tr>\n",
       "    <tr>\n",
       "      <th>1</th>\n",
       "      <td>0.801944</td>\n",
       "      <td>0.243294</td>\n",
       "      <td>0.539262</td>\n",
       "      <td>LogisticRegression</td>\n",
       "      <td>D|T</td>\n",
       "    </tr>\n",
       "    <tr>\n",
       "      <th>2</th>\n",
       "      <td>0.844927</td>\n",
       "      <td>0.211174</td>\n",
       "      <td>0.529540</td>\n",
       "      <td>LogisticRegression</td>\n",
       "      <td>D_and_T</td>\n",
       "    </tr>\n",
       "    <tr>\n",
       "      <th>3</th>\n",
       "      <td>0.802540</td>\n",
       "      <td>0.241529</td>\n",
       "      <td>0.531332</td>\n",
       "      <td>LogisticRegression</td>\n",
       "      <td>D|T_ipw</td>\n",
       "    </tr>\n",
       "    <tr>\n",
       "      <th>4</th>\n",
       "      <td>0.832573</td>\n",
       "      <td>0.865754</td>\n",
       "      <td>0.753782</td>\n",
       "      <td>LGBM</td>\n",
       "      <td>T</td>\n",
       "    </tr>\n",
       "    <tr>\n",
       "      <th>5</th>\n",
       "      <td>0.822065</td>\n",
       "      <td>0.269246</td>\n",
       "      <td>0.577797</td>\n",
       "      <td>LGBM</td>\n",
       "      <td>D|T</td>\n",
       "    </tr>\n",
       "    <tr>\n",
       "      <th>6</th>\n",
       "      <td>0.863304</td>\n",
       "      <td>0.232796</td>\n",
       "      <td>0.564177</td>\n",
       "      <td>LGBM</td>\n",
       "      <td>D_and_T</td>\n",
       "    </tr>\n",
       "    <tr>\n",
       "      <th>7</th>\n",
       "      <td>0.820131</td>\n",
       "      <td>0.263038</td>\n",
       "      <td>0.574318</td>\n",
       "      <td>LGBM</td>\n",
       "      <td>D|T_ipw</td>\n",
       "    </tr>\n",
       "  </tbody>\n",
       "</table>\n",
       "</div>"
      ],
      "text/plain": [
       "        AUC        PR  BalancedAcc           modelName  rowName\n",
       "0  0.817548  0.851647     0.740905  LogisticRegression        T\n",
       "1  0.801944  0.243294     0.539262  LogisticRegression      D|T\n",
       "2  0.844927  0.211174     0.529540  LogisticRegression  D_and_T\n",
       "3  0.802540  0.241529     0.531332  LogisticRegression  D|T_ipw\n",
       "4  0.832573  0.865754     0.753782                LGBM        T\n",
       "5  0.822065  0.269246     0.577797                LGBM      D|T\n",
       "6  0.863304  0.232796     0.564177                LGBM  D_and_T\n",
       "7  0.820131  0.263038     0.574318                LGBM  D|T_ipw"
      ]
     },
     "execution_count": 69,
     "metadata": {},
     "output_type": "execute_result"
    }
   ],
   "source": [
    "df_pp"
   ]
  },
  {
   "cell_type": "code",
   "execution_count": null,
   "id": "9ed2923d",
   "metadata": {},
   "outputs": [],
   "source": []
  }
 ],
 "metadata": {
  "kernelspec": {
   "display_name": "icu-benchmark",
   "language": "python",
   "name": "icu-benchmark"
  },
  "language_info": {
   "codemirror_mode": {
    "name": "ipython",
    "version": 3
   },
   "file_extension": ".py",
   "mimetype": "text/x-python",
   "name": "python",
   "nbconvert_exporter": "python",
   "pygments_lexer": "ipython3",
   "version": "3.8.8"
  }
 },
 "nbformat": 4,
 "nbformat_minor": 5
}
