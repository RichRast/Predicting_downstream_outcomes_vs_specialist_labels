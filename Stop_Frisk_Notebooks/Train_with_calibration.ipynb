{
 "cells": [
  {
   "cell_type": "markdown",
   "id": "97bd915b",
   "metadata": {},
   "source": []
  },
  {
   "cell_type": "code",
   "execution_count": 1,
   "id": "d0c18f1e",
   "metadata": {},
   "outputs": [],
   "source": [
    "import numpy as np\n",
    "import pandas as pd\n",
    "import matplotlib\n",
    "import matplotlib.pyplot as plt\n",
    "import matplotlib.patches as mpatches\n",
    "from scipy import stats\n",
    "import seaborn as sns\n",
    "import os\n",
    "import os.path as osp\n",
    "import sys\n",
    "import pickle\n",
    "import joblib\n",
    "from collections import Counter\n",
    "from itertools import product\n",
    "import torch\n",
    "import pdb\n",
    "import random\n",
    "import tables\n",
    "from sklearn.linear_model import LogisticRegression, LinearRegression\n",
    "from datetime import datetime\n",
    "from sklearn.preprocessing import OneHotEncoder\n",
    "from sklearn.metrics import confusion_matrix, roc_auc_score, classification_report, average_precision_score,\\\n",
    "balanced_accuracy_score\n",
    "from lightgbm import LGBMClassifier, LGBMRegressor\n",
    "from sklearn.calibration import CalibratedClassifierCV\n",
    "import heckman\n",
    "from heckman import Heckman\n",
    "import wandb\n",
    "from wandb.lightgbm import wandb_callback, log_summary\n",
    "from dill.source import getsource\n",
    "from dill import detect\n",
    "import functools\n",
    "from copy import deepcopy"
   ]
  },
  {
   "cell_type": "markdown",
   "id": "ca226e47",
   "metadata": {},
   "source": [
    "### set the seeds and change to current directory + set the output directory"
   ]
  },
  {
   "cell_type": "code",
   "execution_count": 2,
   "id": "1dd8c25c",
   "metadata": {},
   "outputs": [],
   "source": [
    "SEED=90210\n",
    "np.random.seed(SEED)\n",
    "os.environ['USER_PATH']='/share/pierson/selective_labels_data/hirid_data_analysis/richras_dir/learning_from_doctor_and_patient/'\n",
    "os.environ['OUT_PATH']='/share/pierson/selective_labels_data/hirid_data_analysis/richras_dir/learning_from_doctor_and_patient/output_directory'"
   ]
  },
  {
   "cell_type": "markdown",
   "id": "cbc3ce23",
   "metadata": {},
   "source": [
    "### Create function to pickle functions"
   ]
  },
  {
   "cell_type": "code",
   "execution_count": 3,
   "id": "7a67747e",
   "metadata": {},
   "outputs": [],
   "source": [
    "def function_to_string(fn):\n",
    "    return getsource(detect.code(fn)) "
   ]
  },
  {
   "cell_type": "code",
   "execution_count": 4,
   "id": "75551144",
   "metadata": {},
   "outputs": [],
   "source": [
    "processed_data_path=osp.join(os.environ.get('OUT_PATH'), 'stop_and_frisk')"
   ]
  },
  {
   "cell_type": "code",
   "execution_count": 5,
   "id": "656118f4",
   "metadata": {},
   "outputs": [],
   "source": [
    "os.chdir('/share/pierson/selective_labels_data/hirid_data_analysis/richras_dir/learning_from_doctor_and_patient/')\n",
    "from AnalysisFuncs import trainEvalModel, trainHardPseudo, loadFile, saveFile, calibrate_by_bin\n",
    "from AnalysisFuncs import getTrainTestIdx, plotCalibrationPlots, getClippedProbs"
   ]
  },
  {
   "cell_type": "code",
   "execution_count": 6,
   "id": "bb773cf0",
   "metadata": {},
   "outputs": [],
   "source": [
    "%reload_ext autoreload\n",
    "%autoreload 2"
   ]
  },
  {
   "cell_type": "code",
   "execution_count": 7,
   "id": "52d8f784",
   "metadata": {},
   "outputs": [],
   "source": [
    "train_X = loadFile(osp.join(processed_data_path,'predict_T'), '/train_X.npy')\n",
    "train_y_T = loadFile(osp.join(processed_data_path,'predict_T'), '/train_y_T.npy')\n",
    "val_X = loadFile(osp.join(processed_data_path,'predict_T'), '/val_X.npy')\n",
    "val_y_T = loadFile(osp.join(processed_data_path,'predict_T'), '/val_y_T.npy')\n",
    "train_cross_val_X = loadFile(osp.join(processed_data_path,'predict_T'), '/train_cross_val_X.npy')\n",
    "train_cross_val_y_T = loadFile(osp.join(processed_data_path,'predict_T'), '/train_cross_val_y_T.npy')\n",
    "test_X = loadFile(osp.join(processed_data_path,'predict_T'), '/test_X.npy')\n",
    "test_y_T = loadFile(osp.join(processed_data_path,'predict_T'), '/test_y_T.npy')\n",
    "\n",
    "train_X_D_given_T = loadFile(osp.join(processed_data_path,'predict_D_given_T'), '/train_X_D_given_T.npy')\n",
    "train_y_D_given_T = loadFile(osp.join(processed_data_path,'predict_D_given_T'), '/train_y_D_given_T.npy')\n",
    "val_X_D_given_T = loadFile(osp.join(processed_data_path,'predict_D_given_T'), '/val_X_D_given_T.npy')\n",
    "val_y_D_given_T = loadFile(osp.join(processed_data_path,'predict_D_given_T'), '/val_y_D_given_T.npy')\n",
    "train_cross_val_X_D_given_T = loadFile(osp.join(processed_data_path,'predict_D_given_T'), \n",
    "                                       '/train_cross_val_X_D_given_T.npy')\n",
    "train_cross_val_y_D_given_T = loadFile(osp.join(processed_data_path,'predict_D_given_T'), \n",
    "                                       '/train_cross_val_y_D_given_T.npy')\n",
    "test_X_D_given_T = loadFile(osp.join(processed_data_path,'predict_D_given_T'), '/test_X_D_given_T.npy')\n",
    "test_y_D_given_T = loadFile(osp.join(processed_data_path,'predict_D_given_T'), '/test_y_D_given_T.npy')\n",
    "\n",
    "\n",
    "\n",
    "train_y_D_and_T = loadFile(osp.join(processed_data_path,'predict_D_and_T'), '/train_y_D_and_T.npy')\n",
    "val_y_D_and_T = loadFile(osp.join(processed_data_path,'predict_D_and_T'), '/val_y_D_and_T.npy')\n",
    "train_cross_val_y_D_and_T = loadFile(osp.join(processed_data_path,'predict_D_and_T'), \n",
    "                                       '/train_cross_val_y_D_and_T.npy')\n",
    "test_y_D_and_T = loadFile(osp.join(processed_data_path,'predict_D_and_T'), '/test_y_D_and_T.npy')"
   ]
  },
  {
   "cell_type": "code",
   "execution_count": 8,
   "id": "ddd59508",
   "metadata": {},
   "outputs": [
    {
     "name": "stderr",
     "output_type": "stream",
     "text": [
      "/home/rr568/.conda/envs/icu-benchmark/lib/python3.8/site-packages/IPython/core/interactiveshell.py:3338: DtypeWarning: Columns (67) have mixed types.Specify dtype option on import or set low_memory=False.\n",
      "  if await self.run_code(code, result, async_=asy):\n"
     ]
    },
    {
     "name": "stdout",
     "output_type": "stream",
     "text": [
      "train %:45.00, val %:5.00, cal %:25.00, test %:25.00\n"
     ]
    }
   ],
   "source": [
    "df_cleaned = loadFile(processed_data_path, 'df_cleaned.csv')\n",
    "df_sf = loadFile(processed_data_path, 'processed_df.csv')\n",
    "features = loadFile(processed_data_path, 'features.pkl')\n",
    "test_idxs_original = loadFile(processed_data_path, '/test_idxs.npy')\n",
    "cal_idxs, test_idxs = getTrainTestIdx(df=df_sf.iloc[test_idxs_original].copy(), train_size=0.5)\n",
    "\n",
    "# ensure that cal and test idxs are absolute w.r.t dataframe\n",
    "assert len(np.intersect1d(cal_idxs, test_idxs_original))==len(cal_idxs)\n",
    "assert len(np.intersect1d(test_idxs, test_idxs_original))==len(test_idxs)\n",
    "\n",
    "train_idxs = loadFile(processed_data_path, '/train_idxs.npy')\n",
    "val_idxs = loadFile(processed_data_path, '/val_idxs.npy')\n",
    "tr=len(train_idxs)\n",
    "v=len(val_idxs)\n",
    "t=len(test_idxs)\n",
    "cal=len(cal_idxs)\n",
    "assert (tr+v+cal+t)==len(df_sf)\n",
    "assert len(np.intersect1d(train_idxs, val_idxs))==0\n",
    "assert len(np.intersect1d(test_idxs, val_idxs))==0\n",
    "assert len(np.intersect1d(train_idxs, test_idxs))==0\n",
    "assert len(np.intersect1d(train_idxs, cal_idxs))==0\n",
    "assert len(np.intersect1d(test_idxs, cal_idxs))==0\n",
    "assert len(np.intersect1d(val_idxs, cal_idxs))==0\n",
    "print(f\"train %:{tr*100/(tr+v+cal+t):.2f}, val %:{v*100/(tr+v+cal+t):.2f}, cal %:{cal*100/(tr+v+cal+t):.2f}, test %:{t*100/(tr+v+cal+t):.2f}\")"
   ]
  },
  {
   "cell_type": "code",
   "execution_count": null,
   "id": "826c2d03",
   "metadata": {},
   "outputs": [],
   "source": []
  },
  {
   "cell_type": "code",
   "execution_count": 9,
   "id": "8d9260ab",
   "metadata": {},
   "outputs": [],
   "source": [
    "#load features and df_sf\n",
    "cal_X = np.array(df_sf.iloc[cal_idxs][features].reset_index(drop=True))\n",
    "cal_X=cal_X.astype(float)\n",
    "test_X = np.array(df_sf.iloc[test_idxs][features].reset_index(drop=True))\n",
    "assert ~pd.isna(df_sf.iloc[test_idxs][features].reset_index(drop=True)).isnull().values.any()\n",
    "test_X=test_X.astype(float)\n",
    "\n",
    "test_X_D_given_T = np.array(df_sf.iloc[test_idxs].loc[df_sf['T']==1][features].reset_index(drop=True).astype(float))\n",
    "test_y_T = df_sf.iloc[test_idxs]['T'].values.astype(int)\n",
    "test_y_D_given_T = df_sf.iloc[test_idxs].loc[df_sf['T']==1]['D'].values.astype(int)\n",
    "test_y_D_and_T = df_sf.iloc[test_idxs]['D_and_T'].values.astype(int)\n",
    "\n",
    "assert ~pd.isna(df_sf.iloc[cal_idxs][features].reset_index(drop=True)).isnull().values.any()\n",
    "cal_y_T = df_sf.iloc[cal_idxs]['T'].values.astype(int)"
   ]
  },
  {
   "cell_type": "code",
   "execution_count": 10,
   "id": "9898931c",
   "metadata": {},
   "outputs": [],
   "source": [
    "# load the best params as pickle if they exist , if not use the default settings\n",
    "random_state=0\n",
    "bst_params_T_LR={'random_state': random_state, \n",
    "              'solver': 'liblinear', \n",
    "              'penalty':  'l1',\n",
    "                }\n",
    "bst_params_T_LGBM={'random_state': random_state, \n",
    "                  }\n",
    "LR_T = LogisticRegression(**bst_params_T_LR)\n",
    "LGBM_T = LGBMClassifier(**bst_params_T_LGBM)\n",
    "\n",
    "bst_params_D_given_T_LR = {'random_state': random_state, \n",
    "                      'solver': 'liblinear', \n",
    "                      'penalty':  'l1',\n",
    "                       }\n",
    "# bst_params_D_given_T_LGBM={'random_state': random_state, \n",
    "#                   }\n",
    "bst_params_D_given_T_LGBM = {'bagging_fraction': 0.7892603819633417, 'feature_fraction': 0.5283564886587215, \n",
    "             'max_depth': 5, 'min_child_samples': 30, 'max_bin':63, 'num_leaves':15,\n",
    "                            'min_data_in_leaf':100}\n",
    "LR_D_given_T = LogisticRegression(**bst_params_D_given_T_LR)\n",
    "LR_D_given_T_ipw = LogisticRegression(**bst_params_D_given_T_LR)\n",
    "LGBM_D_given_T = LGBMClassifier(**bst_params_D_given_T_LGBM)\n",
    "LGBM_D_given_T_ipw = LGBMClassifier(**bst_params_D_given_T_LGBM)\n",
    "bst_params_D_and_T_LR = {'random_state': random_state, \n",
    "                      'solver': 'liblinear', \n",
    "                      'penalty':  'l1',\n",
    "                     }\n",
    "bst_params_D_and_T_LGBM={'random_state': random_state, \n",
    "                  }\n",
    "LR_D_and_T = LogisticRegression(**bst_params_D_and_T_LR)\n",
    "LGBM_D_and_T = LGBMClassifier(**bst_params_D_and_T_LGBM)"
   ]
  },
  {
   "cell_type": "code",
   "execution_count": 11,
   "id": "d518657e",
   "metadata": {},
   "outputs": [
    {
     "name": "stdout",
     "output_type": "stream",
     "text": [
      "/share/pierson/selective_labels_data/hirid_data_analysis/richras_dir/learning_from_doctor_and_patient/output_directory/stop_and_frisk/sigmoid\n"
     ]
    }
   ],
   "source": [
    "# calibrate_method='calibrate_by_bins'\n",
    "calibrate_method='sigmoid'\n",
    "#use calibration method in the path to save the model\n",
    "processed_data_path = osp.join(processed_data_path, calibrate_method)\n",
    "print(processed_data_path)\n",
    "from sklearn.model_selection import StratifiedKFold\n",
    "cv=StratifiedKFold(n_splits=5, random_state=None, shuffle=False)"
   ]
  },
  {
   "cell_type": "code",
   "execution_count": 12,
   "id": "e03b72f7",
   "metadata": {},
   "outputs": [],
   "source": [
    "#save new test_idxs\n",
    "saveFile(osp.join(processed_data_path,'after_cal'), test_idxs, '/test_idxs.npy')\n",
    "saveFile(osp.join(processed_data_path,'after_cal'), cal_idxs, '/cal_idxs.npy')\n",
    "saveFile(osp.join(processed_data_path,'after_cal'), test_X, '/test_X.npy')\n",
    "saveFile(osp.join(processed_data_path,'after_cal'), cal_X, '/cal_X.npy')\n",
    "saveFile(osp.join(processed_data_path,'after_cal'), test_y_T, '/test_y_T.npy')\n",
    "saveFile(osp.join(processed_data_path,'after_cal'), test_y_D_given_T, '/test_y_D_given_T.npy')\n",
    "saveFile(osp.join(processed_data_path,'after_cal'), test_y_D_and_T, '/test_y_D_and_T.npy')"
   ]
  },
  {
   "cell_type": "code",
   "execution_count": 14,
   "id": "c3769cfd",
   "metadata": {},
   "outputs": [
    {
     "name": "stdout",
     "output_type": "stream",
     "text": [
      "AUC score :predicting T using Logistic Regression: 0.818\n",
      "AUPR score :predicting T using Logistic Regression: 0.853\n",
      "AUC score :predicting D|T using Logistic Regression: 0.804\n",
      "AUPR score :predicting D|T using Logistic Regression: 0.251\n"
     ]
    }
   ],
   "source": [
    "model_descr=\"predicting T using Logistic Regression\"\n",
    "LR_T, test_proba_LR_T = trainEvalModel(LR_T, train_cross_val_X, train_cross_val_y_T.copy(), test_X.copy(),\n",
    "                                       test_y_T.copy(), \n",
    "                                       model_descr, calibrate=True, calibrate_method=calibrate_method)\n",
    "\n",
    "model_descr=\"predicting D|T using Logistic Regression\"\n",
    "LR_D_given_T, test_proba_LR_D_given_T = trainEvalModel(LR_D_given_T, train_cross_val_X_D_given_T.copy(), \n",
    "                    train_cross_val_y_D_given_T.copy(), test_X_D_given_T.copy(), test_y_D_given_T.copy(), model_descr, \n",
    "                                                       calibrate=True, calibrate_method=calibrate_method)\n"
   ]
  },
  {
   "cell_type": "code",
   "execution_count": 15,
   "id": "b4fa3741",
   "metadata": {},
   "outputs": [],
   "source": [
    "#save LR models\n",
    "saveFile(osp.join(processed_data_path,'predict_T'), LR_T, 'LR_T.pkl')\n",
    "saveFile(osp.join(processed_data_path,'predict_D_given_T'), LR_D_given_T, 'LR_D_given_T.pkl')"
   ]
  },
  {
   "cell_type": "code",
   "execution_count": 13,
   "id": "04384a91",
   "metadata": {},
   "outputs": [
    {
     "name": "stdout",
     "output_type": "stream",
     "text": [
      "AUC score :predicting T using LGBM: 0.833\n",
      "AUPR score :predicting T using LGBM: 0.866\n"
     ]
    }
   ],
   "source": [
    "model_descr=\"predicting T using LGBM\"\n",
    "LGBM_T, test_proba_LGBM_T = trainEvalModel(LGBM_T, train_cross_val_X.copy(), train_cross_val_y_T.copy(), \n",
    "                                           test_X.copy(), test_y_T.copy(), \n",
    "                                       model_descr, calibrate=True, calibrate_method=calibrate_method, cv=cv)\n"
   ]
  },
  {
   "cell_type": "code",
   "execution_count": 14,
   "id": "89da2cd5",
   "metadata": {},
   "outputs": [],
   "source": [
    "# save LGBM models\n",
    "saveFile(osp.join(processed_data_path,'predict_T'), LGBM_T, 'LGBM_T.pkl')"
   ]
  },
  {
   "cell_type": "code",
   "execution_count": 15,
   "id": "647f9904",
   "metadata": {},
   "outputs": [
    {
     "name": "stdout",
     "output_type": "stream",
     "text": [
      "[LightGBM] [Warning] bagging_fraction is set=0.7892603819633417, subsample=1.0 will be ignored. Current value: bagging_fraction=0.7892603819633417\n",
      "[LightGBM] [Warning] min_data_in_leaf is set=100, min_child_samples=30 will be ignored. Current value: min_data_in_leaf=100\n",
      "[LightGBM] [Warning] feature_fraction is set=0.5283564886587215, colsample_bytree=1.0 will be ignored. Current value: feature_fraction=0.5283564886587215\n",
      "[LightGBM] [Warning] bagging_fraction is set=0.7892603819633417, subsample=1.0 will be ignored. Current value: bagging_fraction=0.7892603819633417\n",
      "[LightGBM] [Warning] min_data_in_leaf is set=100, min_child_samples=30 will be ignored. Current value: min_data_in_leaf=100\n",
      "[LightGBM] [Warning] feature_fraction is set=0.5283564886587215, colsample_bytree=1.0 will be ignored. Current value: feature_fraction=0.5283564886587215\n",
      "[LightGBM] [Warning] bagging_fraction is set=0.7892603819633417, subsample=1.0 will be ignored. Current value: bagging_fraction=0.7892603819633417\n",
      "[LightGBM] [Warning] min_data_in_leaf is set=100, min_child_samples=30 will be ignored. Current value: min_data_in_leaf=100\n",
      "[LightGBM] [Warning] feature_fraction is set=0.5283564886587215, colsample_bytree=1.0 will be ignored. Current value: feature_fraction=0.5283564886587215\n",
      "[LightGBM] [Warning] bagging_fraction is set=0.7892603819633417, subsample=1.0 will be ignored. Current value: bagging_fraction=0.7892603819633417\n",
      "[LightGBM] [Warning] min_data_in_leaf is set=100, min_child_samples=30 will be ignored. Current value: min_data_in_leaf=100\n",
      "[LightGBM] [Warning] feature_fraction is set=0.5283564886587215, colsample_bytree=1.0 will be ignored. Current value: feature_fraction=0.5283564886587215\n",
      "[LightGBM] [Warning] bagging_fraction is set=0.7892603819633417, subsample=1.0 will be ignored. Current value: bagging_fraction=0.7892603819633417\n",
      "[LightGBM] [Warning] min_data_in_leaf is set=100, min_child_samples=30 will be ignored. Current value: min_data_in_leaf=100\n",
      "[LightGBM] [Warning] feature_fraction is set=0.5283564886587215, colsample_bytree=1.0 will be ignored. Current value: feature_fraction=0.5283564886587215\n",
      "AUC score :predicting D|T using LGBM: 0.822\n",
      "AUPR score :predicting D|T using LGBM: 0.278\n"
     ]
    }
   ],
   "source": [
    "model_descr=\"predicting D|T using LGBM\"\n",
    "LGBM_D_given_T, test_proba_LGBM_D_given_T = trainEvalModel(LGBM_D_given_T, train_cross_val_X_D_given_T.copy(), \n",
    "                    train_cross_val_y_D_given_T.copy(), test_X_D_given_T.copy(), test_y_D_given_T.copy(), model_descr,\n",
    "                    calibrate=True, calibrate_method=calibrate_method, cv=cv)"
   ]
  },
  {
   "cell_type": "code",
   "execution_count": 16,
   "id": "be480da8",
   "metadata": {},
   "outputs": [],
   "source": [
    "saveFile(osp.join(processed_data_path,'predict_D_given_T'), LGBM_D_given_T, 'LGBM_D_given_T.pkl')"
   ]
  },
  {
   "cell_type": "code",
   "execution_count": 20,
   "id": "00cb8f60",
   "metadata": {},
   "outputs": [
    {
     "name": "stdout",
     "output_type": "stream",
     "text": [
      "AUC score :predicting D,T using Logistic Regression: 0.846\n",
      "AUPR score :predicting D,T using Logistic Regression: 0.220\n"
     ]
    }
   ],
   "source": [
    "model_descr=\"predicting D,T using Logistic Regression\"\n",
    "LR_D_and_T, test_proba_LR_D_and_T = trainEvalModel(LR_D_and_T, train_cross_val_X.copy(), \n",
    "                    train_cross_val_y_D_and_T.copy(), test_X.copy(), test_y_D_and_T.copy(), model_descr, \n",
    "                                        calibrate=True, calibrate_method=calibrate_method)\n"
   ]
  },
  {
   "cell_type": "code",
   "execution_count": 21,
   "id": "2941eb03",
   "metadata": {},
   "outputs": [],
   "source": [
    "saveFile(osp.join(processed_data_path,'predict_D_and_T'), LR_D_and_T, 'LR_D_and_T.pkl')"
   ]
  },
  {
   "cell_type": "code",
   "execution_count": 17,
   "id": "5196d3d8",
   "metadata": {},
   "outputs": [
    {
     "name": "stdout",
     "output_type": "stream",
     "text": [
      "AUC score :predicting D,T using LGBM: 0.867\n",
      "AUPR score :predicting D,T using LGBM: 0.249\n"
     ]
    }
   ],
   "source": [
    "model_descr=\"predicting D,T using LGBM\"\n",
    "LGBM_D_and_T, test_proba_LGBM_D_and_T = trainEvalModel(LGBM_D_and_T, train_cross_val_X.copy(), \n",
    "                    train_cross_val_y_D_and_T.copy(), test_X.copy(), test_y_D_and_T.copy(), model_descr, \n",
    "                                                       calibrate=True, calibrate_method=calibrate_method)"
   ]
  },
  {
   "cell_type": "code",
   "execution_count": 18,
   "id": "2265af83",
   "metadata": {},
   "outputs": [],
   "source": [
    "saveFile(osp.join(processed_data_path,'predict_D_and_T'), LGBM_D_and_T, 'LGBM_D_and_T.pkl')"
   ]
  },
  {
   "cell_type": "code",
   "execution_count": 24,
   "id": "8bc35165",
   "metadata": {
    "scrolled": true
   },
   "outputs": [
    {
     "name": "stdout",
     "output_type": "stream",
     "text": [
      "calibrating by bins using cal data\n",
      "val max:27664, val min:27663\n",
      " number of bins in test :20\n",
      "calibrated_preds\n",
      "0.126952    0.125737\n",
      "0.178824    0.173446\n",
      "0.215812    0.218821\n",
      "0.262580    0.255341\n",
      "0.293388    0.301040\n",
      "0.339286    0.339453\n",
      "0.379713    0.381402\n",
      "0.427089    0.428748\n",
      "0.472942    0.474189\n",
      "0.521544    0.525199\n",
      "0.578535    0.575320\n",
      "0.643219    0.642154\n",
      "0.704624    0.701740\n",
      "0.771508    0.767148\n",
      "0.820157    0.823775\n",
      "0.856962    0.859911\n",
      "0.879117    0.882906\n",
      "0.907136    0.908229\n",
      "0.930232    0.931237\n",
      "0.960671    0.961938\n",
      "Name: ground_truth, dtype: float64\n",
      "AUC score :predicting D|T_IPW using Logistic Regression: 0.804\n",
      "AUPR score :predicting D|T_IPW using Logistic Regression: 0.250\n"
     ]
    },
    {
     "data": {
      "image/png": "[encoded data removed]",
      "text/plain": [
       "<Figure size 720x720 with 2 Axes>"
      ]
     },
     "metadata": {
      "needs_background": "light"
     },
     "output_type": "display_data"
    },
    {
     "data": {
      "image/png": "[encoded data removed]",
      "text/plain": [
       "<Figure size 288x288 with 1 Axes>"
      ]
     },
     "metadata": {
      "needs_background": "light"
     },
     "output_type": "display_data"
    },
    {
     "data": {
      "image/png": "[encoded data removed]",
      "text/plain": [
       "<Figure size 432x288 with 1 Axes>"
      ]
     },
     "metadata": {
      "needs_background": "light"
     },
     "output_type": "display_data"
    }
   ],
   "source": [
    "model_descr=\"predicting D|T_IPW using Logistic Regression\"\n",
    "train_X_D_given_T_probs_LR, train_cross_val_X_ipw = getClippedProbs(LR_T, \n",
    "                    train_cross_val_X.copy(), train_cross_val_y_T.copy(), cal_X=cal_X, cal_y_T=cal_y_T)\n",
    "np.testing.assert_array_equal(train_cross_val_X_ipw, train_cross_val_X_D_given_T)\n",
    "LR_D_given_T_ipw, test_proba_LR_D_given_T_ipw = trainEvalModel(LR_D_given_T_ipw, train_cross_val_X_ipw.copy(), \n",
    "                    train_cross_val_y_D_given_T.copy(), test_X_D_given_T.copy(),\n",
    "                    test_y_D_given_T.copy(), model_descr,\n",
    "                    calibrate=False, calibrate_method=calibrate_method, \n",
    "                    sample_weight=1/train_X_D_given_T_probs_LR.copy())"
   ]
  },
  {
   "cell_type": "code",
   "execution_count": 25,
   "id": "ffdd4e24",
   "metadata": {},
   "outputs": [],
   "source": [
    "saveFile(osp.join(processed_data_path,'predict_D_given_T_ipw'), LR_D_given_T_ipw, 'LR_D_given_T_ipw.pkl')"
   ]
  },
  {
   "cell_type": "code",
   "execution_count": 19,
   "id": "af191818",
   "metadata": {
    "scrolled": true
   },
   "outputs": [
    {
     "name": "stdout",
     "output_type": "stream",
     "text": [
      "calibrating by bins using cal data\n",
      "val max:27664, val min:27663\n",
      " number of bins in test :20\n",
      "calibrated_preds\n",
      "0.092105    0.087270\n",
      "0.156593    0.155737\n",
      "0.199400    0.195919\n",
      "0.245807    0.246350\n",
      "0.293208    0.291514\n",
      "0.331405    0.333225\n",
      "0.373712    0.376261\n",
      "0.421342    0.419078\n",
      "0.468026    0.468351\n",
      "0.519412    0.526485\n",
      "0.586524    0.586964\n",
      "0.650051    0.644670\n",
      "0.709504    0.712139\n",
      "0.781087    0.779061\n",
      "0.832122    0.832519\n",
      "0.870120    0.869907\n",
      "0.899252    0.903366\n",
      "0.923294    0.928285\n",
      "0.947945    0.949016\n",
      "0.969383    0.970608\n",
      "Name: ground_truth, dtype: float64\n",
      "[LightGBM] [Warning] bagging_fraction is set=0.7892603819633417, subsample=1.0 will be ignored. Current value: bagging_fraction=0.7892603819633417\n",
      "[LightGBM] [Warning] min_data_in_leaf is set=100, min_child_samples=30 will be ignored. Current value: min_data_in_leaf=100\n",
      "[LightGBM] [Warning] feature_fraction is set=0.5283564886587215, colsample_bytree=1.0 will be ignored. Current value: feature_fraction=0.5283564886587215\n",
      "[LightGBM] [Warning] bagging_fraction is set=0.7892603819633417, subsample=1.0 will be ignored. Current value: bagging_fraction=0.7892603819633417\n",
      "[LightGBM] [Warning] min_data_in_leaf is set=100, min_child_samples=30 will be ignored. Current value: min_data_in_leaf=100\n",
      "[LightGBM] [Warning] feature_fraction is set=0.5283564886587215, colsample_bytree=1.0 will be ignored. Current value: feature_fraction=0.5283564886587215\n",
      "[LightGBM] [Warning] bagging_fraction is set=0.7892603819633417, subsample=1.0 will be ignored. Current value: bagging_fraction=0.7892603819633417\n",
      "[LightGBM] [Warning] min_data_in_leaf is set=100, min_child_samples=30 will be ignored. Current value: min_data_in_leaf=100\n",
      "[LightGBM] [Warning] feature_fraction is set=0.5283564886587215, colsample_bytree=1.0 will be ignored. Current value: feature_fraction=0.5283564886587215\n",
      "[LightGBM] [Warning] bagging_fraction is set=0.7892603819633417, subsample=1.0 will be ignored. Current value: bagging_fraction=0.7892603819633417\n",
      "[LightGBM] [Warning] min_data_in_leaf is set=100, min_child_samples=30 will be ignored. Current value: min_data_in_leaf=100\n",
      "[LightGBM] [Warning] feature_fraction is set=0.5283564886587215, colsample_bytree=1.0 will be ignored. Current value: feature_fraction=0.5283564886587215\n",
      "[LightGBM] [Warning] bagging_fraction is set=0.7892603819633417, subsample=1.0 will be ignored. Current value: bagging_fraction=0.7892603819633417\n",
      "[LightGBM] [Warning] min_data_in_leaf is set=100, min_child_samples=30 will be ignored. Current value: min_data_in_leaf=100\n",
      "[LightGBM] [Warning] feature_fraction is set=0.5283564886587215, colsample_bytree=1.0 will be ignored. Current value: feature_fraction=0.5283564886587215\n",
      "AUC score :predicting D|T_IPW using LGBM: 0.821\n",
      "AUPR score :predicting D|T_IPW using LGBM: 0.272\n"
     ]
    },
    {
     "data": {
      "image/png": "[encoded data removed]",
      "text/plain": [
       "<Figure size 720x720 with 2 Axes>"
      ]
     },
     "metadata": {
      "needs_background": "light"
     },
     "output_type": "display_data"
    },
    {
     "data": {
      "image/png": "[encoded data removed]",
      "text/plain": [
       "<Figure size 288x288 with 1 Axes>"
      ]
     },
     "metadata": {
      "needs_background": "light"
     },
     "output_type": "display_data"
    },
    {
     "data": {
      "image/png": "[encoded data removed]",
      "text/plain": [
       "<Figure size 432x288 with 1 Axes>"
      ]
     },
     "metadata": {
      "needs_background": "light"
     },
     "output_type": "display_data"
    }
   ],
   "source": [
    "model_descr=\"predicting D|T_IPW using LGBM\"\n",
    "train_X_D_given_T_probs_LGBM, train_cross_val_X_ipw = getClippedProbs(LGBM_T, \n",
    "                    train_cross_val_X.copy(), train_cross_val_y_T.copy(), cal_X=cal_X, cal_y_T=cal_y_T)\n",
    "np.testing.assert_array_equal(train_cross_val_X_ipw, train_cross_val_X_D_given_T)\n",
    "LGBM_D_given_T_ipw, test_proba_LGBM_D_given_T_ipw = trainEvalModel(LGBM_D_given_T_ipw, train_cross_val_X_ipw.copy(), \n",
    "                    train_cross_val_y_D_given_T.copy(), test_X_D_given_T.copy(),\n",
    "                    test_y_D_given_T.copy(), model_descr,\n",
    "                    calibrate=True, calibrate_method=calibrate_method,\n",
    "                    sample_weight=1/train_X_D_given_T_probs_LGBM.copy())"
   ]
  },
  {
   "cell_type": "code",
   "execution_count": 20,
   "id": "f3646f37",
   "metadata": {},
   "outputs": [],
   "source": [
    "saveFile(osp.join(processed_data_path,'predict_D_given_T_ipw'), LGBM_D_given_T_ipw, 'LGBM_D_given_T_ipw.pkl')"
   ]
  },
  {
   "cell_type": "code",
   "execution_count": 21,
   "id": "e249c263",
   "metadata": {},
   "outputs": [],
   "source": [
    "random_state=0\n",
    "bst_params_D_pseudo_LR = bst_params_D_given_T_LR\n",
    "bst_params_D_pseudo_LGBM = bst_params_D_given_T_LGBM\n",
    "LR_D_pseudo = LogisticRegression(**bst_params_D_pseudo_LR)\n",
    "LGBM_D_pseudo = LGBMClassifier(**bst_params_D_pseudo_LGBM)"
   ]
  },
  {
   "cell_type": "code",
   "execution_count": 29,
   "id": "aa499381",
   "metadata": {},
   "outputs": [
    {
     "name": "stdout",
     "output_type": "stream",
     "text": [
      "AUC score :Logistic Regression with hard pseudo labels: 0.801\n",
      "AUPR score :Logistic Regression with hard pseudo labels: 0.252\n"
     ]
    }
   ],
   "source": [
    "#predict the outcomes\n",
    "#should be using copy and deepcopy ?\n",
    "\n",
    "#assert that the pseudo labels are only binary in nature and not probs\n",
    "train_cross_val_idxs=np.concatenate((train_idxs, val_idxs))\n",
    "LR_D_pseudo, test_probs_D_pseudo_LR = trainHardPseudo(deepcopy(LR_D_given_T), df_cleaned.copy(), train_idxs.copy(), \n",
    "                                                      val_idxs.copy(),\n",
    "                        train_X.copy(), val_X.copy(), deepcopy(LR_D_given_T), test_X_D_given_T.copy(),\n",
    "                                                      test_y_D_given_T.copy(), \n",
    "                        model_descr=\"Logistic Regression with hard pseudo labels\", \n",
    "                                                      calibrate=False, calibrate_method=calibrate_method)"
   ]
  },
  {
   "cell_type": "code",
   "execution_count": 30,
   "id": "b9b22fcd",
   "metadata": {},
   "outputs": [],
   "source": [
    "#save LR models\n",
    "saveFile(osp.join(processed_data_path,'predict_D_pseudo'), LR_D_pseudo, 'LR_D_pseudo.pkl')"
   ]
  },
  {
   "cell_type": "code",
   "execution_count": 22,
   "id": "e209236e",
   "metadata": {
    "scrolled": true
   },
   "outputs": [
    {
     "name": "stdout",
     "output_type": "stream",
     "text": [
      "Finished loading model, total used 100 iterations\n",
      "Finished loading model, total used 100 iterations\n",
      "Finished loading model, total used 100 iterations\n",
      "Finished loading model, total used 100 iterations\n",
      "Finished loading model, total used 100 iterations\n",
      "Finished loading model, total used 100 iterations\n",
      "Finished loading model, total used 100 iterations\n",
      "Finished loading model, total used 100 iterations\n",
      "Finished loading model, total used 100 iterations\n",
      "Finished loading model, total used 100 iterations\n",
      "[LightGBM] [Warning] bagging_fraction is set=0.7892603819633417, subsample=1.0 will be ignored. Current value: bagging_fraction=0.7892603819633417\n",
      "[LightGBM] [Warning] min_data_in_leaf is set=100, min_child_samples=30 will be ignored. Current value: min_data_in_leaf=100\n",
      "[LightGBM] [Warning] feature_fraction is set=0.5283564886587215, colsample_bytree=1.0 will be ignored. Current value: feature_fraction=0.5283564886587215\n",
      "[LightGBM] [Warning] bagging_fraction is set=0.7892603819633417, subsample=1.0 will be ignored. Current value: bagging_fraction=0.7892603819633417\n",
      "[LightGBM] [Warning] min_data_in_leaf is set=100, min_child_samples=30 will be ignored. Current value: min_data_in_leaf=100\n",
      "[LightGBM] [Warning] feature_fraction is set=0.5283564886587215, colsample_bytree=1.0 will be ignored. Current value: feature_fraction=0.5283564886587215\n",
      "[LightGBM] [Warning] bagging_fraction is set=0.7892603819633417, subsample=1.0 will be ignored. Current value: bagging_fraction=0.7892603819633417\n",
      "[LightGBM] [Warning] min_data_in_leaf is set=100, min_child_samples=30 will be ignored. Current value: min_data_in_leaf=100\n",
      "[LightGBM] [Warning] feature_fraction is set=0.5283564886587215, colsample_bytree=1.0 will be ignored. Current value: feature_fraction=0.5283564886587215\n",
      "[LightGBM] [Warning] bagging_fraction is set=0.7892603819633417, subsample=1.0 will be ignored. Current value: bagging_fraction=0.7892603819633417\n",
      "[LightGBM] [Warning] min_data_in_leaf is set=100, min_child_samples=30 will be ignored. Current value: min_data_in_leaf=100\n",
      "[LightGBM] [Warning] feature_fraction is set=0.5283564886587215, colsample_bytree=1.0 will be ignored. Current value: feature_fraction=0.5283564886587215\n",
      "[LightGBM] [Warning] bagging_fraction is set=0.7892603819633417, subsample=1.0 will be ignored. Current value: bagging_fraction=0.7892603819633417\n",
      "[LightGBM] [Warning] min_data_in_leaf is set=100, min_child_samples=30 will be ignored. Current value: min_data_in_leaf=100\n",
      "[LightGBM] [Warning] feature_fraction is set=0.5283564886587215, colsample_bytree=1.0 will be ignored. Current value: feature_fraction=0.5283564886587215\n",
      "[LightGBM] [Warning] bagging_fraction is set=0.7892603819633417, subsample=1.0 will be ignored. Current value: bagging_fraction=0.7892603819633417\n",
      "[LightGBM] [Warning] min_data_in_leaf is set=100, min_child_samples=30 will be ignored. Current value: min_data_in_leaf=100\n",
      "[LightGBM] [Warning] feature_fraction is set=0.5283564886587215, colsample_bytree=1.0 will be ignored. Current value: feature_fraction=0.5283564886587215\n",
      "[LightGBM] [Warning] bagging_fraction is set=0.7892603819633417, subsample=1.0 will be ignored. Current value: bagging_fraction=0.7892603819633417\n",
      "[LightGBM] [Warning] min_data_in_leaf is set=100, min_child_samples=30 will be ignored. Current value: min_data_in_leaf=100\n",
      "[LightGBM] [Warning] feature_fraction is set=0.5283564886587215, colsample_bytree=1.0 will be ignored. Current value: feature_fraction=0.5283564886587215\n",
      "[LightGBM] [Warning] bagging_fraction is set=0.7892603819633417, subsample=1.0 will be ignored. Current value: bagging_fraction=0.7892603819633417\n",
      "[LightGBM] [Warning] min_data_in_leaf is set=100, min_child_samples=30 will be ignored. Current value: min_data_in_leaf=100\n",
      "[LightGBM] [Warning] feature_fraction is set=0.5283564886587215, colsample_bytree=1.0 will be ignored. Current value: feature_fraction=0.5283564886587215\n",
      "[LightGBM] [Warning] bagging_fraction is set=0.7892603819633417, subsample=1.0 will be ignored. Current value: bagging_fraction=0.7892603819633417\n",
      "[LightGBM] [Warning] min_data_in_leaf is set=100, min_child_samples=30 will be ignored. Current value: min_data_in_leaf=100\n",
      "[LightGBM] [Warning] feature_fraction is set=0.5283564886587215, colsample_bytree=1.0 will be ignored. Current value: feature_fraction=0.5283564886587215\n",
      "[LightGBM] [Warning] bagging_fraction is set=0.7892603819633417, subsample=1.0 will be ignored. Current value: bagging_fraction=0.7892603819633417\n",
      "[LightGBM] [Warning] min_data_in_leaf is set=100, min_child_samples=30 will be ignored. Current value: min_data_in_leaf=100\n",
      "[LightGBM] [Warning] feature_fraction is set=0.5283564886587215, colsample_bytree=1.0 will be ignored. Current value: feature_fraction=0.5283564886587215\n",
      "[LightGBM] [Warning] bagging_fraction is set=0.7892603819633417, subsample=1.0 will be ignored. Current value: bagging_fraction=0.7892603819633417\n",
      "[LightGBM] [Warning] min_data_in_leaf is set=100, min_child_samples=30 will be ignored. Current value: min_data_in_leaf=100\n",
      "[LightGBM] [Warning] feature_fraction is set=0.5283564886587215, colsample_bytree=1.0 will be ignored. Current value: feature_fraction=0.5283564886587215\n",
      "[LightGBM] [Warning] bagging_fraction is set=0.7892603819633417, subsample=1.0 will be ignored. Current value: bagging_fraction=0.7892603819633417\n",
      "[LightGBM] [Warning] min_data_in_leaf is set=100, min_child_samples=30 will be ignored. Current value: min_data_in_leaf=100\n",
      "[LightGBM] [Warning] feature_fraction is set=0.5283564886587215, colsample_bytree=1.0 will be ignored. Current value: feature_fraction=0.5283564886587215\n",
      "[LightGBM] [Warning] bagging_fraction is set=0.7892603819633417, subsample=1.0 will be ignored. Current value: bagging_fraction=0.7892603819633417\n",
      "[LightGBM] [Warning] min_data_in_leaf is set=100, min_child_samples=30 will be ignored. Current value: min_data_in_leaf=100\n",
      "[LightGBM] [Warning] feature_fraction is set=0.5283564886587215, colsample_bytree=1.0 will be ignored. Current value: feature_fraction=0.5283564886587215\n",
      "[LightGBM] [Warning] bagging_fraction is set=0.7892603819633417, subsample=1.0 will be ignored. Current value: bagging_fraction=0.7892603819633417\n",
      "[LightGBM] [Warning] min_data_in_leaf is set=100, min_child_samples=30 will be ignored. Current value: min_data_in_leaf=100\n",
      "[LightGBM] [Warning] feature_fraction is set=0.5283564886587215, colsample_bytree=1.0 will be ignored. Current value: feature_fraction=0.5283564886587215\n",
      "[LightGBM] [Warning] bagging_fraction is set=0.7892603819633417, subsample=1.0 will be ignored. Current value: bagging_fraction=0.7892603819633417\n",
      "[LightGBM] [Warning] min_data_in_leaf is set=100, min_child_samples=30 will be ignored. Current value: min_data_in_leaf=100\n",
      "[LightGBM] [Warning] feature_fraction is set=0.5283564886587215, colsample_bytree=1.0 will be ignored. Current value: feature_fraction=0.5283564886587215\n",
      "[LightGBM] [Warning] bagging_fraction is set=0.7892603819633417, subsample=1.0 will be ignored. Current value: bagging_fraction=0.7892603819633417\n",
      "[LightGBM] [Warning] min_data_in_leaf is set=100, min_child_samples=30 will be ignored. Current value: min_data_in_leaf=100\n",
      "[LightGBM] [Warning] feature_fraction is set=0.5283564886587215, colsample_bytree=1.0 will be ignored. Current value: feature_fraction=0.5283564886587215\n",
      "[LightGBM] [Warning] bagging_fraction is set=0.7892603819633417, subsample=1.0 will be ignored. Current value: bagging_fraction=0.7892603819633417\n",
      "[LightGBM] [Warning] min_data_in_leaf is set=100, min_child_samples=30 will be ignored. Current value: min_data_in_leaf=100\n",
      "[LightGBM] [Warning] feature_fraction is set=0.5283564886587215, colsample_bytree=1.0 will be ignored. Current value: feature_fraction=0.5283564886587215\n",
      "[LightGBM] [Warning] bagging_fraction is set=0.7892603819633417, subsample=1.0 will be ignored. Current value: bagging_fraction=0.7892603819633417\n",
      "[LightGBM] [Warning] min_data_in_leaf is set=100, min_child_samples=30 will be ignored. Current value: min_data_in_leaf=100\n",
      "[LightGBM] [Warning] feature_fraction is set=0.5283564886587215, colsample_bytree=1.0 will be ignored. Current value: feature_fraction=0.5283564886587215\n",
      "[LightGBM] [Warning] bagging_fraction is set=0.7892603819633417, subsample=1.0 will be ignored. Current value: bagging_fraction=0.7892603819633417\n",
      "[LightGBM] [Warning] min_data_in_leaf is set=100, min_child_samples=30 will be ignored. Current value: min_data_in_leaf=100\n",
      "[LightGBM] [Warning] feature_fraction is set=0.5283564886587215, colsample_bytree=1.0 will be ignored. Current value: feature_fraction=0.5283564886587215\n"
     ]
    },
    {
     "name": "stdout",
     "output_type": "stream",
     "text": [
      "[LightGBM] [Warning] bagging_fraction is set=0.7892603819633417, subsample=1.0 will be ignored. Current value: bagging_fraction=0.7892603819633417\n",
      "[LightGBM] [Warning] min_data_in_leaf is set=100, min_child_samples=30 will be ignored. Current value: min_data_in_leaf=100\n",
      "[LightGBM] [Warning] feature_fraction is set=0.5283564886587215, colsample_bytree=1.0 will be ignored. Current value: feature_fraction=0.5283564886587215\n",
      "[LightGBM] [Warning] bagging_fraction is set=0.7892603819633417, subsample=1.0 will be ignored. Current value: bagging_fraction=0.7892603819633417\n",
      "[LightGBM] [Warning] min_data_in_leaf is set=100, min_child_samples=30 will be ignored. Current value: min_data_in_leaf=100\n",
      "[LightGBM] [Warning] feature_fraction is set=0.5283564886587215, colsample_bytree=1.0 will be ignored. Current value: feature_fraction=0.5283564886587215\n",
      "[LightGBM] [Warning] bagging_fraction is set=0.7892603819633417, subsample=1.0 will be ignored. Current value: bagging_fraction=0.7892603819633417\n",
      "[LightGBM] [Warning] min_data_in_leaf is set=100, min_child_samples=30 will be ignored. Current value: min_data_in_leaf=100\n",
      "[LightGBM] [Warning] feature_fraction is set=0.5283564886587215, colsample_bytree=1.0 will be ignored. Current value: feature_fraction=0.5283564886587215\n",
      "[LightGBM] [Warning] bagging_fraction is set=0.7892603819633417, subsample=1.0 will be ignored. Current value: bagging_fraction=0.7892603819633417\n",
      "[LightGBM] [Warning] min_data_in_leaf is set=100, min_child_samples=30 will be ignored. Current value: min_data_in_leaf=100\n",
      "[LightGBM] [Warning] feature_fraction is set=0.5283564886587215, colsample_bytree=1.0 will be ignored. Current value: feature_fraction=0.5283564886587215\n",
      "[LightGBM] [Warning] bagging_fraction is set=0.7892603819633417, subsample=1.0 will be ignored. Current value: bagging_fraction=0.7892603819633417\n",
      "[LightGBM] [Warning] min_data_in_leaf is set=100, min_child_samples=30 will be ignored. Current value: min_data_in_leaf=100\n",
      "[LightGBM] [Warning] feature_fraction is set=0.5283564886587215, colsample_bytree=1.0 will be ignored. Current value: feature_fraction=0.5283564886587215\n",
      "[LightGBM] [Warning] bagging_fraction is set=0.7892603819633417, subsample=1.0 will be ignored. Current value: bagging_fraction=0.7892603819633417\n",
      "[LightGBM] [Warning] min_data_in_leaf is set=100, min_child_samples=30 will be ignored. Current value: min_data_in_leaf=100\n",
      "[LightGBM] [Warning] feature_fraction is set=0.5283564886587215, colsample_bytree=1.0 will be ignored. Current value: feature_fraction=0.5283564886587215\n",
      "AUC score :LGBM with hard pseudo labels: 0.816\n",
      "AUPR score :LGBM with hard pseudo labels: 0.273\n"
     ]
    }
   ],
   "source": [
    "LGBM_D_pseudo, test_probs_D_pseudo_LGBM = trainHardPseudo(deepcopy(LGBM_D_given_T), df_cleaned.copy(), \n",
    "                        train_idxs.copy(), val_idxs.copy(), train_X.copy(), val_X.copy(),\n",
    "                        deepcopy(LGBM_D_given_T), test_X_D_given_T.copy(),test_y_D_given_T.copy(), \n",
    "                        model_descr=\"LGBM with hard pseudo labels\", \n",
    "                        calibrate=True, calibrate_method=calibrate_method)"
   ]
  },
  {
   "cell_type": "code",
   "execution_count": 23,
   "id": "2a420c67",
   "metadata": {},
   "outputs": [],
   "source": [
    "# save LGBM models\n",
    "saveFile(osp.join(processed_data_path,'predict_D_pseudo'), LGBM_D_pseudo, 'LGBM_D_pseudo.pkl')"
   ]
  },
  {
   "cell_type": "code",
   "execution_count": null,
   "id": "37735f24",
   "metadata": {},
   "outputs": [],
   "source": [
    "\n"
   ]
  },
  {
   "cell_type": "code",
   "execution_count": null,
   "id": "1581bf23",
   "metadata": {},
   "outputs": [],
   "source": []
  },
  {
   "cell_type": "code",
   "execution_count": null,
   "id": "0ebe7923",
   "metadata": {},
   "outputs": [],
   "source": []
  }
 ],
 "metadata": {
  "kernelspec": {
   "display_name": "icu-benchmark",
   "language": "python",
   "name": "icu-benchmark"
  },
  "language_info": {
   "codemirror_mode": {
    "name": "ipython",
    "version": 3
   },
   "file_extension": ".py",
   "mimetype": "text/x-python",
   "name": "python",
   "nbconvert_exporter": "python",
   "pygments_lexer": "ipython3",
   "version": "3.8.8"
  }
 },
 "nbformat": 4,
 "nbformat_minor": 5
}
