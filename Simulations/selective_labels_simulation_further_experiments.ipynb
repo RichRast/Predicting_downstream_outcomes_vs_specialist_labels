{
 "cells": [
  {
   "cell_type": "code",
   "execution_count": null,
   "id": "752a293e",
   "metadata": {},
   "outputs": [],
   "source": [
    "%load_ext autoreload\n",
    "%autoreload 2\n",
    "\n",
    "from simulation_code import *\n",
    "\n",
    "pd.set_option('display.max_rows', 500)\n",
    "np.random.seed(42)\n"
   ]
  },
  {
   "cell_type": "markdown",
   "id": "361551f2",
   "metadata": {},
   "source": [
    "# basic illustration of how simulated data works"
   ]
  },
  {
   "cell_type": "code",
   "execution_count": null,
   "id": "0d725347",
   "metadata": {},
   "outputs": [],
   "source": [
    "params = {'beta_XT':[0, 1, 0.4], \n",
    "          'beta_XD1':[-0.01, -2, -0.01], \n",
    "          'beta_D0':None,\n",
    "          'intercept_D0':-0.1,\n",
    "         'N':100000}\n",
    "\n",
    "ground_truth = generate_simulated_data_without_using_Z(**params)\n",
    "estimators = fit_estimators(X=ground_truth['X'], \n",
    "               T=ground_truth['T'], \n",
    "               D=ground_truth['D'])\n",
    "print(estimators.agg(['mean', 'std']))\n",
    "\n",
    "estimators['ground truth p(D=1|X)'] = ground_truth['ground truth p(D=1|X)']\n",
    "estimators.corr(method='pearson')\n",
    "        \n",
    "    "
   ]
  },
  {
   "cell_type": "markdown",
   "id": "469a543f",
   "metadata": {},
   "source": [
    "# demonstrate that, across random draws of coefficients and large data, p(D=1|T=1, X) generally outperforms p(T=1|X)"
   ]
  },
  {
   "cell_type": "code",
   "execution_count": null,
   "id": "0d4a0a1a",
   "metadata": {},
   "outputs": [],
   "source": [
    "# run a lot of trials with random parameters. \n",
    "all_results = []\n",
    "for i in tqdm(range(5000)):\n",
    "    M = 3\n",
    "    params = {\"beta_XT\":np.random.randn(M,), # M-dimensional data. \n",
    "              \"beta_XD1\":np.random.randn(M,), \n",
    "              \"intercept_D0\":np.random.random() * -0.1,\n",
    "              \"beta_D0\":np.random.randn(M,),\n",
    "              'N':10000, \n",
    "              'make_plot':False}\n",
    "    all_results.append({'params':params, 'results':fit_param_set_and_print_results(params, verbose=False)})\n",
    "all_results = pd.DataFrame(all_results) # compiled dataframe of trials, each row is one trial. \n",
    "print(\"Across all trials, comparing estimator p_hat_D to p_hat_T\")\n",
    "all_results['difference_in_correlations'] = all_results['results'].map(difference_in_correlations)\n",
    "all_results['D_better_correlated'] = all_results['results'].map(D_better_correlated)\n",
    "print(all_results[['difference_in_correlations', 'D_better_correlated']].mean())"
   ]
  },
  {
   "cell_type": "code",
   "execution_count": null,
   "id": "ed02ae70",
   "metadata": {},
   "outputs": [],
   "source": [
    "\n",
    "plt.figure(figsize=[4, 4])\n",
    "plt.hist(all_results['results'].map(lambda x:x['pearson_corr']['p(D=1|X)']['p_hat(T=1|X)']),\n",
    "         bins=np.linspace(-1, 1, 20), alpha=0.8, label='$\\hat p_T$')\n",
    "plt.hist(all_results['results'].map(lambda x:x['pearson_corr']['p(D=1|X)']['p_hat(D=1|T=1, X)']),\n",
    "         bins=np.linspace(-1, 1, 20), alpha=0.5, label=r'$\\hat p_{Y_{T=1}}$')\n",
    "plt.legend(fontsize=14)\n",
    "plt.xlim([-1, 1])\n",
    "plt.xlabel(\"Correlation with $p_Y$\", fontsize=14)\n",
    "plt.ylabel(\"Number of simulations\", fontsize=14)\n",
    "plt.tight_layout()\n",
    "plt.savefig('p_D_better_correlated_across_simulations.pdf')\n"
   ]
  },
  {
   "cell_type": "markdown",
   "id": "8455fc29",
   "metadata": {},
   "source": [
    "# exceptions to p(D=1|T=1, X) being better. (This are just single examples - we do the more systematic simulation further down). "
   ]
  },
  {
   "cell_type": "markdown",
   "id": "f5ec0507",
   "metadata": {},
   "source": [
    "1. Very little variance in p(D=1|T=1, X) (relative to the variance in alpha * p(T=1|X)\n",
    "2. Poor estimation of p(D=1|T=1, X) (due to small data e.g.)\n",
    "\n"
   ]
  },
  {
   "cell_type": "markdown",
   "id": "ca407eab",
   "metadata": {},
   "source": [
    "### 1. very little variance in p(D=1|T=1, X) relative to p(T=1|X) * alpha. \n",
    "\n",
    "verified that, for large datasets, crossing point occurs where we expect it to. Make data large so p(D=1|T=1, X) is well-estimated. "
   ]
  },
  {
   "cell_type": "code",
   "execution_count": null,
   "id": "b372e79d",
   "metadata": {},
   "outputs": [],
   "source": [
    "params = {'beta_XT':[0, 1, 2], \n",
    "          'beta_XD1':[0, 0.1, -0.1], # small coefficients so little variance\n",
    "          'beta_D0':None,\n",
    "          'intercept_D0':-0.3,\n",
    "         'N':100000}\n",
    "\n",
    "results = fit_param_set_and_print_results(params)"
   ]
  },
  {
   "cell_type": "markdown",
   "id": "c25c75cd",
   "metadata": {},
   "source": [
    "### 2. Very small dataset for estimating p(D=1|T=1, X). This produces inconsistent correlations for p(D=1|T=1, X) - sometimes they happen to be good, but often they're not. \n"
   ]
  },
  {
   "cell_type": "code",
   "execution_count": null,
   "id": "94f4ca0e",
   "metadata": {},
   "outputs": [],
   "source": [
    "params = {'beta_XT':[-2] + list(0.5 * np.random.randn(10,)), \n",
    "          'beta_XD1':[1] + list(0.1 * np.random.randn(10,)), \n",
    "          'beta_D0':None,\n",
    "          'intercept_D0':-0.5,\n",
    "         'N':500}\n",
    "\n",
    "results = fit_param_set_and_print_results(params)"
   ]
  },
  {
   "cell_type": "markdown",
   "id": "ce93bc0a",
   "metadata": {},
   "source": [
    "# run systematic simulation of both phenomena. "
   ]
  },
  {
   "cell_type": "markdown",
   "id": "6ac28503",
   "metadata": {},
   "source": [
    "# what about non-constant unobservables"
   ]
  },
  {
   "cell_type": "markdown",
   "id": "38aef5e5",
   "metadata": {},
   "source": [
    "### 1. Vary the variance in p(D=1|T=1, X) by varying beta_XD1 (proportional unobservables). "
   ]
  },
  {
   "cell_type": "code",
   "execution_count": null,
   "id": "47ceee89",
   "metadata": {},
   "outputs": [],
   "source": [
    "N_TRIALS_PER_SETTING = 50\n",
    "default_param_set = {'beta_XT':[0, 1, 2], \n",
    "          'beta_D0':[1, 0, 0],\n",
    "          'intercept_D0':0, \n",
    "         'N':10000, \n",
    "        'make_plot':False}\n",
    "simulation_results = run_simulations_varying_parameter(default_param_set=default_param_set, \n",
    "                                param_to_vary='beta_XD1',\n",
    "                                param_vals=[[0, beta_i, -beta_i] for beta_i in 10 ** np.linspace(-2, 0, 20)],\n",
    "                                n_trials_per_setting=N_TRIALS_PER_SETTING, \n",
    "                                x_axis_names=['$\\sigma_{p_{Y_{T=1}}}/\\sigma_{p_T}$', '$\\sigma_{p_{Y_{T=1}}}/\\sigma_{p_{T0}*u(X)}$'],\n",
    "                                x_axis_fxns=[sd_p_d_over_sd_p_t, sd_p_d_over_sd_p_t0_times_u],\n",
    "                                x_crossover_points=None,# [1, 0.2] \n",
    "                                y_axis_names=[CORRELATION_DIFF_LATEX_NAME, 'Pr(D wins)'],\n",
    "                                y_axis_fxns=[difference_in_correlations, D_better_correlated], \n",
    "                                quantities_to_print_but_not_plot_names=['Corr(D_estimate, D_ground_truth)', 'Corr(T_estimate, T_ground_truth)', 'p_D_T0_out_of_range_frac'], \n",
    "                                quantities_to_print_but_not_plot_fxns=[corr_p_d_estimate_with_p_d_ground_truth, corr_p_t_estimate_with_p_t_ground_truth, p_D_T0_out_of_range_frac], \n",
    "                                plot_filename_string='simulation_vary_variance_in_p_d.pdf')\n",
    "    "
   ]
  },
  {
   "cell_type": "markdown",
   "id": "025dd6e7",
   "metadata": {},
   "source": [
    "### 2. vary accuracy of estimating p(D=1|X) by altering sample size (proportional unobservables). "
   ]
  },
  {
   "cell_type": "code",
   "execution_count": null,
   "id": "0225e856",
   "metadata": {},
   "outputs": [],
   "source": [
    "# one issue with this default_param_set is that because \n",
    "# we just randomly generate 25 coefficients, results can vary a bit from run to run. \n",
    "# we set a seed to deal with this. An alternative would be to set this by hand but that feels \n",
    "# somewhat hacky. The reason we do 25 coefficients is to make it harder to estimate p(D=1|X).\n",
    "# the negative intercept on beta_XT means that the mean of p(T) is low. \n",
    "np.random.seed(43)\n",
    "default_param_set = {'beta_XT':[-2] + list(0.5 * np.random.randn(25,)), \n",
    "          'beta_XD1':[1] + list(0.1 * np.random.randn(25,)), \n",
    "          'beta_D0':[1] + [0 for i in range(25)],\n",
    "          'intercept_D0':0,\n",
    "          'make_plot':False}\n",
    "simulation_results = run_simulations_varying_parameter(default_param_set=default_param_set, \n",
    "                                param_to_vary='N',\n",
    "                                param_vals=[500, 600, 700, 800, 900, 1000, 1500, 2000, 3000, 5000, 10000],\n",
    "                                n_trials_per_setting=N_TRIALS_PER_SETTING, \n",
    "                                x_axis_names=['$corr(\\hat p_{Y_{T=1}}, p_{Y_{T=1}})$'],\n",
    "                                x_axis_fxns=[corr_p_d_estimate_with_p_d_ground_truth],\n",
    "                                x_crossover_points=None,\n",
    "                                y_axis_names=[CORRELATION_DIFF_LATEX_NAME, 'Pr(D wins)'],\n",
    "                                y_axis_fxns=[difference_in_correlations, D_better_correlated], \n",
    "                                quantities_to_print_but_not_plot_names=['sd_p_D/sd_p_T', 'sd_p_D/sd(p(T=0)*u)', 'Corr(T_estimate, T_ground_truth)', 'p_D_T0_out_of_range_frac'], \n",
    "                                quantities_to_print_but_not_plot_fxns=[sd_p_d_over_sd_p_t, sd_p_d_over_sd_p_t0_times_u, corr_p_t_estimate_with_p_t_ground_truth, p_D_T0_out_of_range_frac], \n",
    "                                plot_filename_string='simulation_vary_estimation_quality_of_p_d.pdf')"
   ]
  },
  {
   "cell_type": "markdown",
   "id": "de62da96",
   "metadata": {},
   "source": [
    "# Repeat analyses above using constant unobesrvables. These do not make it into the final paper. "
   ]
  },
  {
   "cell_type": "markdown",
   "id": "a7130ea3",
   "metadata": {},
   "source": [
    "### 1. Vary the variance in p(D=1|T=1, X) by varying beta_XD1 (constant unobservables). "
   ]
  },
  {
   "cell_type": "code",
   "execution_count": null,
   "id": "753b2236",
   "metadata": {},
   "outputs": [],
   "source": [
    "default_param_set = {'beta_XT':[0, 1, 2], \n",
    "          'beta_D0':None,\n",
    "          'intercept_D0':-0.2, # constant unobservables. \n",
    "         'N':10000, \n",
    "        'make_plot':False}\n",
    "simulation_results = run_simulations_varying_parameter(default_param_set=default_param_set, \n",
    "                                param_to_vary='beta_XD1',\n",
    "                                param_vals=[[0, beta_i, -beta_i] for beta_i in 10 ** np.linspace(-1, 0, 20)],\n",
    "                                n_trials_per_setting=N_TRIALS_PER_SETTING, \n",
    "                                x_axis_names=['$\\sigma_{p_{Y_{T=1}}}/\\sigma_{p_T}$', '$\\sigma_{p_{Y_{T=1}}}/\\sigma_{p_{T0}*u(X)}$'],\n",
    "                                x_axis_fxns=[sd_p_d_over_sd_p_t, sd_p_d_over_sd_p_t0_times_u],\n",
    "                                x_crossover_points=None,# [1, 0.2] \n",
    "                                y_axis_names=[CORRELATION_DIFF_LATEX_NAME, 'Pr(D wins)'],\n",
    "                                y_axis_fxns=[difference_in_correlations, D_better_correlated], \n",
    "                                quantities_to_print_but_not_plot_names=['Corr(D_estimate, D_ground_truth)', 'Corr(T_estimate, T_ground_truth)', 'p_D_T0_out_of_range_frac'], \n",
    "                                quantities_to_print_but_not_plot_fxns=[corr_p_d_estimate_with_p_d_ground_truth, corr_p_t_estimate_with_p_t_ground_truth, p_D_T0_out_of_range_frac], \n",
    "                                plot_filename_string='simulation_vary_variance_in_p_d_CONSTANT_UNOBSERVABLES.pdf')\n",
    "    "
   ]
  },
  {
   "cell_type": "markdown",
   "id": "9cd63f81",
   "metadata": {},
   "source": [
    "### 2. vary accuracy of estimating p(D=1|X) by altering sample size (constant unobservables). "
   ]
  },
  {
   "cell_type": "code",
   "execution_count": null,
   "id": "ad5441b8",
   "metadata": {},
   "outputs": [],
   "source": [
    "# one issue with this default_param_set is that because \n",
    "# we just randomly generate 25 coefficients, results can vary a bit from run to run. \n",
    "# we set a seed to deal with this. An alternative would be to set this by hand but that feels \n",
    "# somewhat hacky. The reason we do 25 coefficients is to make it harder to estimate p(D=1|X).\n",
    "# the negative intercept on beta_XT means that the mean of p(T) is low. \n",
    "np.random.seed(43)\n",
    "default_param_set = {'beta_XT':[-2] + list(0.5 * np.random.randn(25,)), \n",
    "          'beta_XD1':[1] + list(0.1 * np.random.randn(25,)), \n",
    "          'beta_D0':None,\n",
    "          'intercept_D0':-0.2,\n",
    "          'make_plot':False}\n",
    "simulation_results = run_simulations_varying_parameter(default_param_set=default_param_set, \n",
    "                                param_to_vary='N',\n",
    "                                param_vals=[500, 600, 700, 800, 900, 1000, 1500, 2000, 3000, 5000, 10000],\n",
    "                                n_trials_per_setting=N_TRIALS_PER_SETTING, \n",
    "                                x_axis_names=['$corr(\\hat p_{Y_{T=1}}, p_{Y_{T=1}})$'],\n",
    "                                x_axis_fxns=[corr_p_d_estimate_with_p_d_ground_truth],\n",
    "                                x_crossover_points=None,\n",
    "                                y_axis_names=[CORRELATION_DIFF_LATEX_NAME, 'Pr(D wins)'],\n",
    "                                y_axis_fxns=[difference_in_correlations, D_better_correlated], \n",
    "                                quantities_to_print_but_not_plot_names=['sd_p_D/sd_p_T', 'sd_p_D/sd(p(T=0)*u)', 'Corr(T_estimate, T_ground_truth)', 'p_D_T0_out_of_range_frac'], \n",
    "                                quantities_to_print_but_not_plot_fxns=[sd_p_d_over_sd_p_t, sd_p_d_over_sd_p_t0_times_u, corr_p_t_estimate_with_p_t_ground_truth, p_D_T0_out_of_range_frac], \n",
    "                                plot_filename_string='simulation_vary_estimation_quality_of_p_d_CONSTANT_UNOBSERVABLES.pdf')"
   ]
  },
  {
   "cell_type": "code",
   "execution_count": null,
   "id": "20615cc6",
   "metadata": {},
   "outputs": [],
   "source": []
  }
 ],
 "metadata": {
  "kernelspec": {
   "display_name": "Python 3 (ipykernel)",
   "language": "python",
   "name": "python3"
  },
  "language_info": {
   "codemirror_mode": {
    "name": "ipython",
    "version": 3
   },
   "file_extension": ".py",
   "mimetype": "text/x-python",
   "name": "python",
   "nbconvert_exporter": "python",
   "pygments_lexer": "ipython3",
   "version": "3.9.15"
  }
 },
 "nbformat": 4,
 "nbformat_minor": 5
}
